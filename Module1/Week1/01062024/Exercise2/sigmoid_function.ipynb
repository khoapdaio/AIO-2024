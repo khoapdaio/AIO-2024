{
 "cells": [
  {
   "metadata": {},
   "cell_type": "markdown",
   "source": [
    "* Sigmoid Function: Sigmoid Function, hay còn được gọi là logistic function, là một trong những activation function cơ bản nhất trong machine learning và neural networks. Hình dạng của n giống như chữ \"S\". Sigmoid chuyển đổi mọi giá trị đầu vào thành một giá trị đầu ra nằm trong khoảng 0 và 1. \n",
    "\t+ Ứng dụng: Sigmoid Function thường đự sử dung tỏng các bài toán phân loại nhị phân nơi mà mục tiêu là phân loại đầu vào thành một trong hai lớp.\n",
    "\t    + Ưu điểm: \n",
    "        \t- Dễ hiểu và triển khai: Do tính chất đơn giản và phổ biến, Sigmoid được triển khai trong nhiều loại mạng neuron \n",
    "            - Đầu ra nằm trong khoảng [0,1]: Giá trị đầu ra luôn nằm trong khoảng từ 0 đến 1, giúp đễ dàng diễn giải như xác suất\n",
    "\t    + Nhược điểm:\n",
    "\t        - Vanishing gradient problem: Khi đầu vào có gí trị lớn hoặc nhỏ, đạo hàm của sigmoid tiệm cần đến 0, dẫn đến vấn đề vanishing gradient, làm chậm quá trình học của mạng \n",
    "\t        - Tâm đối xứng không tại 0: tâm đối xứng không nằm tại điểm 0, điều này có thể gây ra vấn đề trong việc điều chỉnh trọng số trong quá trình học.\n",
    "> sigmoid(x) = $\\frac{1}{1+e^{-x}}$\n"
   ],
   "id": "483e314c87f4c67e"
  },
  {
   "metadata": {
    "ExecuteTime": {
     "end_time": "2024-06-05T03:34:23.723629Z",
     "start_time": "2024-06-05T03:34:23.715978Z"
    }
   },
   "cell_type": "code",
   "source": [
    "import math\n",
    "import random\n",
    "\n",
    "\n",
    "def sigmoid( x ):\n",
    "\t\"\"\"\n",
    "    Hàm Sigmoid chuẩn.\n",
    "  \n",
    "    Args:\n",
    "      x: Giá trị đầu vào.\n",
    "  \n",
    "    Returns:\n",
    "      Giá trị đầu ra sau khi áp dụng hàm Sigmoid.\n",
    "    \"\"\"\n",
    "\treturn 1 / (1 + math.exp(-x))\n",
    "\n",
    "\n",
    "# Hàm chính của chương trình\n",
    "def main():\n",
    "  \"\"\"\n",
    "  Hàm này tạo ra một danh sách ngẫu nhiên các số nguyên và áp dụng hàm Sigmoid cho mỗi phần tử trong danh sách.\n",
    "  \"\"\"\n",
    "  # Tạo một danh sách rỗng để lưu trữ các số ngẫu nhiên\n",
    "  random_list = []\n",
    "\n",
    "  # Đặt số lượng số ngẫu nhiên cần tạo\n",
    "  n = 100\n",
    "\n",
    "  # Đặt giới hạn dưới và giới hạn trên cho phạm vi số ngẫu nhiên\n",
    "  l = 0\n",
    "  r = 1\n",
    "\n",
    "  # Lặp để tạo danh sách n số ngẫu nhiên\n",
    "  for _ in range(n):\n",
    "    # Tạo một số ngẫu nhiên trong khoảng [l, r]\n",
    "    random_num = random.randint(l, r)\n",
    "    # Thêm số ngẫu nhiên vào danh sách\n",
    "    random_list.append(random_num)\n",
    "\n",
    "  # Sử dụng list comprehension để áp dụng hàm Sigmoid cho mỗi phần tử \n",
    "  # trong danh sách random_list và tạo danh sách kết quả\n",
    "  sigmoid_list = [sigmoid(i) for i in random_list]\n",
    "\n",
    "  # In danh sách kết quả sau khi áp dụng Sigmoid\n",
    "  print(sigmoid_list)\n",
    "\n",
    "\n",
    "# Khối này đảm bảo mã chỉ chạy khi tập lệnh được thực thi trực tiếp\n",
    "if __name__ == '__main__':\n",
    "  main()\n",
    "    \n"
   ],
   "id": "f077576896b0f779",
   "outputs": [
    {
     "name": "stdout",
     "output_type": "stream",
     "text": [
      "[0.5, 0.7310585786300049, 0.7310585786300049, 0.7310585786300049, 0.5, 0.5, 0.5, 0.5, 0.7310585786300049, 0.5, 0.7310585786300049, 0.7310585786300049, 0.5, 0.5, 0.7310585786300049, 0.5, 0.5, 0.7310585786300049, 0.5, 0.7310585786300049, 0.7310585786300049, 0.7310585786300049, 0.7310585786300049, 0.7310585786300049, 0.7310585786300049, 0.5, 0.7310585786300049, 0.5, 0.5, 0.7310585786300049, 0.7310585786300049, 0.7310585786300049, 0.7310585786300049, 0.5, 0.7310585786300049, 0.5, 0.7310585786300049, 0.5, 0.5, 0.7310585786300049, 0.5, 0.5, 0.7310585786300049, 0.5, 0.7310585786300049, 0.7310585786300049, 0.5, 0.5, 0.5, 0.5, 0.5, 0.7310585786300049, 0.5, 0.7310585786300049, 0.7310585786300049, 0.5, 0.5, 0.7310585786300049, 0.5, 0.5, 0.5, 0.7310585786300049, 0.5, 0.7310585786300049, 0.5, 0.7310585786300049, 0.5, 0.7310585786300049, 0.5, 0.5, 0.7310585786300049, 0.5, 0.7310585786300049, 0.7310585786300049, 0.7310585786300049, 0.7310585786300049, 0.5, 0.7310585786300049, 0.5, 0.5, 0.5, 0.7310585786300049, 0.7310585786300049, 0.7310585786300049, 0.7310585786300049, 0.7310585786300049, 0.7310585786300049, 0.7310585786300049, 0.7310585786300049, 0.5, 0.5, 0.7310585786300049, 0.5, 0.7310585786300049, 0.5, 0.5, 0.7310585786300049, 0.5, 0.5, 0.7310585786300049]\n"
     ]
    }
   ],
   "execution_count": 3
  },
  {
   "metadata": {},
   "cell_type": "code",
   "outputs": [],
   "execution_count": null,
   "source": "",
   "id": "880ca1e07b121149"
  }
 ],
 "metadata": {
  "kernelspec": {
   "display_name": "Python 3",
   "language": "python",
   "name": "python3"
  },
  "language_info": {
   "codemirror_mode": {
    "name": "ipython",
    "version": 2
   },
   "file_extension": ".py",
   "mimetype": "text/x-python",
   "name": "python",
   "nbconvert_exporter": "python",
   "pygments_lexer": "ipython2",
   "version": "2.7.6"
  }
 },
 "nbformat": 4,
 "nbformat_minor": 5
}
