{
 "cells": [
  {
   "metadata": {},
   "cell_type": "markdown",
   "source": [
    "* ELU function: ELU, viết tắt của Exponential Linear Unit, là một loại activation function được sử dụng trong neural network. Được đề xuất bởi Djok-Arne Clevert và các cộng sự vào năm 2015, ELU nhằm mục đích giải quyết một số vấn đề của các activation functions trước đây như ReLU. ReLU giảm thiểu vấn đề vanishing gradient ở các giá trị âm, đồng thời vẫn duy trì tính phi tuyến cần thiết cho quá trình học sâu\n",
    "* Ứng dụng: ELU chủ yếu được sử dụng tỏng các mạng neuron sâu, đặc biệt là những nơi cần giải quyết vấn đề vanishing gradient. ELU thường được sử dụng trong các mô hình học sâu phức tạp nh convolutional neural networks (CNNs) và recurrent neural networks (RNNs) để cải thiện tốc độ học v hiệu suất của mô hình \n",
    "* Ưu điểm:\n",
    "    + Hiệu suất cao: trong một số trường hợp, ELU cho thấy hiệu suất tốt hơn so với các activation function khác nhau ReLU và Leaky ReLU, đặc biệt trong các mạng sâu.\n",
    "    + Có đầu ra âm: Việc này giúp duy trì một phân phối đầu ra cân bằng hơn, có thể cải thiện khả năng học của mô hình\n",
    "* Nhược điểm:\n",
    "    + Tính toán phức tạp hơn: Do cấu trúc phức tp của công thức, ELU đòi hỏi nhiều chi phí tính toán hơn so với ReLU\n",
    "    + Lựa chọn $\\alpha$: Việc lựa chọn giá trị của $\\alpha$ có thể ảnh hưởng đáng kể đến hiệu suất của mô hình và nó không có một quy tắc cụ thể nào, đòi hỏi phải thử nghiệm để tìm ra giá trị phù hợp.\n",
    "> ELU(x) = $\\{^{\\alpha(e^x-1) \\if x \\le 0}_{x \\if x \\gt 0} $"
   ],
   "id": "3bc2810f23b7567e"
  },
  {
   "metadata": {
    "ExecuteTime": {
     "end_time": "2024-06-05T07:35:29.500425Z",
     "start_time": "2024-06-05T07:35:29.492676Z"
    }
   },
   "cell_type": "code",
   "source": [
    "import math\n",
    "import random\n",
    "\n",
    "\n",
    "def elu( x, alpha = 1.0 ):\n",
    "\t\"\"\"\n",
    "    Hàm mô phỏng ELU (Exponential Linear Unit) Function.\n",
    "  \n",
    "    Args:\n",
    "      x: Giá trị đầu vào.\n",
    "      alpha: Tham số điều chỉnh độ dốc của phần âm. Giá trị mặc định là 1.0.\n",
    "  \n",
    "    Returns:\n",
    "      Giá trị đầu ra sau khi áp dụng hàm ELU.\n",
    "    \"\"\"\n",
    "\tif x >= 0:\n",
    "\t\treturn x\n",
    "\telse:\n",
    "\t\treturn alpha * (math.exp(x) - 1)\n",
    "\n",
    "\n",
    "# Hàm chính của chương trình\n",
    "def main():\n",
    "  \"\"\"\n",
    "  Hàm này tạo ra một danh sách ngẫu nhiên các số nguyên và áp dụng hàm ELU cho mỗi phần tử trong danh sách.\n",
    "  \"\"\"\n",
    "  # Tạo một danh sách rỗng để lưu trữ các số ngẫu nhiên\n",
    "  random_list = []\n",
    "\n",
    "  # Đặt số lượng số ngẫu nhiên cần tạo\n",
    "  n = 100\n",
    "\n",
    "  # Đặt giới hạn dưới và giới hạn trên cho phạm vi số ngẫu nhiên\n",
    "  l = 0\n",
    "  r = 1\n",
    "\n",
    "  # Đặt tham số alpha cho hàm ELU\n",
    "  a = 1.0\n",
    "\n",
    "  # Tạo số ngẫu nhiên và thêm vào danh sách\n",
    "  for _ in range(n):\n",
    "    random_num = random.randint(l, r)\n",
    "    random_list.append(random_num)\n",
    "\n",
    "  # Áp dụng hàm ELU cho mỗi phần tử trong danh sách sử dụng list comprehension\n",
    "  elu_list = [elu(i, a) for i in random_list]\n",
    "\n",
    "  # In danh sách kết quả sau khi áp dụng ELU\n",
    "  print(elu_list)\n",
    "\n",
    "\n",
    "# Khối này đảm bảo mã chỉ chạy khi tập lệnh được thực thi trực tiếp\n",
    "if __name__ == '__main__':\n",
    "  main()\n"
   ],
   "id": "50c0413e7b785622",
   "outputs": [
    {
     "name": "stdout",
     "output_type": "stream",
     "text": [
      "[0, 0, 0, 0, 1, 0, 1, 0, 0, 0, 1, 0, 1, 1, 0, 0, 0, 1, 0, 0, 1, 1, 1, 1, 1, 0, 1, 0, 1, 0, 1, 1, 1, 0, 0, 1, 0, 1, 0, 1, 1, 0, 1, 0, 1, 0, 0, 1, 0, 1, 0, 0, 1, 1, 0, 0, 1, 0, 0, 0, 1, 0, 0, 0, 1, 1, 0, 0, 0, 0, 1, 0, 0, 1, 1, 1, 0, 0, 0, 0, 1, 1, 1, 0, 1, 1, 1, 0, 0, 1, 1, 1, 1, 1, 0, 0, 0, 0, 0, 1]\n"
     ]
    }
   ],
   "execution_count": 4
  },
  {
   "metadata": {},
   "cell_type": "code",
   "outputs": [],
   "execution_count": null,
   "source": "",
   "id": "f440a4353f7b170b"
  }
 ],
 "metadata": {
  "kernelspec": {
   "display_name": "Python 3",
   "language": "python",
   "name": "python3"
  },
  "language_info": {
   "codemirror_mode": {
    "name": "ipython",
    "version": 2
   },
   "file_extension": ".py",
   "mimetype": "text/x-python",
   "name": "python",
   "nbconvert_exporter": "python",
   "pygments_lexer": "ipython2",
   "version": "2.7.6"
  }
 },
 "nbformat": 4,
 "nbformat_minor": 5
}
