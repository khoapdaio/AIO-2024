{
 "cells": [
  {
   "metadata": {},
   "cell_type": "markdown",
   "source": [
    " #### Viết function trả về một dictionary đếm số lượng chữ xuất hiện trong một từ, với key là chữ cái và value là số lần xuất hiện:\n",
    "- Input: một từ\n",
    "- Output: dictionary đếm số lần các chữ xuất hiện\n",
    "- Note: Giả sử các từ nhập vào đều có các chữ cái thuộc [a-z] hoặc [A-Z]"
   ],
   "id": "51f929f92e8a05ee"
  },
  {
   "metadata": {
    "ExecuteTime": {
     "end_time": "2024-08-26T02:04:42.725876Z",
     "start_time": "2024-08-26T02:04:42.710240Z"
    }
   },
   "cell_type": "code",
   "source": [
    "def character_count(word: str) -> dict:\n",
    "\t\"\"\"\n",
    "\tHàm này đếm số lần xuất hiện của mỗi ký tự trong từ đầu vào và trả về một từ điển\n",
    "\tchứa các ký tự và số lần xuất hiện của chúng, được sắp xếp theo thứ tự tăng dần\n",
    "\tcủa số lần xuất hiện.\n",
    "\t\"\"\"\n",
    "\t# Loại bỏ khoảng cách của từ đầu vào\n",
    "\tword = word.strip()\n",
    "\t# Khởi tạo từ điển kết quả\n",
    "\tresult = dict()\n",
    "\n",
    "\t# Duyệt qua từng ký tự trong từ đầu vào\n",
    "\tfor i, letter in enumerate(word):\n",
    "\t\t# Nếu ký tự không thuộc bảng chữ cái, đưa ra thông báo lỗi\n",
    "\t\tif not letter.isalpha():\n",
    "\t\t\tprint(f\"Từ [{i}] ko thuộc bảng chữ cái\")\n",
    "\t\t\treturn dict()\n",
    "\n",
    "\t\t# Nếu ký tự chưa có trong từ điển kết quả, thêm vào với giá trị 1\n",
    "\t\tif letter not in result:\n",
    "\t\t\tresult[letter] = 1\n",
    "\t\telse:\n",
    "\t\t\t# Nếu ký tự đã có trong từ điển kết quả, tăng giá trị lên 1\n",
    "\t\t\tresult[letter] = result.get(letter) + 1\n",
    "\n",
    "\t# Trả về từ điển kết quả được sắp xếp theo số lần xuất hiện của các ký tự\n",
    "\treturn dict(sorted(result.items(), key = lambda item: item[1]))\n"
   ],
   "id": "a404b132519b7147",
   "outputs": [],
   "execution_count": 1
  },
  {
   "metadata": {
    "ExecuteTime": {
     "end_time": "2024-08-26T02:04:45.601790Z",
     "start_time": "2024-08-26T02:04:45.596056Z"
    }
   },
   "cell_type": "code",
   "source": [
    "string = 'Happiness'\n",
    "result = {'H': 1, 'a': 1, 'i': 1, 'n': 1, 'e': 1, 'p': 2, 's': 2}\n",
    "assert character_count(string) == result\n",
    "string = 'Happines0'\n",
    "assert character_count(string) == dict()"
   ],
   "id": "ed4b19784fd6af66",
   "outputs": [
    {
     "name": "stdout",
     "output_type": "stream",
     "text": [
      "Từ [8] ko thuộc bảng chữ cái\n"
     ]
    }
   ],
   "execution_count": 2
  },
  {
   "metadata": {},
   "cell_type": "code",
   "outputs": [],
   "execution_count": null,
   "source": "",
   "id": "4df6b065ab1c6d1a"
  }
 ],
 "metadata": {
  "kernelspec": {
   "display_name": "Python 3",
   "language": "python",
   "name": "python3"
  },
  "language_info": {
   "codemirror_mode": {
    "name": "ipython",
    "version": 2
   },
   "file_extension": ".py",
   "mimetype": "text/x-python",
   "name": "python",
   "nbconvert_exporter": "python",
   "pygments_lexer": "ipython2",
   "version": "2.7.6"
  }
 },
 "nbformat": 4,
 "nbformat_minor": 5
}
