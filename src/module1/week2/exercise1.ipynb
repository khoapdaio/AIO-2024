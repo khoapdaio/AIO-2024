{
 "cells": [
  {
   "metadata": {},
   "cell_type": "markdown",
   "source": "Cho một list các số nguyên num_list và một sliding window có kích thước size k di chuyển từ trái sang phải. Mỗi lần dịch chuyển 1 vị trí sang phải có thể nhìn thấy đươc k số trong num_list và tìm số lớn nhất trong k số này sau mỗi lần trượt k phảilớn hơn hoặc bằng 1",
   "id": "83368d4ab2b2168b"
  },
  {
   "cell_type": "code",
   "id": "initial_id",
   "metadata": {
    "collapsed": true,
    "ExecuteTime": {
     "end_time": "2024-08-26T01:50:04.043047Z",
     "start_time": "2024-08-26T01:50:04.032825Z"
    }
   },
   "source": [
    "def max_kernel(num_list: list, k: int = 1) -> list:\n",
    "\t\"\"\"\n",
    "\tHàm này tìm giá trị lớn nhất trong mỗi đoạn con có độ dài k của danh sách đầu vào\n",
    "    và trả về danh sách các giá trị lớn nhất đó.\n",
    "    Nếu k bằng 1, hàm sẽ trả về chính danh sách đầu vào.\n",
    "    \"\"\"\n",
    "\t# Lấy độ dài của danh sách\n",
    "\tlength_list = len(num_list)\n",
    "\t# Nếu danh sách rỗng, trả về danh sách rỗng\n",
    "\tif length_list <= 0:\n",
    "\t\treturn num_list\n",
    "\t# Nếu k bằng 0, đưa ra thông báo lỗi\n",
    "\tif k == 0:\n",
    "\t\tprint(\"K phải lớn hơn hoặc bằng 1\")\n",
    "\t\treturn []\n",
    "\t# Khởi tạo giá trị lớn nhất là phần tử đầu tiên của danh sách\n",
    "\tmax_numb = num_list[0]\n",
    "\t# Tạo danh sách rỗng để lưu trữ các giá trị lớn nhất\n",
    "\tmax_numb_list = list()\n",
    "\t# Duyệt qua danh sách từ 0 đến độ dài của danh sách trừ đi k cộng 1\n",
    "\tfor i in range(0, length_list - k + 1):\n",
    "\t\t# Duyệt qua k phần tử tiếp theo từ vị trí hiện tại\n",
    "\t\tfor j in range(i, i + k):\n",
    "\t\t\t# Nếu tìm thấy phần tử lớn hơn, cập nhật giá trị lớn nhất\n",
    "\t\t\tif num_list[j] > max_numb:\n",
    "\t\t\t\tmax_numb = num_list[j]\n",
    "\t\t# Thêm giá trị lớn nhất vào danh sách kết quả\n",
    "\t\tmax_numb_list.append(max_numb)\n",
    "\treturn max_numb_list\n"
   ],
   "outputs": [],
   "execution_count": 1
  },
  {
   "metadata": {
    "ExecuteTime": {
     "end_time": "2024-08-26T02:01:29.737285Z",
     "start_time": "2024-08-26T02:01:29.732248Z"
    }
   },
   "cell_type": "code",
   "source": [
    "# create 2 test case for function max_kernel\n",
    "# test case 1: num_list = [3, 4, 5, 1, -44, 5, 10, 12, 33, 1], k = 3\n",
    "# test case 2: num_list = [3, 4, 5, 1, -44, 5, 10, 12, 33, 1], k = 1\n",
    "# test case 2: num_list = [3, 4, 5, 1, -44, 5, 10, 12, 33, 1], k = 0\n",
    "\n",
    "num_list = [3, 4, 5, 1, -44, 5, 10, 12, 33, 1]\n",
    "# Test case 1:\n",
    "k1 = 3\n",
    "assert max_kernel(num_list, k1) == [5, 5, 5, 5, 10, 12, 33, 33]\n",
    "\n",
    "# Test case 2:\n",
    "k2 = 1\n",
    "assert max_kernel([], k2) == []\n",
    "\n",
    "# Test case 3:\n",
    "k3 = 0\n",
    "assert max_kernel(num_list, k3) == []\n",
    "\n"
   ],
   "id": "48b81ff75f38ee62",
   "outputs": [
    {
     "name": "stdout",
     "output_type": "stream",
     "text": [
      "K phải lớn hơn hoặc bằng 1\n"
     ]
    }
   ],
   "execution_count": 13
  },
  {
   "metadata": {},
   "cell_type": "code",
   "outputs": [],
   "execution_count": null,
   "source": "",
   "id": "8fa21efa92d8b2d8"
  }
 ],
 "metadata": {
  "kernelspec": {
   "display_name": "Python 3",
   "language": "python",
   "name": "python3"
  },
  "language_info": {
   "codemirror_mode": {
    "name": "ipython",
    "version": 2
   },
   "file_extension": ".py",
   "mimetype": "text/x-python",
   "name": "python",
   "nbconvert_exporter": "python",
   "pygments_lexer": "ipython2",
   "version": "2.7.6"
  }
 },
 "nbformat": 4,
 "nbformat_minor": 5
}
