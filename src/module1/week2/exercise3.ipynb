{
 "cells": [
  {
   "metadata": {},
   "cell_type": "markdown",
   "source": [
    "#### Viết function đọc các câu trong một file txt, đếm số lượng các từ xuất hiện và trả về một dictionary với key là từ và value là số lần từ đó xuất hiện.\n",
    "- Input: Đường dẫn đến file txt\n",
    "- Output: dictionary đếm số lần các từ xuất hiện\n",
    "- Note:\n",
    "- Giả sử các từ trong file txt đều có các chữ cái thuộc [a-z] hoặc [A-Z]\n",
    "- Không cần các thao tác xử lý string phức tạp nhưng cần xử lý các từ đều là viết\n",
    "thường\n",
    "- Các bạn dùng lệnh này để download\n",
    "- !gdown https://drive.google.com/uc?id=1IBScGdW2xlNsc9v5zSAya548kNgiOrko\n"
   ],
   "id": "65df4d4268dcff95"
  },
  {
   "metadata": {},
   "cell_type": "markdown",
   "source": "##### Đầu tiên ta có hàm đọc file",
   "id": "9e3147be7e8a119d"
  },
  {
   "metadata": {
    "ExecuteTime": {
     "end_time": "2024-08-26T02:10:27.080873Z",
     "start_time": "2024-08-26T02:10:27.067874Z"
    }
   },
   "cell_type": "code",
   "source": [
    "def read(path, mode = 'r', separator = ','):\n",
    "\t\"\"\"\n",
    "\tHàm này đọc dữ liệu từ tệp văn bản đầu vào và trả về danh sách các từ được phân tách\n",
    "\tbởi ký tự phân tách (separator).\n",
    "\t\"\"\"\n",
    "\n",
    "\ttry:\n",
    "\t\t# Mở tệp và đọc nội dung\n",
    "\t\twith open(path, mode) as file:\n",
    "\t\t\tdu_lieu = [line.strip().split(separator) for line in file.readlines()]\n",
    "\t\treturn du_lieu\n",
    "\texcept Exception as e:\n",
    "\t\t# In thông báo lỗi nếu có lỗi xảy ra khi đọc tệp\n",
    "\t\tprint(f\"Có lỗi xảy ra khi đọc data: {e}\")\n",
    "\t\treturn None\n"
   ],
   "id": "f44317f3ebb5259b",
   "outputs": [],
   "execution_count": 1
  },
  {
   "metadata": {},
   "cell_type": "markdown",
   "source": "##### Tiếp đến là hàm đến số từ trong danh sách",
   "id": "d8293c57d65d0bf4"
  },
  {
   "metadata": {
    "ExecuteTime": {
     "end_time": "2024-08-26T02:10:28.067813Z",
     "start_time": "2024-08-26T02:10:28.060311Z"
    }
   },
   "cell_type": "code",
   "source": [
    "def count_word_list(list_word: list, result: dict):\n",
    "\t\"\"\"\n",
    "\tHàm đệ quy này đếm số lần xuất hiện của mỗi từ trong danh sách từ và cập nhật từ điển kết quả.\n",
    "\t\"\"\"\n",
    "\n",
    "\t# Duyệt qua từng từ trong danh sách\n",
    "\tfor i, word in enumerate(list_word):\n",
    "\t\t# Nếu từ là một danh sách con, gọi đệ quy để xử lý danh sách con đó\n",
    "\t\tif type(word) is list:\n",
    "\t\t\tcount_word_list(word, result)\n",
    "\t\telse:\n",
    "\t\t\t# Nếu từ bắt đầu bằng chữ hoa, bỏ qua\n",
    "\t\t\tif word.istitle():\n",
    "\t\t\t\tcontinue\n",
    "\t\t\t# Nếu từ chưa có trong từ điển kết quả, thêm vào với giá trị 1\n",
    "\t\t\tif word not in result:\n",
    "\t\t\t\tresult[word] = 1\n",
    "\t\t\telse:\n",
    "\t\t\t\t# Nếu từ đã có trong từ điển kết quả, tăng giá trị lên 1\n",
    "\t\t\t\tresult[word] = result.get(word) + 1"
   ],
   "id": "a7d4f93af6f449e1",
   "outputs": [],
   "execution_count": 2
  },
  {
   "metadata": {},
   "cell_type": "markdown",
   "source": "##### Cuối cùng ta có hàm đến từ ",
   "id": "d3d466894443dc29"
  },
  {
   "metadata": {
    "ExecuteTime": {
     "end_time": "2024-08-26T02:10:35.700468Z",
     "start_time": "2024-08-26T02:10:35.694597Z"
    }
   },
   "cell_type": "code",
   "source": [
    "def count_word(path: str) -> dict:\n",
    "\t\"\"\"\n",
    "\tHàm này đếm số lần xuất hiện của mỗi từ trong tệp văn bản đầu vào và trả về một từ điển\n",
    "\tchứa các từ và số lần xuất hiện của chúng, được sắp xếp theo thứ tự tăng dần của số lần xuất hiện.\n",
    "\t\"\"\"\n",
    "\n",
    "\t# Khởi tạo từ điển kết quả\n",
    "\tresult = dict()\n",
    "\n",
    "\t# Đọc danh sách các từ từ tệp văn bản\n",
    "\tlist_word = read(path, separator = ' ')\n",
    "\n",
    "\tif list_word is None:\n",
    "\t\treturn dict()\n",
    "\n",
    "\t# Đếm số lần xuất hiện của các từ trong danh sách\n",
    "\tcount_word_list(list_word, result)\n",
    "\n",
    "\t# Trả về từ điển kết quả được sắp xếp theo số lần xuất hiện của các từ\n",
    "\treturn dict(sorted(result.items(), key = lambda item: item[1]))\n"
   ],
   "id": "7eb0160d4dc6603d",
   "outputs": [],
   "execution_count": 3
  },
  {
   "metadata": {
    "ExecuteTime": {
     "end_time": "2024-08-26T02:12:15.213852Z",
     "start_time": "2024-08-26T02:12:15.205876Z"
    }
   },
   "cell_type": "code",
   "source": [
    "file_path = '../../../data/module1/week2/P1_data.txt'\n",
    "\n",
    "result = {'conquers': 1, 'himself': 1, 'mightiest': 1, 'warrior': 1, 'not': 1, 'but': 1, 'rather': 1,\n",
    "          'value': 1,\n",
    "          'courage': 1, 'makes': 1, 'majority': 1, 'secret': 1, 'be': 1, 'ready': 1, 'opportunity': 1,\n",
    "          'profit': 1,\n",
    "          'from': 1, 'mistakes': 1, 'and': 1, 'try': 1, 'again': 1, 'different': 1, 'way': 1, 'lay': 1,\n",
    "          'firm': 1,\n",
    "          'foundation': 1, 'bricks': 1, 'others': 1, 'have': 1, 'thrown': 1, 'at': 1, 'him': 1, 'usually': 1,\n",
    "          'those': 1, 'are': 1, 'too': 1, 'busy': 1, 'looking': 1, 'cannot': 1, 'solve': 1, 'problems': 1,\n",
    "          'kind': 1, 'thinking': 1, 'employed': 1, 'came': 1, 'up': 1, 'them': 1, 'small': 1, 'positive': 1,\n",
    "          'thought': 1, 'morning': 1, 'change': 1, 'your': 1, 'whole': 1, 'day': 1, 'everything': 1, 'if': 1,\n",
    "          'just': 1, 'help': 1, 'enough': 1, 'other': 1, 'people': 1, 'what': 1, 'they': 1, 'become': 2,\n",
    "          'success': 2, 'life': 2, 'his': 2, 'when': 2, 'it': 2, 'comes': 2, 'successful': 2, 'will': 2,\n",
    "          'one': 2,\n",
    "          'we': 2, 'get': 2, 'you': 2, 'want': 2, 'who': 3, 'is': 3, 'to': 3, 'for': 3, 'can': 3, 'the': 4,\n",
    "          'of': 4,\n",
    "          'with': 4, 'in': 4, 'a': 6, 'man': 6}\n",
    "assert count_word(file_path)== result\n",
    "file_path = 'P2_data_1.txt'\n",
    "assert count_word(file_path)==dict()"
   ],
   "id": "b4d888e73d4f7841",
   "outputs": [
    {
     "name": "stdout",
     "output_type": "stream",
     "text": [
      "Có lỗi xảy ra khi đọc data: [Errno 2] No such file or directory: 'P2_data_1.txt'\n"
     ]
    }
   ],
   "execution_count": 7
  },
  {
   "metadata": {},
   "cell_type": "code",
   "outputs": [],
   "execution_count": null,
   "source": "",
   "id": "ca8793732fe93443"
  }
 ],
 "metadata": {
  "kernelspec": {
   "display_name": "Python 3",
   "language": "python",
   "name": "python3"
  },
  "language_info": {
   "codemirror_mode": {
    "name": "ipython",
    "version": 2
   },
   "file_extension": ".py",
   "mimetype": "text/x-python",
   "name": "python",
   "nbconvert_exporter": "python",
   "pygments_lexer": "ipython2",
   "version": "2.7.6"
  }
 },
 "nbformat": 4,
 "nbformat_minor": 5
}
