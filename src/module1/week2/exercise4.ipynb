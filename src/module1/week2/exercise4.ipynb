{
 "cells": [
  {
   "metadata": {},
   "cell_type": "markdown",
   "source": [
    "#### Viết chương trình tính khoảng cách chỉnh sửa tối thiểu Levenshtein. Khoảng cách Levenshtein thể hiện khoảng cách khác biệt giữa 2 chuỗi ký tự. Khoảng cách Levenshtein giữa chuỗi S và chuỗi T là số bước ít nhất biến chuỗi S thành chuỗi T thông qua 3 phép biến đổi là:\n",
    "- Xoá một ký tự\n",
    "- Thêm một ký tự\n",
    "- Thay thế ký tự này bằng ký tự khác\n"
   ],
   "id": "77f18ea68668428"
  },
  {
   "metadata": {
    "ExecuteTime": {
     "end_time": "2024-08-26T02:15:35.079545Z",
     "start_time": "2024-08-26T02:15:35.071544Z"
    }
   },
   "cell_type": "code",
   "source": [
    "\n",
    "def levenshtein_distance(s: str, t: str) -> int:\n",
    "\t\"\"\"\n",
    "\tHàm này tính khoảng cách Levenshtein giữa hai chuỗi s và t.\n",
    "\tKhoảng cách Levenshtein là số phép biến đổi tối thiểu (chèn, xóa, thay thế) cần thiết\n",
    "\tđể biến chuỗi s thành chuỗi t.\n",
    "\t\"\"\"\n",
    "\n",
    "\tm, n = len(s), len(t)\n",
    "\n",
    "\t# Tạo một bảng 2D để lưu trữ khoảng cách giữa các tiền tố của s và t\n",
    "\tdp = [[0] * (n + 1) for _ in range(m + 1)]\n",
    "\n",
    "\t# Khởi tạo bảng với các giá trị cơ sở\n",
    "\t# Khoảng cách từ chuỗi rỗng đến các tiền tố của s\n",
    "\tfor i in range(m + 1):\n",
    "\t\tdp[i][0] = i\n",
    "\t# Khoảng cách từ chuỗi rỗng đến các tiền tố của t\n",
    "\tfor j in range(n + 1):\n",
    "\t\tdp[0][j] = j\n",
    "\n",
    "\t# Tính toán khoảng cách Levenshtein\n",
    "\tfor i in range(1, m + 1):\n",
    "\t\tfor j in range(1, n + 1):\n",
    "\t\t\t# Nếu ký tự hiện tại của s và t giống nhau, không cần phép biến đổi nào\n",
    "\t\t\tif s[i - 1] == t[j - 1]:\n",
    "\t\t\t\tdp[i][j] = dp[i - 1][j - 1]\n",
    "\t\t\telse:\n",
    "\t\t\t\t# Nếu không, chọn phép biến đổi có chi phí nhỏ nhất trong ba phép biến đổi\n",
    "\t\t\t\tdp[i][j] = min(dp[i - 1][j] + 1,  # Xóa\n",
    "\t\t\t\t               dp[i][j - 1] + 1,  # Thêm\n",
    "\t\t\t\t               dp[i - 1][j - 1] + 1)  # Thay thế\n",
    "\n",
    "\t# Khoảng cách Levenshtein là giá trị ở góc dưới cùng bên phải của bảng\n",
    "\treturn dp[m][n]\n"
   ],
   "id": "d3f7a30aaf48bafe",
   "outputs": [],
   "execution_count": 1
  },
  {
   "metadata": {
    "ExecuteTime": {
     "end_time": "2024-08-26T02:15:35.837780Z",
     "start_time": "2024-08-26T02:15:35.833447Z"
    }
   },
   "cell_type": "code",
   "source": [
    "s = \"kitten\"\n",
    "t = \"sitting\"\n",
    "assert levenshtein_distance(s, t) == 3"
   ],
   "id": "defc992960865651",
   "outputs": [],
   "execution_count": 2
  },
  {
   "metadata": {},
   "cell_type": "code",
   "outputs": [],
   "execution_count": null,
   "source": "",
   "id": "8ccd45ad9c4a8e67"
  }
 ],
 "metadata": {
  "kernelspec": {
   "display_name": "Python 3",
   "language": "python",
   "name": "python3"
  },
  "language_info": {
   "codemirror_mode": {
    "name": "ipython",
    "version": 2
   },
   "file_extension": ".py",
   "mimetype": "text/x-python",
   "name": "python",
   "nbconvert_exporter": "python",
   "pygments_lexer": "ipython2",
   "version": "2.7.6"
  }
 },
 "nbformat": 4,
 "nbformat_minor": 5
}
