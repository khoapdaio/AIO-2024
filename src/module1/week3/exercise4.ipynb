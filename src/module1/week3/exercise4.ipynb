{
 "cells": [
  {
   "metadata": {},
   "cell_type": "markdown",
   "source": "#### Triển khai Queue",
   "id": "1ad8626706637807"
  },
  {
   "metadata": {
    "ExecuteTime": {
     "end_time": "2024-08-26T03:12:33.067132Z",
     "start_time": "2024-08-26T03:12:33.059730Z"
    }
   },
   "cell_type": "code",
   "source": [
    "class MyQueue:\n",
    "    def __init__(self, capacity):\n",
    "        self.capacity = capacity\n",
    "        self.queue = []\n",
    "\n",
    "    def is_empty(self):\n",
    "        return len(self.queue) == 0\n",
    "\n",
    "    def is_full(self):\n",
    "        return len(self.queue) == self.capacity\n",
    "\n",
    "    def dequeue(self):\n",
    "        if self.is_empty():\n",
    "            raise IndexError(\"Dequeue from an empty queue\")\n",
    "        return self.queue.pop(0)\n",
    "\n",
    "    def enqueue(self, value):\n",
    "        if self.is_full():\n",
    "            raise OverflowError(\"Enqueue to a full queue\")\n",
    "        self.queue.append(value)\n",
    "\n",
    "    def front(self):\n",
    "        if self.is_empty():\n",
    "            raise IndexError(\"Front from an empty queue\")\n",
    "        return self.queue[0]"
   ],
   "id": "d11826156f3a0bd0",
   "outputs": [],
   "execution_count": 1
  },
  {
   "metadata": {
    "ExecuteTime": {
     "end_time": "2024-08-26T03:12:33.596109Z",
     "start_time": "2024-08-26T03:12:33.589176Z"
    }
   },
   "cell_type": "code",
   "source": [
    "# Ví dụ sử dụng\n",
    "queue = MyQueue(3)\n",
    "queue.enqueue(1)\n",
    "queue.enqueue(2)\n",
    "queue.enqueue(3)\n",
    "\n",
    "print(\"Queue is full:\", queue.is_full())  # Output: True\n",
    "print(\"Front element:\", queue.front())    # Output: 1\n",
    "\n",
    "queue.dequeue()\n",
    "print(\"Front element after dequeue:\", queue.front())  # Output: 2\n",
    "print(\"Queue is empty:\", queue.is_empty())            # Output: False\n",
    "\n",
    "queue.dequeue()\n",
    "queue.dequeue()\n",
    "print(\"Queue is empty after dequeuing all elements:\", queue.is_empty())  # Output: True\n",
    "\n",
    "# Thử đẩy vào một phần tử vào queue đầy sẽ gây ra lỗi\n",
    "try:\n",
    "    queue.enqueue(1)\n",
    "    queue.enqueue(2)\n",
    "    queue.enqueue(3)\n",
    "    queue.enqueue(4)  # This will raise an OverflowError\n",
    "except OverflowError as e:\n",
    "    print(e)\n",
    "\n",
    "# Thử lấy phần tử đầu tiên từ queue rỗng sẽ gây ra lỗi\n",
    "try:\n",
    "    queue.dequeue()  # This will raise an IndexError\n",
    "except IndexError as e:\n",
    "    print(e)"
   ],
   "id": "7ac5d92edf86ee90",
   "outputs": [
    {
     "name": "stdout",
     "output_type": "stream",
     "text": [
      "Queue is full: True\n",
      "Front element: 1\n",
      "Front element after dequeue: 2\n",
      "Queue is empty: False\n",
      "Queue is empty after dequeuing all elements: True\n",
      "Enqueue to a full queue\n"
     ]
    }
   ],
   "execution_count": 2
  }
 ],
 "metadata": {
  "kernelspec": {
   "display_name": "Python 3",
   "language": "python",
   "name": "python3"
  },
  "language_info": {
   "codemirror_mode": {
    "name": "ipython",
    "version": 2
   },
   "file_extension": ".py",
   "mimetype": "text/x-python",
   "name": "python",
   "nbconvert_exporter": "python",
   "pygments_lexer": "ipython2",
   "version": "2.7.6"
  }
 },
 "nbformat": 4,
 "nbformat_minor": 5
}
