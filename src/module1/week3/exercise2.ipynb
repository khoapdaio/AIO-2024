{
 "cells": [
  {
   "metadata": {},
   "cell_type": "markdown",
   "source": "#### Triển khai OOP cơ bản ",
   "id": "2f4891fcb6a1e346"
  },
  {
   "metadata": {},
   "cell_type": "markdown",
   "source": "##### Triển khai Person Class",
   "id": "9dbefeb695add20e"
  },
  {
   "cell_type": "code",
   "id": "initial_id",
   "metadata": {
    "collapsed": true,
    "ExecuteTime": {
     "end_time": "2024-08-26T03:04:37.604251Z",
     "start_time": "2024-08-26T03:04:37.598338Z"
    }
   },
   "source": [
    "class Person:\n",
    "\tdef __init__(self, name, yob):\n",
    "\t\tself.name = name\n",
    "\t\tself.yob = yob\n",
    "\n",
    "\tdef describe(self):\n",
    "\t\treturn f\"Name: {self.name}, Year of Birth: {self.yob}\"\n"
   ],
   "outputs": [],
   "execution_count": 1
  },
  {
   "metadata": {},
   "cell_type": "markdown",
   "source": "##### Triển khai Student Class thừa kế từ Person Class",
   "id": "39dc2e0458dec589"
  },
  {
   "metadata": {
    "ExecuteTime": {
     "end_time": "2024-08-26T03:04:39.415820Z",
     "start_time": "2024-08-26T03:04:39.411091Z"
    }
   },
   "cell_type": "code",
   "source": [
    "class Student(Person):\n",
    "\tdef __init__(self, name, yob, grade):\n",
    "\t\tsuper().__init__(name, yob)\n",
    "\t\tself.grade = grade\n",
    "\n",
    "\tdef describe(self):\n",
    "\t\treturn f\"Student - {super().describe()}, Grade: {self.grade}\"\n",
    "\n"
   ],
   "id": "d8387b348e2f341a",
   "outputs": [],
   "execution_count": 2
  },
  {
   "metadata": {},
   "cell_type": "markdown",
   "source": "##### Triển khai lớp Teacher thừa kế từ Person Class",
   "id": "1723adc249caba81"
  },
  {
   "metadata": {
    "ExecuteTime": {
     "end_time": "2024-08-26T03:04:40.931894Z",
     "start_time": "2024-08-26T03:04:40.926843Z"
    }
   },
   "cell_type": "code",
   "source": [
    "class Teacher(Person):\n",
    "\tdef __init__(self, name, yob, subject):\n",
    "\t\tsuper().__init__(name, yob)\n",
    "\t\tself.subject = subject\n",
    "\n",
    "\tdef describe(self):\n",
    "\t\treturn f\"Teacher - {super().describe()}, Subject: {self.subject}\"\n",
    "\n"
   ],
   "id": "d0610cbbdf7ae5f6",
   "outputs": [],
   "execution_count": 3
  },
  {
   "metadata": {},
   "cell_type": "markdown",
   "source": "##### Triển khai lớp Doctor thừa kế từ lớp Person",
   "id": "33ad451d82d1a122"
  },
  {
   "metadata": {
    "ExecuteTime": {
     "end_time": "2024-08-26T03:04:42.061404Z",
     "start_time": "2024-08-26T03:04:42.056491Z"
    }
   },
   "cell_type": "code",
   "source": [
    "\n",
    "class Doctor(Person):\n",
    "\tdef __init__(self, name, yob, specialist):\n",
    "\t\tsuper().__init__(name, yob)\n",
    "\t\tself.specialist = specialist\n",
    "\n",
    "\tdef describe(self):\n",
    "\t\treturn f\"Doctor - {super().describe()}, Specialist: {self.specialist}\"\n"
   ],
   "id": "2211f86c0004eb78",
   "outputs": [],
   "execution_count": 4
  },
  {
   "metadata": {},
   "cell_type": "markdown",
   "source": "Triển khai lớp Ward",
   "id": "1c207af3b388293c"
  },
  {
   "metadata": {
    "ExecuteTime": {
     "end_time": "2024-08-26T03:04:43.719488Z",
     "start_time": "2024-08-26T03:04:43.710485Z"
    }
   },
   "cell_type": "code",
   "source": [
    "class Ward:\n",
    "\tdef __init__(self, name):\n",
    "\t\tself.name = name\n",
    "\t\tself.people = []\n",
    "\n",
    "\tdef add_person(self, person):\n",
    "\t\tself.people.append(person)\n",
    "\n",
    "\tdef describe(self):\n",
    "\t\tdescription = f\"Ward: {self.name}\\n\"\n",
    "\t\tdescription += \"\\n\".join([person.describe() for person in self.people])\n",
    "\t\treturn description\n",
    "\n",
    "\tdef count_doctor(self):\n",
    "\t\treturn sum(1 for person in self.people if isinstance(person, Doctor))\n",
    "\n",
    "\tdef sort_age(self, reverse: bool = False):\n",
    "\t\tself.people.sort(key = lambda person: person.yob, reverse = reverse)\n",
    "\n",
    "\tdef compute_average(self):\n",
    "\t\tteachers = [person for person in self.people if isinstance(person, Teacher)]\n",
    "\t\tif not teachers:\n",
    "\t\t\treturn 0\n",
    "\t\ttotal_yob = sum(teacher.yob for teacher in teachers)\n",
    "\t\treturn total_yob / len(teachers)\n"
   ],
   "id": "3cf8d1e448d058f0",
   "outputs": [],
   "execution_count": 5
  },
  {
   "metadata": {},
   "cell_type": "markdown",
   "source": "##### Test ",
   "id": "bed33cf93e1cf0e0"
  },
  {
   "metadata": {
    "ExecuteTime": {
     "end_time": "2024-08-26T03:09:25.581176Z",
     "start_time": "2024-08-26T03:09:25.576193Z"
    }
   },
   "cell_type": "code",
   "source": [
    "\n",
    "ward = Ward(\"Ward A\")\n",
    "student = Student(\"Student One\", 2005, \"B\")\n",
    "teacher1 = Teacher(\"Teacher One\", 1980, \"Science\")\n",
    "teacher2 = Teacher(\"Teacher Two\", 1990, \"History\")\n",
    "doctor1 = Doctor(\"Doctor One\", 1975, \"Dermatology\")\n",
    "doctor2 = Doctor(\"Doctor Two\", 1985, \"Neurology\")\n",
    "ward.add_person(student)\n",
    "ward.add_person(teacher1)\n",
    "ward.add_person(teacher2)\n",
    "ward.add_person(doctor1)\n",
    "ward.add_person(doctor2)\n",
    "\n",
    "\n"
   ],
   "id": "77a2292ccef8a5d0",
   "outputs": [],
   "execution_count": 25
  },
  {
   "metadata": {
    "ExecuteTime": {
     "end_time": "2024-08-26T03:09:26.258145Z",
     "start_time": "2024-08-26T03:09:26.253199Z"
    }
   },
   "cell_type": "code",
   "source": [
    "person_test = Person(\"John Doe\", 1990)\n",
    "assert person_test.describe() == \"Name: John Doe, Year of Birth: 1990\"\n",
    "\n",
    "student_test = Student(\"Jane Doe\", 2000, \"A\")\n",
    "assert student_test.describe() == \"Student - Name: Jane Doe, Year of Birth: 2000, Grade: A\"\n",
    "\n",
    "teacher_test = Teacher(\"Alice Smith\", 1985, \"Math\")\n",
    "assert teacher_test.describe() == \"Teacher - Name: Alice Smith, Year of Birth: 1985, Subject: Math\"\n",
    "\n",
    "doctor_test = Doctor(\"Bob Brown\", 1975, \"Cardiology\")\n",
    "assert doctor_test.describe() == \"Doctor - Name: Bob Brown, Year of Birth: 1975, Specialist: Cardiology\"\n"
   ],
   "id": "b4809617a0ce4d62",
   "outputs": [],
   "execution_count": 26
  },
  {
   "metadata": {
    "ExecuteTime": {
     "end_time": "2024-08-26T03:09:27.684931Z",
     "start_time": "2024-08-26T03:09:27.679584Z"
    }
   },
   "cell_type": "code",
   "source": [
    "ward_b = Ward(\"Ward B\")\n",
    "ward_b.add_person(student)\n",
    "assert len(ward_b.people) == 1\n",
    "assert ward_b.people.index(student) == 0"
   ],
   "id": "2d43c2d637fa88c2",
   "outputs": [],
   "execution_count": 27
  },
  {
   "metadata": {
    "ExecuteTime": {
     "end_time": "2024-08-26T03:09:28.860119Z",
     "start_time": "2024-08-26T03:09:28.854818Z"
    }
   },
   "cell_type": "code",
   "source": [
    "description = ward.describe()\n",
    "assert \"Ward: Ward A\" in description\n",
    "assert \"Student - Name: Student One, Year of Birth: 2005, Grade: B\" in description\n",
    "assert \"Teacher - Name: Teacher One, Year of Birth: 1980, Subject: Science\" in description\n",
    "assert \"Teacher - Name: Teacher Two, Year of Birth: 1990, Subject: History\" in description\n",
    "assert \"Doctor - Name: Doctor One, Year of Birth: 1975, Specialist: Dermatology\" in description\n",
    "assert \"Doctor - Name: Doctor Two, Year of Birth: 1985, Specialist: Neurology\" in description"
   ],
   "id": "a4bce778d9bc6ad0",
   "outputs": [],
   "execution_count": 28
  },
  {
   "metadata": {
    "ExecuteTime": {
     "end_time": "2024-08-26T03:09:29.265009Z",
     "start_time": "2024-08-26T03:09:29.260330Z"
    }
   },
   "cell_type": "code",
   "source": "assert ward.count_doctor() == 2",
   "id": "e0845244e9a07338",
   "outputs": [],
   "execution_count": 29
  },
  {
   "metadata": {
    "ExecuteTime": {
     "end_time": "2024-08-26T03:09:29.886965Z",
     "start_time": "2024-08-26T03:09:29.880855Z"
    }
   },
   "cell_type": "code",
   "source": [
    "ward.sort_age()\n",
    "\n",
    "assert ward.people[0] == doctor1\n",
    "assert ward.people[-1] == student\n",
    "ward.sort_age(reverse = True)\n",
    "assert ward.people[0] == student\n",
    "assert ward.people[-1] == doctor1\n"
   ],
   "id": "483bfb9231563c8f",
   "outputs": [],
   "execution_count": 30
  },
  {
   "metadata": {},
   "cell_type": "code",
   "outputs": [],
   "execution_count": null,
   "source": [
    "average_yob = ward.compute_average()\n",
    "assert average_yob == (1980 + 1990) / 2"
   ],
   "id": "5910b46e24518e7e"
  }
 ],
 "metadata": {
  "kernelspec": {
   "display_name": "Python 3",
   "language": "python",
   "name": "python3"
  },
  "language_info": {
   "codemirror_mode": {
    "name": "ipython",
    "version": 2
   },
   "file_extension": ".py",
   "mimetype": "text/x-python",
   "name": "python",
   "nbconvert_exporter": "python",
   "pygments_lexer": "ipython2",
   "version": "2.7.6"
  }
 },
 "nbformat": 4,
 "nbformat_minor": 5
}
