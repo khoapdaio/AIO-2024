{
 "cells": [
  {
   "metadata": {},
   "cell_type": "markdown",
   "source": "#### Triển khai softmax ổn định (Softmax Stable)",
   "id": "bcb7b67d5e438968"
  },
  {
   "metadata": {
    "ExecuteTime": {
     "end_time": "2024-08-26T02:27:17.017782Z",
     "start_time": "2024-08-26T02:27:14.458767Z"
    }
   },
   "cell_type": "code",
   "source": [
    "import torch\n",
    "import torch.nn as nn\n",
    "\n",
    "\n",
    "class Softmax(nn.Module):\n",
    "\tdef __init__(self):\n",
    "\t\tsuper(Softmax, self).__init__()\n",
    "\n",
    "\tdef forward(self, x):\n",
    "\t\t# Kiểm tra xem đầu vào có phải là tensor 1 chiều hay không\n",
    "\t\tif x.dim() != 1:\n",
    "\t\t\traise ValueError(\"Đầu vào phải là một tensor 1 chiều\")\n",
    "\n",
    "\t\t# Tính lũy thừa của từng phần tử trong tensor\n",
    "\t\texp_x = torch.exp(x)\n",
    "\n",
    "\t\t# Chia từng phần tử lũy thừa cho tổng các giá trị lũy thừa để tính softmax\n",
    "\t\treturn exp_x / torch.sum(exp_x)\n",
    "\n",
    "\n",
    "class SoftmaxStable(nn.Module):\n",
    "\tdef __init__(self):\n",
    "\t\tsuper(SoftmaxStable, self).__init__()\n",
    "\n",
    "\tdef forward(self, x):\n",
    "\t\t# Kiểm tra xem đầu vào có phải là tensor 1 chiều hay không\n",
    "\t\tif x.dim() != 1:\n",
    "\t\t\traise ValueError(\"Đầu vào phải là một tensor 1 chiều\")\n",
    "\n",
    "\t\t# Lấy giá trị lớn nhất trong tensor để trừ đi từng phần tử, giúp tăng độ ổn định tính toán\n",
    "\t\tmax_x = torch.max(x)\n",
    "\n",
    "\t\t# Tính lũy thừa của từng phần tử sau khi trừ đi giá trị lớn nhất\n",
    "\t\texp_x = torch.exp(x - max_x)\n",
    "\n",
    "\t\t# Chia từng phần tử lũy thừa cho tổng các giá trị lũy thừa để tính softmax\n",
    "\t\treturn exp_x / torch.sum(exp_x)\n",
    "\n",
    "\n"
   ],
   "id": "b79712253c770712",
   "outputs": [],
   "execution_count": 1
  },
  {
   "metadata": {
    "ExecuteTime": {
     "end_time": "2024-08-26T02:27:17.212763Z",
     "start_time": "2024-08-26T02:27:17.036764Z"
    }
   },
   "cell_type": "code",
   "source": [
    "# Ví dụ sử dụng\n",
    "x = torch.tensor([1.0, 2.0, 3.0])\n",
    "\n",
    "# Khởi tạo và sử dụng lớp Softmax\n",
    "softmax = Softmax()\n",
    "output = softmax(x)\n",
    "print(\"Kết quả Softmax:\", output)\n",
    "\n",
    "# Khởi tạo và sử dụng lớp SoftmaxStable\n",
    "softmax_stable = SoftmaxStable()\n",
    "output_stable = softmax_stable(x)\n",
    "print(\"Kết quả Softmax ổn định:\", output_stable)\n"
   ],
   "id": "8111267f079763b3",
   "outputs": [
    {
     "name": "stdout",
     "output_type": "stream",
     "text": [
      "Kết quả Softmax: tensor([0.0900, 0.2447, 0.6652])\n",
      "Kết quả Softmax ổn định: tensor([0.0900, 0.2447, 0.6652])\n"
     ]
    }
   ],
   "execution_count": 2
  },
  {
   "metadata": {},
   "cell_type": "code",
   "outputs": [],
   "execution_count": null,
   "source": "",
   "id": "412f11e1beb76a57"
  }
 ],
 "metadata": {
  "kernelspec": {
   "display_name": "Python 3",
   "language": "python",
   "name": "python3"
  },
  "language_info": {
   "codemirror_mode": {
    "name": "ipython",
    "version": 2
   },
   "file_extension": ".py",
   "mimetype": "text/x-python",
   "name": "python",
   "nbconvert_exporter": "python",
   "pygments_lexer": "ipython2",
   "version": "2.7.6"
  }
 },
 "nbformat": 4,
 "nbformat_minor": 5
}
