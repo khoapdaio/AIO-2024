{
 "cells": [
  {
   "metadata": {},
   "cell_type": "markdown",
   "source": "#### Triển khai Stack ",
   "id": "57fa6e24b97ed6ef"
  },
  {
   "metadata": {
    "ExecuteTime": {
     "end_time": "2024-08-26T03:11:12.332152Z",
     "start_time": "2024-08-26T03:11:12.325635Z"
    }
   },
   "cell_type": "code",
   "source": [
    "class MyStack:\n",
    "\tdef __init__(self, capacity):\n",
    "\t\tself.capacity = capacity\n",
    "\t\tself.stack = []\n",
    "\n",
    "\tdef is_empty(self):\n",
    "\t\treturn len(self.stack) == 0\n",
    "\n",
    "\tdef is_full(self):\n",
    "\t\treturn len(self.stack) == self.capacity\n",
    "\n",
    "\tdef pop(self):\n",
    "\t\tif self.is_empty():\n",
    "\t\t\traise IndexError(\"Pop from an empty stack\")\n",
    "\t\treturn self.stack.pop()\n",
    "\n",
    "\tdef push(self, value):\n",
    "\t\tif self.is_full():\n",
    "\t\t\traise OverflowError(\"Push to a full stack\")\n",
    "\t\tself.stack.append(value)\n",
    "\n",
    "\tdef top(self):\n",
    "\t\tif self.is_empty():\n",
    "\t\t\traise IndexError(\"Top from an empty stack\")\n",
    "\t\treturn self.stack[-1]"
   ],
   "id": "abf03b0054cf724a",
   "outputs": [],
   "execution_count": 1
  },
  {
   "metadata": {
    "ExecuteTime": {
     "end_time": "2024-08-26T03:11:12.967299Z",
     "start_time": "2024-08-26T03:11:12.960626Z"
    }
   },
   "cell_type": "code",
   "source": [
    "# Ví dụ sử dụng\n",
    "stack = MyStack(3)\n",
    "stack.push(1)\n",
    "stack.push(2)\n",
    "stack.push(3)\n",
    "\n",
    "print(\"Stack is full:\", stack.is_full())  # Output: True\n",
    "print(\"Top element:\", stack.top())  # Output: 3\n",
    "\n",
    "stack.pop()\n",
    "print(\"Top element after pop:\", stack.top())  # Output: 2\n",
    "print(\"Stack is empty:\", stack.is_empty())  # Output: False\n",
    "\n",
    "stack.pop()\n",
    "stack.pop()\n",
    "print(\"Stack is empty after popping all elements:\", stack.is_empty())  # Output: True\n",
    "\n",
    "# Thử đẩy vào một phần tử vào stack đầy sẽ gây ra lỗi\n",
    "try:\n",
    "\tstack.push(1)\n",
    "\tstack.push(2)\n",
    "\tstack.push(3)\n",
    "\tstack.push(4)  # This will raise an OverflowError\n",
    "except OverflowError as e:\n",
    "\tprint(e)\n",
    "\n",
    "# Thử lấy phần tử trên cùng từ stack rỗng sẽ gây ra lỗi\n",
    "try:\n",
    "\tstack.pop()  # This will raise an IndexError\n",
    "except IndexError as e:\n",
    "\tprint(e)\n"
   ],
   "id": "c1026a1dfa6648e1",
   "outputs": [
    {
     "name": "stdout",
     "output_type": "stream",
     "text": [
      "Stack is full: True\n",
      "Top element: 3\n",
      "Top element after pop: 2\n",
      "Stack is empty: False\n",
      "Stack is empty after popping all elements: True\n",
      "Push to a full stack\n"
     ]
    }
   ],
   "execution_count": 2
  },
  {
   "metadata": {},
   "cell_type": "code",
   "outputs": [],
   "execution_count": null,
   "source": "",
   "id": "ed63ceb1db4e4ad7"
  }
 ],
 "metadata": {
  "kernelspec": {
   "display_name": "Python 3",
   "language": "python",
   "name": "python3"
  },
  "language_info": {
   "codemirror_mode": {
    "name": "ipython",
    "version": 2
   },
   "file_extension": ".py",
   "mimetype": "text/x-python",
   "name": "python",
   "nbconvert_exporter": "python",
   "pygments_lexer": "ipython2",
   "version": "2.7.6"
  }
 },
 "nbformat": 4,
 "nbformat_minor": 5
}
