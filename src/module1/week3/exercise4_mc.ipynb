{
 "cells": [
  {
   "cell_type": "code",
   "id": "initial_id",
   "metadata": {
    "collapsed": true,
    "ExecuteTime": {
     "end_time": "2024-06-18T02:59:46.396076Z",
     "start_time": "2024-06-18T02:59:42.503001Z"
    }
   },
   "source": [
    "import torch\n",
    "import torch.nn as nn\n",
    "import math\n",
    "\n",
    "data = torch.Tensor([1, 2, 3])\n",
    "softmax_function = nn.Softmax(dim = 0)\n",
    "output = softmax_function(data)\n",
    "assert math.isclose(round(output[0].item(), 2), 0.09)\n",
    "output"
   ],
   "outputs": [
    {
     "data": {
      "text/plain": [
       "tensor([0.0900, 0.2447, 0.6652])"
      ]
     },
     "execution_count": 1,
     "metadata": {},
     "output_type": "execute_result"
    }
   ],
   "execution_count": 1
  },
  {
   "metadata": {
    "ExecuteTime": {
     "end_time": "2024-06-18T03:03:15.701012Z",
     "start_time": "2024-06-18T03:03:15.692236Z"
    }
   },
   "cell_type": "code",
   "source": [
    "import torch\n",
    "import torch.nn as nn\n",
    "\n",
    "\n",
    "class MySoftmax(nn.Module):\n",
    "\n",
    "\tdef __init__(self):\n",
    "\t\tsuper().__init__()\n",
    "\n",
    "\tdef forward(self, x):\n",
    "\t\t### Your Code Here\n",
    "\t\t# Kiểm tra xem đầu vào có phải là tensor 1 chiều hay không\n",
    "\t\tif x.dim() != 1:\n",
    "\t\t\traise ValueError(\"Đầu vào phải là một tensor 1 chiều\")\n",
    "\n",
    "\t\t# Tính lũy thừa của từng phần tử trong tensor\n",
    "\t\texp_x = torch.exp(x)\n",
    "\n",
    "\t\t# Chia từng phần tử lũy thừa cho tổng các giá trị lũy thừa để tính softmax\n",
    "\t\treturn exp_x / torch.sum(exp_x)\n",
    "\n",
    "\n",
    "### End Code Here\n",
    "\n",
    "\n",
    "data = torch.Tensor([5, 2, 4])\n",
    "my_softmax = MySoftmax()\n",
    "output = my_softmax(data)\n",
    "assert math.isclose(round(output[-1].item(), 2), 0.26)\n",
    "output"
   ],
   "id": "6a6476804de06694",
   "outputs": [
    {
     "data": {
      "text/plain": [
       "tensor([0.7054, 0.0351, 0.2595])"
      ]
     },
     "execution_count": 4,
     "metadata": {},
     "output_type": "execute_result"
    }
   ],
   "execution_count": 4
  },
  {
   "metadata": {
    "ExecuteTime": {
     "end_time": "2024-06-18T03:03:27.546234Z",
     "start_time": "2024-06-18T03:03:27.538727Z"
    }
   },
   "cell_type": "code",
   "source": [
    "data = torch.Tensor([1, 2, 300000000])\n",
    "my_softmax = MySoftmax()\n",
    "output = my_softmax(data)\n",
    "assert math.isclose(round(output[0].item(), 2), 0.0)\n",
    "output"
   ],
   "id": "ee8e94acc9689dce",
   "outputs": [
    {
     "data": {
      "text/plain": [
       "tensor([0., 0., nan])"
      ]
     },
     "execution_count": 5,
     "metadata": {},
     "output_type": "execute_result"
    }
   ],
   "execution_count": 5
  },
  {
   "metadata": {
    "ExecuteTime": {
     "end_time": "2024-06-18T03:04:00.828941Z",
     "start_time": "2024-06-18T03:04:00.817175Z"
    }
   },
   "cell_type": "code",
   "source": [
    "class SoftmaxStable(nn.Module):\n",
    "\tdef __init__(self):\n",
    "\t\tsuper(SoftmaxStable, self).__init__()\n",
    "\n",
    "\tdef forward(self, x):\n",
    "\t\t# Kiểm tra xem đầu vào có phải là tensor 1 chiều hay không\n",
    "\t\tif x.dim() != 1:\n",
    "\t\t\traise ValueError(\"Đầu vào phải là một tensor 1 chiều\")\n",
    "\n",
    "\t\t# Lấy giá trị lớn nhất trong tensor để trừ đi từng phần tử, giúp tăng độ ổn định tính toán\n",
    "\t\tmax_x = torch.max(x)\n",
    "\n",
    "\t\t# Tính lũy thừa của từng phần tử sau khi trừ đi giá trị lớn nhất\n",
    "\t\texp_x = torch.exp(x - max_x)\n",
    "\n",
    "\t\t# Chia từng phần tử lũy thừa cho tổng các giá trị lũy thừa để tính softmax\n",
    "\t\treturn exp_x / torch.sum(exp_x)\n",
    "\n",
    "\n",
    "data = torch.Tensor([1, 2, 3])\n",
    "softmax_stable = SoftmaxStable()\n",
    "output = softmax_stable(data)\n",
    "assert round(output[-1].item(), 2) == 0.67"
   ],
   "id": "c0f530fa39e044f3",
   "outputs": [
    {
     "data": {
      "text/plain": [
       "tensor([0.0900, 0.2447, 0.6652])"
      ]
     },
     "execution_count": 6,
     "metadata": {},
     "output_type": "execute_result"
    }
   ],
   "execution_count": 6
  },
  {
   "metadata": {},
   "cell_type": "code",
   "outputs": [],
   "execution_count": null,
   "source": "",
   "id": "27838e0fe68c1d5"
  }
 ],
 "metadata": {
  "kernelspec": {
   "display_name": "Python 3",
   "language": "python",
   "name": "python3"
  },
  "language_info": {
   "codemirror_mode": {
    "name": "ipython",
    "version": 2
   },
   "file_extension": ".py",
   "mimetype": "text/x-python",
   "name": "python",
   "nbconvert_exporter": "python",
   "pygments_lexer": "ipython2",
   "version": "2.7.6"
  }
 },
 "nbformat": 4,
 "nbformat_minor": 5
}
