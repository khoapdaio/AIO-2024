{
 "cells": [
  {
   "metadata": {},
   "cell_type": "markdown",
   "source": [
    "1. Viết function thực hiện đánh giá classification model bằng F1-Score: \n",
    "- Precision = TP / (TP + FP)\n",
    "- Recall = TP / (TP + FN)\n",
    "- F1 - score = 2 * (Precision * Recall)/(Precision + Recall)\n",
    "- Input: function nhận 3 giá trị tp, fp, fn\n",
    "- Output: print ra kết quả của Precision, Recall, và F1-score\n",
    "<br>NOTE: Đề bài yêu cầu các điều kiện sau:\n",
    "- Phải kiểm tra giá trị nhạn vào tp, fp, fn là type int, nếu là type khác thì print ví dụ check fn là float, print 'fn must be int' và thoát hàm hoặc dừng chương trình \n",
    "- Yêu cầu tp, fp, fn phải đều lớn hơn 0, nếu không thì print 'tp and fn must be greater than zero' và thoát hàm hoặc dừng chương trình "
   ],
   "id": "cc920ef667e60d1f"
  },
  {
   "metadata": {
    "ExecuteTime": {
     "end_time": "2024-06-05T01:32:31.347608Z",
     "start_time": "2024-06-05T01:32:31.340501Z"
    }
   },
   "cell_type": "code",
   "source": [
    "\n",
    "# This function serves as the entry point of the program\n",
    "def main():\n",
    "    # True positives (correctly classified positive cases)\n",
    "    tp = 123\n",
    "    # False positives (incorrectly classified positive cases)\n",
    "    fp = 'a'  # This should be an integer, fix it before running\n",
    "    # False negatives (missed positive cases)\n",
    "    fn = 123\n",
    "\n",
    "    # Call the evaluation function with the calculated values\n",
    "    evaluateClassification(tp=tp, fp=fp, fn=fn)\n",
    "\n",
    "\n",
    "# This function evaluates the classification performance based on provided inputs\n",
    "def evaluateClassification(tp, fp, fn):\n",
    "    # Ensure true positives is an integer\n",
    "    if type(tp) is not int:\n",
    "        print(\"tp must be an integer (number of true positives)\")\n",
    "        return\n",
    "\n",
    "    # Ensure false positives is an integer\n",
    "    if type(fp) is not int:\n",
    "        print(\"fp must be an integer (number of false positives)\")\n",
    "        return\n",
    "\n",
    "    # Ensure false negatives is an integer\n",
    "    if type(fn) is not int:\n",
    "        print(\"fn must be an integer (number of false negatives)\")\n",
    "        return\n",
    "\n",
    "    # Ensure all inputs are greater than zero to avoid division by zero\n",
    "    if tp == 0 or fp == 0 or fn == 0:\n",
    "        print(\"tp, fp, and fn must all be greater than zero\")\n",
    "        return\n",
    "\n",
    "    # Calculate precision using a separate function\n",
    "    precision = calculatePrecision(tp, fp)\n",
    "\n",
    "    # Calculate recall using a separate function\n",
    "    recall = calculateRecall(tp, fn)\n",
    "\n",
    "    # Print the precision value\n",
    "    print(f\"Precision is {precision}\")\n",
    "\n",
    "    # Print the recall value\n",
    "    print(f\"Recall is {recall}\")\n",
    "\n",
    "    # Calculate F1-score using a separate function and print the result\n",
    "    print(f\"F1-score is {calculateF1Score(precision, recall)}\")\n",
    "\n",
    "    return\n",
    "\n",
    "\n",
    "# This function calculates precision based on true and false positives\n",
    "def calculatePrecision(tp, fp):\n",
    "    # Precision = tp / (tp + fp)\n",
    "    return tp / (tp + fp)\n",
    "\n",
    "\n",
    "# This function calculates recall based on true positives and false negatives\n",
    "def calculateRecall(tp, fn):\n",
    "    # Recall = tp / (tp + fn)\n",
    "    return tp / (tp + fn)\n",
    "\n",
    "\n",
    "# This function calculates F1-score based on precision and recall\n",
    "def calculateF1Score(precision, recall):\n",
    "    # F1-score = 2 * ((precision * recall) / (precision + recall))\n",
    "    return 2 * ((precision * recall) / (precision + recall))\n",
    "\n",
    "\n",
    "# This block ensures the code within only runs when the script is executed directly\n",
    "if __name__ == '__main__':\n",
    "    main()"
   ],
   "id": "2b48ea79e68cb013",
   "outputs": [
    {
     "name": "stdout",
     "output_type": "stream",
     "text": [
      "fp must be int\n"
     ]
    }
   ],
   "execution_count": 2
  },
  {
   "metadata": {},
   "cell_type": "markdown",
   "source": [
    "- F1 - score là một thước đo hiệu suất được sử dụng phổ biến trong học máy để đánh giá mô hình phân loại nhị phân. Nó kết hợp hai chỉ số quan tỏng khác là Precision và Recall thành một điểm số duy nhất, giúp ta dễ dàng só sánh hiệu quả của các mô hình khác nhau\n",
    "- Precision thể hiện độ chính xác của mô hình trong việc dự đoán các điểm positive. Nói cách khác, precision cho ta biết tỷ lê các dự đoán positive của mô hình là chính xác\n",
    "- Recall thể hiện khả năng bao quát của mô hình trong việc tìm kiếm tất cả các điểm positive. Nói cách khác, Recall cho ta biết tỷ lệ các điểm positive thực tế được mô hình dự đoán chính xác "
   ],
   "id": "639e92bab94be12e"
  }
 ],
 "metadata": {
  "kernelspec": {
   "display_name": "Python 3",
   "language": "python",
   "name": "python3"
  },
  "language_info": {
   "codemirror_mode": {
    "name": "ipython",
    "version": 2
   },
   "file_extension": ".py",
   "mimetype": "text/x-python",
   "name": "python",
   "nbconvert_exporter": "python",
   "pygments_lexer": "ipython2",
   "version": "2.7.6"
  }
 },
 "nbformat": 4,
 "nbformat_minor": 5
}
