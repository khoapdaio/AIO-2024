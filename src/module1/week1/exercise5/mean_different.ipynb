{
 "cells": [
  {
   "metadata": {},
   "cell_type": "markdown",
   "source": [
    "- Là một kỹ thuật thông dụng trong các ứng dụng như phát hiện và theo dõi đối tượng.\n",
    "> $$\n",
    "MD_nRE = \\frac{1}{m} \\sum_{i=1}^m \\sqrt[n]{y_i - \\frac{p_n \\hat{y}_i}{p}}\n",
    "$$\n",
    "- MD_nRE: Sai số Trung bình Khác Biệt Gốc n (Mean Difference of nth Root Error)\n",
    "- m: Số lượng điểm dữ liệu (Number of data points)\n",
    "- i: Chỉ số điểm dữ liệu (Index of data point)\n",
    "- y_i: Giá trị thực của điểm dữ liệu thứ i (True value of ith data point)\n",
    "- p_n: Tỷ lệ lớp n (Proportion of class n)\n",
    "- \\hat{y}_i: Giá trị dự đoán của điểm dữ liệu thứ i cho lớp n (Predicted value of ith data point for class n)\n",
    "- p: Tỷ lệ tổng cộng của tất cả các lớp (Total proportion of all classes)"
   ],
   "id": "6eb54c48663ff650"
  },
  {
   "metadata": {},
   "cell_type": "code",
   "outputs": [],
   "execution_count": null,
   "source": "",
   "id": "2ec817071fb8f5ad"
  },
  {
   "metadata": {},
   "cell_type": "code",
   "outputs": [],
   "execution_count": null,
   "source": [
    "from math import sqrt  # Import thư viện cho các phép toán cơ bản như căn bậc hai\n",
    "\n",
    "def calculate_mdnre(y_true, y_pred, n):\n",
    "    \"\"\"\n",
    "    Tính toán Sai số Trung bình Khác Biệt Gốc n (MDnRE) giữa hai mảng.\n",
    "\n",
    "    Tham số:\n",
    "        y_true (list hoặc array): Mảng giá trị thực.\n",
    "        y_pred (list hoặc array): Mảng giá trị dự đoán.\n",
    "        n (int): Gốc n sử dụng trong tính toán sai số (ví dụ: 2 cho căn bậc hai, 3 cho căn bậc ba).\n",
    "\n",
    "    Trả về:\n",
    "        float: Giá trị Sai số Trung bình Khác Biệt Gốc n.\n",
    "\n",
    "    Ngoại lệ:\n",
    "        ValueError: Nếu hai mảng đầu vào có độ dài khác nhau.\n",
    "    \"\"\"\n",
    "\n",
    "    # Kiểm tra xem hai mảng đầu vào có cùng độ dài hay không\n",
    "    if len(y_true) != len(y_pred):\n",
    "        raise ValueError(\"Hai mảng đầu vào phải có cùng độ dài để tính MDnRE.\")\n",
    "\n",
    "    # Khởi tạo danh sách rỗng để lưu trữ sai số\n",
    "    errors = []\n",
    "\n",
    "    # Duyệt qua các phần tử tương ứng trong cả hai mảng\n",
    "    for i in range(len(y_true)):\n",
    "        # Tính toán sai số tuyệt đối giữa giá trị thực và giá trị dự đoán\n",
    "        absolute_difference = abs(y_true[i] - y_pred[i])\n",
    "\n",
    "        # Tính toán căn bậc n của sai số tuyệt đối\n",
    "        error = absolute_difference**(1/n)\n",
    "\n",
    "        # Thêm sai số đã tính toán vào danh sách errors\n",
    "        errors.append(error)\n",
    "\n",
    "    # Tính toán sai số trung bình bằng cách lấy trung bình các sai số\n",
    "    mean_difference = sum(errors) / len(errors)\n",
    "\n",
    "    # Trả về giá trị MDnRE đã tính toán\n",
    "    return mean_difference"
   ],
   "id": "ea3c1448fed21e35"
  }
 ],
 "metadata": {
  "kernelspec": {
   "display_name": "Python 3",
   "language": "python",
   "name": "python3"
  },
  "language_info": {
   "codemirror_mode": {
    "name": "ipython",
    "version": 2
   },
   "file_extension": ".py",
   "mimetype": "text/x-python",
   "name": "python",
   "nbconvert_exporter": "python",
   "pygments_lexer": "ipython2",
   "version": "2.7.6"
  }
 },
 "nbformat": 4,
 "nbformat_minor": 5
}
