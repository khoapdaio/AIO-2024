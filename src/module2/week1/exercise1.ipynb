{
 "cells": [
  {
   "cell_type": "code",
   "execution_count": null,
   "id": "initial_id",
   "metadata": {
    "collapsed": true
   },
   "outputs": [],
   "source": [
    "# Bài tập 1: Numpy cơ bản\n",
    "import numpy as np\n",
    "\n",
    "# Câu hỏi 1: Tạo mảng 1 chiều từ 0 đến 9\n",
    "\n",
    "arr = np.arange(0, 10, 1)\n",
    "print(arr)\n",
    "\n"
   ]
  },
  {
   "metadata": {},
   "cell_type": "code",
   "outputs": [],
   "execution_count": null,
   "source": [
    "# Câu hỏi 2: Cách tạo một mảng boolean 3x3 với tất cả giá trị là True\n",
    "\n",
    "arr = np.ones((3, 3), dtype = bool)\n",
    "print(arr)\n",
    "arr = np.ones((3, 3)) > 0\n",
    "print(arr)\n",
    "arr = np.full((3, 3), fill_value = True, dtype = bool)\n",
    "print(arr)\n",
    "\n"
   ],
   "id": "181af82780c677a7"
  },
  {
   "metadata": {},
   "cell_type": "code",
   "outputs": [],
   "execution_count": null,
   "source": [
    "\n",
    "# Câu hỏi 3: Kết quả của đoạn code sau đây:\n",
    "arr = np.arange(0, 10)\n",
    "print(arr[arr % 2 == 1])\n",
    "\n"
   ],
   "id": "88d3071b1e819bca"
  },
  {
   "metadata": {},
   "cell_type": "code",
   "outputs": [],
   "execution_count": null,
   "source": [
    "# Câu hỏi 4: Kết quả của đoạn code sau đây:\n",
    "\n",
    "arr = np.arange(0, 10)\n",
    "arr[arr % 2 == 1] = -1\n",
    "print(arr)\n",
    "\n"
   ],
   "id": "6795b5de7dffad9b"
  },
  {
   "metadata": {},
   "cell_type": "code",
   "outputs": [],
   "execution_count": null,
   "source": [
    "# Câu hỏi 5: Kết quả của đoạn code sau đây:\n",
    "arr = np.arange(10)\n",
    "print(arr)\n",
    "arr_2d = arr.reshape(2, -1)\n",
    "print(arr_2d)\n",
    "\n"
   ],
   "id": "ef158a042df7a57d"
  },
  {
   "metadata": {},
   "cell_type": "code",
   "outputs": [],
   "execution_count": null,
   "source": [
    "# Câu hỏi 6: Kết quả của đoạn code sau đây:\n",
    "\n",
    "arr1 = np.arange(10).reshape(2, -1)\n",
    "print(arr1)\n",
    "arr2 = np.repeat(1, 10).reshape(2, -1)\n",
    "print(arr2)\n",
    "c = np.concatenate([arr1, arr2], axis = 0)\n",
    "print(c)\n",
    "\n"
   ],
   "id": "9ac507f3775b61a0"
  },
  {
   "metadata": {},
   "cell_type": "code",
   "outputs": [],
   "execution_count": null,
   "source": [
    "# Câu hỏi 7: Kết quả của đoạn code sau đây:\n",
    "\n",
    "arr1 = np.arange(10).reshape(2, -1)\n",
    "print(arr1)\n",
    "arr2 = np.repeat(1, 10).reshape(2, -1)\n",
    "print(arr2)\n",
    "c = np.concatenate([arr1, arr2], axis = 1)\n",
    "print(c)\n",
    "\n"
   ],
   "id": "1e6e40be6d082e9c"
  },
  {
   "metadata": {},
   "cell_type": "code",
   "outputs": [],
   "execution_count": null,
   "source": [
    "# Câu hỏi 8: Kết quả của đoạn code sau đây:\n",
    "\n",
    "arr = np.array([1, 2, 3])\n",
    "print(np.repeat(arr, 3))\n",
    "print(np.tile(arr, 3))\n",
    "\n"
   ],
   "id": "9236d52a3ef219f8"
  },
  {
   "metadata": {},
   "cell_type": "code",
   "outputs": [],
   "execution_count": null,
   "source": [
    "# Câu hỏi 9: Kết quả của đoạn code sau đây:\n",
    "\n",
    "a = np.array([2, 6, 1, 9, 10, 3, 27])\n",
    "index = np.where((a >= 5) & (a <= 10))\n",
    "print(a[index])\n",
    "\n"
   ],
   "id": "7eb4a867ab5b3e62"
  },
  {
   "metadata": {},
   "cell_type": "code",
   "outputs": [],
   "execution_count": null,
   "source": [
    "\n",
    "# Câu hỏi 10: Kết quả của đoạn code sau đây:\n",
    "\n",
    "def maxx(x, y):\n",
    "\tif x >= y:\n",
    "\t\treturn x\n",
    "\telse:\n",
    "\t\treturn y\n",
    "\n",
    "\n",
    "a = np.array([5, 7, 9, 8, 6, 4, 5])\n",
    "b = np.array([6, 3, 4, 8, 9, 7, 1])\n",
    "\n",
    "pair_max = np.vectorize(maxx, otypes = [float])\n",
    "\n",
    "print(pair_max(a, b))\n",
    "\n"
   ],
   "id": "85dd44bacff23b1a"
  },
  {
   "metadata": {},
   "cell_type": "code",
   "outputs": [],
   "execution_count": null,
   "source": [
    "# Câu hỏi 11: Kết quả của đoạn code sau đây:\n",
    "\n",
    "a = np.array([5, 7, 9, 8, 6, 4, 5])\n",
    "b = np.array([6, 3, 4, 8, 9, 7, 1])\n",
    "\n",
    "print(np.where(a < b, b, a))"
   ],
   "id": "41d4230e5ae02e70"
  }
 ],
 "metadata": {
  "kernelspec": {
   "display_name": "Python 3",
   "language": "python",
   "name": "python3"
  },
  "language_info": {
   "codemirror_mode": {
    "name": "ipython",
    "version": 2
   },
   "file_extension": ".py",
   "mimetype": "text/x-python",
   "name": "python",
   "nbconvert_exporter": "python",
   "pygments_lexer": "ipython2",
   "version": "2.7.6"
  }
 },
 "nbformat": 4,
 "nbformat_minor": 5
}
