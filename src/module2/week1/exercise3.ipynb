{
 "cells": [
  {
   "cell_type": "code",
   "execution_count": null,
   "id": "initial_id",
   "metadata": {
    "collapsed": true
   },
   "outputs": [],
   "source": [
    "# Bài tập 3: Phân tích dữ liệu dạng bảng\n",
    "import pandas as pd\n",
    "\n",
    "df = pd.read_csv('../../../data/module2/week1/advertising.csv')\n",
    "\n",
    "data = df.to_numpy()\n",
    "print(data)"
   ]
  },
  {
   "metadata": {},
   "cell_type": "code",
   "outputs": [],
   "execution_count": null,
   "source": [
    "# Câu hỏi 15: Lấy giá trị lớn nhất và chỉ mục tương ứng của nó trên cột Sales:\n",
    "\n",
    "\n",
    "print(f\"max => {df['Sales'].max()}\")\n",
    "print(f\"index => {df['Sales'].idxmax()}\")"
   ],
   "id": "d4a8914185b37bf0"
  },
  {
   "metadata": {},
   "cell_type": "code",
   "outputs": [],
   "execution_count": null,
   "source": [
    "# Câu hỏi 16: Giá trị trung bình của cột TV là:\n",
    "print(f\"mean => {df['TV'].mean()}\")"
   ],
   "id": "101ba50edb6b62a8"
  },
  {
   "metadata": {},
   "cell_type": "code",
   "outputs": [],
   "execution_count": null,
   "source": [
    "# Câu hỏi 17: Số lượng bản ghi có giá trị tại cột Sales lớn hơn hoặc bằng 20 là:\n",
    "\n",
    "print(df[df['Sales'] >= 20]['Sales'].count())"
   ],
   "id": "d6598c702f36279e"
  },
  {
   "metadata": {},
   "cell_type": "code",
   "outputs": [],
   "execution_count": null,
   "source": [
    "# Câu hỏi 18: Tính giá trị trung bình của cột Radio thoả mãn điều kiện giá trị tương ứng\n",
    "# trên cột Sales lớn hơn hoặc bằng 15:\n",
    "\n",
    "print(df[df['Sales'] >= 15]['Radio'].mean())"
   ],
   "id": "5ed8334e37e4cbc5"
  },
  {
   "metadata": {},
   "cell_type": "code",
   "outputs": [],
   "execution_count": null,
   "source": [
    "\n",
    "# Câu hỏi 19: Tính tổng các hàng của cột Sales với điều kiện giá trị Newspaper lớn hơn\n",
    "# giá trị trung bình của cột Newspaper:\n",
    "\n",
    "mean_newspaper = df['Newspaper'].mean()\n",
    "\n",
    "print(f\"sum_sales => {df[df['Newspaper'] > mean_newspaper]['Sales'].sum()}\")"
   ],
   "id": "fb6f74de4f0fb0e9"
  },
  {
   "metadata": {},
   "cell_type": "code",
   "outputs": [],
   "execution_count": null,
   "source": [
    "# Câu hỏi 20: Gọi giá trị trung bình của cột Sales là A. Tạo ra mảng mới scores chứa các\n",
    "# giá trị Good, Average và Bad sao cho: nếu giá trị hiện tại > A => giá trị trong mảng mới\n",
    "# là Good, < A thì sẽ là Bad và = A sẽ là Average. Sau đó in ra kết quả scores[7:10]\n",
    "\n",
    "\n",
    "def evaluate_sales(value, mean):\n",
    "\tif value < mean:\n",
    "\t\treturn 'Bad'\n",
    "\telif value > mean:\n",
    "\t\treturn 'Good'\n",
    "\telse:\n",
    "\t\treturn 'Average'\n",
    "\n",
    "\n",
    "mean_sales = df['Sales'].mean()\n",
    "\n",
    "df['Scores'] = df['Sales'].apply(lambda e: evaluate_sales(e, mean_sales))\n",
    "\n",
    "print(df['Scores'][7:10])"
   ],
   "id": "5742c129d4fafc00"
  },
  {
   "metadata": {},
   "cell_type": "code",
   "outputs": [],
   "execution_count": null,
   "source": [
    "# Câu hỏi 21: Gọi giá trị trên cột Sales gần nhất với giá trị trung bình cũng chính cột\n",
    "# Sales là A. Tạo ra mảng mới scores chứa các giá trị Good, Average và Bad sao cho: nếu\n",
    "# giá trị hiện tại > A => giá trị trong mảng mới là Good, < A thì sẽ là Bad và = A sẽ là\n",
    "# Average. Sau đó in ra kết quả scores[7:10]\n",
    "\n",
    "# - df['Sales'] - mean_sales: Tính độ chênh lệch giữa từng giá trị trong cột Sales với giá trị trung bình.\n",
    "# - abs(): Lấy giá trị tuyệt đối của độ chênh lệch.\n",
    "# - argsort()[:1]: Lấy chỉ số của giá trị nhỏ nhất (gần nhất với giá trị trung bình).\n",
    "# - iloc[]: Lấy giá trị tại chỉ số đó.\n",
    "\n",
    "A = df.iloc[(df['Sales'] - mean_sales).abs().argsort()[:1]]['Sales'].values[0]\n",
    "print(A)\n",
    "df['Scores'] = df['Sales'].apply(lambda e: evaluate_sales(e, A))\n",
    "\n",
    "print(df['Scores'][7:10])"
   ],
   "id": "3fc33d9dee52d9ff"
  }
 ],
 "metadata": {
  "kernelspec": {
   "display_name": "Python 3",
   "language": "python",
   "name": "python3"
  },
  "language_info": {
   "codemirror_mode": {
    "name": "ipython",
    "version": 2
   },
   "file_extension": ".py",
   "mimetype": "text/x-python",
   "name": "python",
   "nbconvert_exporter": "python",
   "pygments_lexer": "ipython2",
   "version": "2.7.6"
  }
 },
 "nbformat": 4,
 "nbformat_minor": 5
}
