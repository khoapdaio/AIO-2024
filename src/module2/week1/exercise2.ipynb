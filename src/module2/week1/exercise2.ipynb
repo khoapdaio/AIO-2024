{
 "cells": [
  {
   "cell_type": "code",
   "execution_count": null,
   "id": "initial_id",
   "metadata": {
    "collapsed": true
   },
   "outputs": [],
   "source": [
    "# Bài tập 2: Xử lý ảnh\n",
    "import matplotlib.image as mpimg\n",
    "import numpy as np\n"
   ]
  },
  {
   "metadata": {},
   "cell_type": "code",
   "outputs": [],
   "execution_count": null,
   "source": [
    "# Câu hỏi 12: Hoàn thành đoạn code sau đây để chuyển ảnh màu sang ảnh xám dựa vào\n",
    "# phương pháp Lightness:\n",
    "\n",
    "# Lightness: Tính giá trị trung bình của giá trị lớn nhất và nhỏ nhất cho các kênh màu: (max(R,G,B)\n",
    "# + min(R,G,B))/2\n",
    "\n",
    "img = mpimg.imread('../../../data/module2/week1/dog.jpeg')\n",
    "gray_img_01 = (np.max(img[:, :3], axis = 2) + np.min(img[:, :3], axis = 2)) / 2\n",
    "\n",
    "print(gray_img_01[0, 0])"
   ],
   "id": "b67ad0e851be641d"
  },
  {
   "metadata": {},
   "cell_type": "code",
   "outputs": [],
   "execution_count": null,
   "source": [
    "# Câu hỏi 13: Hoàn thành đoạn code sau đây để chuyển ảnh màu sang ảnh xám dựa vào\n",
    "# phương pháp Average:\n",
    "# Average: Tính giá trị trung bình của 3 kênh màu: (R+G+B)/3\n",
    "\n",
    "img = mpimg.imread('../../../data/module2/week1/dog.jpeg')\n",
    "gray_img_02 = np.mean(img[:, :3], axis = 2)\n",
    "print(gray_img_02[0, 0])"
   ],
   "id": "58445a6ae2fd69bb"
  },
  {
   "metadata": {},
   "cell_type": "code",
   "outputs": [],
   "execution_count": null,
   "source": [
    "\n",
    "# Câu hỏi 14: Hoàn thành đoạn code sau đây để chuyển ảnh màu sang ảnh xám dựa vào\n",
    "# phương pháp Luminosity:\n",
    "# Luminosity: Nhân hệ số tương ứng của 3 kênh màu như sau: 0.21*R + 0.72*G + 0.07*B\n",
    "\n",
    "img = mpimg.imread('../../../data/module2/week1/dog.jpeg')\n",
    "gray_img_03 = 0.21 * img[..., 0] + 0.72 * img[..., 1] + 0.07 * img[..., 2]\n",
    "print(gray_img_03[0, 0])\n"
   ],
   "id": "917edccc698f63c7"
  }
 ],
 "metadata": {
  "kernelspec": {
   "display_name": "Python 3",
   "language": "python",
   "name": "python3"
  },
  "language_info": {
   "codemirror_mode": {
    "name": "ipython",
    "version": 2
   },
   "file_extension": ".py",
   "mimetype": "text/x-python",
   "name": "python",
   "nbconvert_exporter": "python",
   "pygments_lexer": "ipython2",
   "version": "2.7.6"
  }
 },
 "nbformat": 4,
 "nbformat_minor": 5
}
