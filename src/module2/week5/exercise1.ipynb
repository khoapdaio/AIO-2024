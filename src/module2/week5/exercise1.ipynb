{
 "cells": [
  {
   "metadata": {},
   "cell_type": "markdown",
   "source": [
    "Câu 1:  CLIP chủ yếu được sử dụng để làm gì trong bối cảnh tìm kiếm sự tương đồng giữa các hình ảnh với hình ảnh \n",
    "\n",
    "Cụ thể: Khi có một hình ảnh truy vấn, CLIP sẽ mã hóa hình ảnh này thành vector. Sau đó, các vector của các hình ảnh trong cơ sở dữ liệu cũng được mã hóa và lưu trữ. Ứng dụng sẽ tính toán khoảng cách cosine hoặc khoảng cách Euclidean giữa vector của hình ảnh truy vấn và vector của các hình ảnh trong cơ sở dữ liệu để tìm ra các hình ảnh tương tự nhất\n",
    "\n",
    "=> Đáp án là C: Tìm những hình ảnh giống nhau dựa trên nội dung ngữ nghĩa"
   ],
   "id": "6fa1bc7c56f3eaa8"
  },
  {
   "metadata": {},
   "cell_type": "markdown",
   "source": [
    "Câu 2: Cho hai vector a=[1,2,3] và b=[4,5,6], tính độ tương tự L1\n",
    "\n",
    "$\\text{L1 similarity} = \\displaystyle\\sum_{i=1}^n|a_i-b_i|$\n",
    "\n",
    "Với a = [1,2,3] và b=[4,5,6], ta tính như sau:\n",
    "\n",
    "|1-4|+|2-5|+|3-6|= 3 + 3 + 3 = 9\n",
    "\n",
    "Vậy độ tương tự L1 giữa hai vector là 9:\n",
    "=> Đáp án là A: 9"
   ],
   "id": "545662067036799b"
  },
  {
   "metadata": {},
   "cell_type": "markdown",
   "source": [
    "Câu 3. Một trường hợp sử dụng phổ biến cho tìm kiếm sự tương đồng hình ảnh trong thương mại điện tử là gì?\n",
    "\n",
    "Đáp án là B: Gợi ý sản phẩm dựa trên sự tương đồng hình ảnh "
   ],
   "id": "c5ea6d752b807409"
  },
  {
   "metadata": {},
   "cell_type": "markdown",
   "source": [
    "Câu 4. Cho hai vector a=[1,2,3] b=[4,5,6], tính đ tương tự L2(norm 2) giữa chúng\n",
    "\n",
    "$\\text{L2 similarity} =\\sqrt{\\displaystyle\\sum_{i=1}^n (a_i-b_i)^2} = \\sqrt{(1-4)^2+(2-5)^2+(3-6)^2}=\\sqrt{27}$\n",
    "\n",
    "Vậy đáp án là A:$\\sqrt{27}$"
   ],
   "id": "8294cf61ffae09aa"
  },
  {
   "metadata": {},
   "cell_type": "markdown",
   "source": [
    "Câu 5. Sự kết hợp của CLIP và ChromaDB làm tăng cường quá trình truy xuất hình ảnh như thế nào?\n",
    "- Tìm kiếm hình ảnh theo ngữ nghĩa: CLIP cho phép tìm kiếm hình ảnh theo ngữ nghĩa thông qua văn bản, trong khi ChromaDB giúp tối ưu hóa quá trình tìm kiếm này bằng cách lưu trữ và quy suất hệu quả các vector nhúng.\n",
    "- Tìm kiếm nhanh và chính xác: khi có nhiều hình ảnh cần truy suất, ChromaDB sẽ giảm thời gian tìm kiếm thông qua kỹ thuật tìm kiếm gần đúng, đồng thời vẫn dùy trì độ chính xác trong việc so sánh các vector nhúng từ CLIP.\n",
    "- Khả năng mở rộng: sự kết hợp này cho phép hệ thống mở rộng dễ dàng khi số lượng hình ảnh tăng lên, mà không ảnh hưởng đến hiệu suất truy xuất \n",
    "\n",
    "=> Đáp án là B\" cho phép tìm kiếm dựa trên ngữ nghĩa thông qua so sánh vector"
   ],
   "id": "e7a8fcdf607be816"
  },
  {
   "metadata": {},
   "cell_type": "markdown",
   "source": [
    "Câu 6: Cho hai vector a=[1,0,1] b=[1,1,0], tính độ tương tự Cosine giữa chúng\n",
    " \n",
    "$$\\text{Cosine similarity} = \\frac{a.b}{||a||||b||}$$\n",
    "\n",
    "Trong đó: \n",
    "- a.b là tích vô hướng của hai vector\n",
    "- ||a|| và ||b|| là độ dài (norm) của vector a và b\n",
    "###### Tính tích vô hướng a.b:\n",
    "\n",
    "$$a.b=1*1+0*1+1*0=1$$\n",
    "\n",
    "###### Tính độ dài của từng vector:\n",
    "\n",
    "$$||a||=\\sqrt{1^2+0^2+0^2}=\\sqrt{2}$$\n",
    "\n",
    "$$||b||=\\sqrt{1^2+1^2+0^2}=\\sqrt{2}$$\n",
    "\n",
    "###### => $\\text{cosine similarity}=\\frac{1}{\\sqrt{2}\\sqrt{2}}=\\frac{1}{\\sqrt{4}}=\\frac{1}{2}$ "
   ],
   "id": "46d96ec2f18bec81"
  },
  {
   "metadata": {},
   "cell_type": "markdown",
   "source": [
    "Câu 7. Trong bối cảnh nào, khoảng cách L1 thường được ưu tiên sử dụng để so sánh hình ảnh \n",
    "\n",
    "- Khoảng cách L1 đo lường sự chênh lệch trực tiếp giữa các điểm ảnh, nhấn mạnh các khác biệt nhỏ. \n",
    "- Nếu các vector có độ dài không đồng đều hoặc dữ liệu có phân phối không đều, L1 có thể cung cấp một phép đo ổn định hơn. Vì L1 là phép cộng so với bình phương như ở L2\n",
    "- Khoảng cách L1 có thể đơn giản hóa việc tính toán và giảm thiểu sự ảnh hưởng của các giá trị ngoại lệ trong không gian đa chiều. \n",
    "=> Đáp án là D Tất cả đều đúng"
   ],
   "id": "2d7c8524b116cc9e"
  },
  {
   "metadata": {},
   "cell_type": "markdown",
   "source": [
    "Câu 8: Cho hai vector a=[2,4] và b= [1,2], tính hệ số tương quan Pearson giữa chúng, ta có công thức như sau:\n",
    "\n",
    "$$ r= \\frac{n\\displaystyle\\sum (a_i b_i) - \\displaystyle\\sum a_i \\displaystyle\\sum b_i }{\\sqrt{[n \\displaystyle\\sum (a_i)^2 - (\\displaystyle\\sum a_i)^2][n \\displaystyle\\sum (b_i)^2 - (\\displaystyle\\sum b_i)^2]}}\n",
    "$$\n",
    "\n",
    "1 Tính các tổng cần thiết:\n",
    "- $\\displaystyle\\sum a_i = 2 + 4 = 6$  \n",
    "- $\\displaystyle\\sum b_i = 1 + 2 = 3$  \n",
    "- $\\displaystyle\\sum (a_ib_i) = 2.1 + 4.2 = 10$  \n",
    "- $\\displaystyle\\sum (a_i^2) = 2^2 + 4^2 = 20$  \n",
    "- $\\displaystyle\\sum (b_i^2) = 1^2 + 2^2 = 5$  \n",
    "2 Thay số \n",
    "\n",
    "$$\n",
    "r= \\frac{2*10 -6*3}{\\sqrt{(2*20-6^2)(2*5-3^2)}}=\\frac{2}{2}=1\n",
    "$$\n",
    "=> Đáp án là b: 1\n",
    "\n"
   ],
   "id": "25c14b03409830dd"
  },
  {
   "metadata": {},
   "cell_type": "markdown",
   "source": [
    "Câu 9 Ưu điểm chính của độ tương đồng Cosine so với khoảng cách L1 trong việc so sánh hình ảnh là gì?\n",
    "Độ tương đồng Cosine đo lường góc giữa hai vector và không bị ảnh hưởng bởi độ dài của chúng\n",
    "\n",
    "=> Đáp án là: (b) Không phụ thuộc vào độ dài của vector, chỉ quan tâm đến hướng của chúng  "
   ],
   "id": "e7b12c260fd1b350"
  }
 ],
 "metadata": {
  "kernelspec": {
   "display_name": "Python 3",
   "language": "python",
   "name": "python3"
  },
  "language_info": {
   "codemirror_mode": {
    "name": "ipython",
    "version": 2
   },
   "file_extension": ".py",
   "mimetype": "text/x-python",
   "name": "python",
   "nbconvert_exporter": "python",
   "pygments_lexer": "ipython2",
   "version": "2.7.6"
  }
 },
 "nbformat": 4,
 "nbformat_minor": 5
}
