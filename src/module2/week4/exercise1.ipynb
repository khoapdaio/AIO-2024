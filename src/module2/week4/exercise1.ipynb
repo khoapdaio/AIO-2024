{
 "cells": [
  {
   "metadata": {},
   "cell_type": "markdown",
   "source": "### 1. BASIC PROBABILITY\n",
   "id": "3e755095f78027a3"
  },
  {
   "metadata": {},
   "cell_type": "markdown",
   "source": [
    "#### Câu hỏi 1: Kết quả của đoạn chương trình tính mean sau đây là:\n",
    "Cho Data X = {2, 0, 2, 2, 7, 4, −2, 5, −1, −1}\n",
    "Hãy hoàn thiện function compute_mean() để tính mean μ của X đã cho.\n",
    "\n",
    "- Data: X = {x1, ..., xN }\n",
    "\n",
    "- Mean: μ = $\\frac{1}{N}*\\displaystyle\\sum_{i=1}^N x_i$"
   ],
   "id": "bb240ef9b188d4"
  },
  {
   "metadata": {
    "ExecuteTime": {
     "end_time": "2024-07-29T09:52:49.741276Z",
     "start_time": "2024-07-29T09:52:49.736277Z"
    }
   },
   "cell_type": "code",
   "source": [
    "### Question 1\n",
    "import numpy as np\n",
    "\n",
    "\n",
    "def compute_mean(X):\n",
    "\t# your code here *********************\n",
    "\n",
    "\treturn np.mean(X)\n",
    "\n",
    "\n",
    "X = [2, 0, 2, 2, 7, 4, -2, 5, -1, -1]\n",
    "\n",
    "print(\" Mean : \", compute_mean(X))"
   ],
   "id": "a96a8295137a9c24",
   "outputs": [
    {
     "name": "stdout",
     "output_type": "stream",
     "text": [
      " Mean :  1.8\n"
     ]
    }
   ],
   "execution_count": 2
  },
  {
   "metadata": {},
   "cell_type": "markdown",
   "source": "Đáp án 1 là a) 1.8",
   "id": "584eac14c0f049d5"
  },
  {
   "metadata": {},
   "cell_type": "markdown",
   "source": [
    "#### Câu hỏi 2: Kết quả của đoạn chương trình tính median sau đây là: \n",
    "Cho data X= {1,5,4,4,9,13}. Hãy hoàn thiện function compute_median() để tìm median của X đã cho. \n",
    "\n",
    "- Data: X= {x1.....xn}\n",
    "##### Median:\n",
    " - Sort X -> S (Tăng dần)\n",
    " - if N is odd: $m = S_{\\frac{N+1}{2}}$\n",
    " - if N is even: $m = \\frac{1}{2}*(S_{\\frac{N}{2}}+S_{\\frac{N}{2}+1})$"
   ],
   "id": "8cbe5e92689e6f2b"
  },
  {
   "metadata": {
    "ExecuteTime": {
     "end_time": "2024-07-29T14:22:29.856742Z",
     "start_time": "2024-07-29T14:22:29.852019Z"
    }
   },
   "cell_type": "code",
   "source": [
    "### Question 2\n",
    "\n",
    "def compute_median(X):\n",
    "\tsize = len(X)\n",
    "\tX = np.sort(X)\n",
    "\tprint(X)\n",
    "\tif size % 2 == 0:\n",
    "\t\treturn (X[size // 2 - 1] + X[size // 2]) / 2\n",
    "\telse:\n",
    "\t\treturn X[size // 2]\n",
    "\n",
    "\n",
    "X = [1, 5, 4, 4, 9, 13]\n",
    "print(\" Median : \", compute_median(X))"
   ],
   "id": "4e904311404bf32",
   "outputs": [
    {
     "name": "stdout",
     "output_type": "stream",
     "text": [
      "[ 1  4  4  5  9 13]\n",
      "6\n",
      " Median :  4.5\n"
     ]
    }
   ],
   "execution_count": 10
  },
  {
   "metadata": {},
   "cell_type": "markdown",
   "source": "Vậy kết quả là b) 4.5",
   "id": "5b86ed81f4aad5a3"
  },
  {
   "metadata": {},
   "cell_type": "markdown",
   "source": [
    "Câu hỏi 3: Kết quả của đoạn chương tình tính variance và standard deviation sau đây là: \n",
    "Cho Data X={171,176,155,167,169,182}\n",
    "Hãy hoàn thiện function compute_std() để tìm standard deviation σ của X đã cho\n",
    "\n",
    "- Data: $X={x1,....,x_N}$\n",
    "- Mean: $\\mu = \\frac{1}{N}*\\displaystyle\\sum_{i=1}^N x_i$\n",
    "- Variance: $var(X) = \\frac{1}{N}*\\displaystyle\\sum_{i=1}^N (x_i - \\mu)^2 $\n",
    "- Standard Deviation: $\\sigma = \\sqrt{var(X)}$"
   ],
   "id": "93b304ac90ad6b5b"
  },
  {
   "metadata": {
    "ExecuteTime": {
     "end_time": "2024-07-29T14:44:43.066699Z",
     "start_time": "2024-07-29T14:44:43.062265Z"
    }
   },
   "cell_type": "code",
   "source": [
    "### Question 3\n",
    "\n",
    "def compute_std(X):\n",
    "\tmean = compute_mean(X)\n",
    "\tvariance = 0\n",
    "\t# your code here *******************\n",
    "\tN = len(X)\n",
    "\tvariance = np.sum([(element - mean) ** 2 for element in X]) / N\n",
    "\treturn np.around(np.sqrt(variance), 2)\n",
    "\n",
    "\n",
    "X = [171, 176, 155, 167, 169, 182]\n",
    "print(compute_std(X))"
   ],
   "id": "d28479ea8e3dd97b",
   "outputs": [
    {
     "name": "stdout",
     "output_type": "stream",
     "text": [
      "8.33\n"
     ]
    }
   ],
   "execution_count": 12
  },
  {
   "metadata": {},
   "cell_type": "markdown",
   "source": "=> Đáp án là c) 8.33",
   "id": "e84950508526d963"
  },
  {
   "metadata": {},
   "cell_type": "markdown",
   "source": [
    "#### Câu hỏi 4: Kết quả của đoạn chương trình tính correlation coeficient sau đây là:\n",
    "Cho Data X = {-2,-5,-11,6,4,15,9}\n",
    "\n",
    "Y = {4,25,121,36,16,225,81}\n",
    "Hoàn thiện function compute_correlation_cofficient() để tìm correlation coefficient của X và Y đã cho :\n",
    "\n",
    "- Random variables $X, Y: {x1,...,x_N} Y={y1,....,y_N}$\n",
    "- Correlation Coefficient: $p_{xy} = \\frac{E|(X-\\mu_x)(Y-\\mu_y)}{\\sigma_x\\sigma_y} = \\frac{N(\\sum{x_i y_i}) - (\\sum{x_i})(\\sum{y_i})}{\\sqrt{N \\sum{x_i^2} - (\\sum{x_i})^2} \\sqrt{N \\sum{y_i^2} - (\\sum{y_i})^2}}$"
   ],
   "id": "ed1e9f096f0dfe3d"
  },
  {
   "metadata": {
    "ExecuteTime": {
     "end_time": "2024-07-29T15:21:00.500050Z",
     "start_time": "2024-07-29T15:21:00.484328Z"
    }
   },
   "cell_type": "code",
   "source": [
    "def compute_correlation_cofficient(X, Y):\n",
    "\tN_X = len(X)\n",
    "\tnumerator = 0\n",
    "\tdenominator = 0\n",
    "\t# your code here ****************\n",
    "\tmean_X = compute_mean(X)\n",
    "\tmean_Y = compute_mean(Y)\n",
    "\tstd_X = compute_std(X)\n",
    "\tstd_Y = compute_std(Y)\n",
    "\tnumerator = sum((xi - mean_X) * (yi - mean_Y) for xi, yi in zip(X, Y)) / N_X\n",
    "\tdenominator = std_X * std_Y\n",
    "\treturn np.round(numerator / denominator, 2)\n",
    "\n",
    "\n",
    "X = np.asarray([-2, -5, -11, 6, 4, 15, 9])\n",
    "Y = np.asarray([4, 25, 121, 36, 16, 225, 81])\n",
    "print(\" Correlation : \", compute_correlation_cofficient(X, Y))"
   ],
   "id": "bec106fea95270f4",
   "outputs": [
    {
     "name": "stdout",
     "output_type": "stream",
     "text": [
      " Correlation :  0.42\n"
     ]
    }
   ],
   "execution_count": 13
  },
  {
   "metadata": {},
   "cell_type": "markdown",
   "source": "Đáp án là D) 0.42",
   "id": "840ea598cffb1e1d"
  },
  {
   "metadata": {},
   "cell_type": "markdown",
   "source": "",
   "id": "93a128b7a50cab3e"
  }
 ],
 "metadata": {
  "kernelspec": {
   "display_name": "Python 3",
   "language": "python",
   "name": "python3"
  },
  "language_info": {
   "codemirror_mode": {
    "name": "ipython",
    "version": 2
   },
   "file_extension": ".py",
   "mimetype": "text/x-python",
   "name": "python",
   "nbconvert_exporter": "python",
   "pygments_lexer": "ipython2",
   "version": "2.7.6"
  }
 },
 "nbformat": 4,
 "nbformat_minor": 5
}
