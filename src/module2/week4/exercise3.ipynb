{
 "cells": [
  {
   "metadata": {},
   "cell_type": "markdown",
   "source": [
    "### 3. TEXT RETRIEVAL\n",
    "#### Câu hỏi 10: Kết quả của đoạn chương trình đọc file và sử dụng TF-IDF để biểu diễn văn bản thành vector sau đây là:"
   ],
   "id": "48456e935af9d954"
  },
  {
   "metadata": {
    "ExecuteTime": {
     "end_time": "2024-07-30T00:57:19.736611Z",
     "start_time": "2024-07-30T00:57:13.472301Z"
    }
   },
   "cell_type": "code",
   "source": "!gdown 1jh2p2DlaWsDo_vEWIcTrNh3mUuXd-cw6",
   "id": "a3997c2c1a80bd4e",
   "outputs": [
    {
     "name": "stderr",
     "output_type": "stream",
     "text": [
      "Downloading...\n",
      "From: https://drive.google.com/uc?id=1jh2p2DlaWsDo_vEWIcTrNh3mUuXd-cw6\n",
      "To: O:\\Git\\AIO-2024\\src\\module2\\week4\\vi_text_retrieval.csv\n",
      "\n",
      "  0%|          | 0.00/201k [00:00<?, ?B/s]\n",
      "100%|##########| 201k/201k [00:00<00:00, 776kB/s]\n",
      "100%|##########| 201k/201k [00:00<00:00, 773kB/s]\n"
     ]
    }
   ],
   "execution_count": 1
  },
  {
   "metadata": {
    "ExecuteTime": {
     "end_time": "2024-07-30T01:02:01.323306Z",
     "start_time": "2024-07-30T01:02:01.118538Z"
    }
   },
   "cell_type": "code",
   "source": [
    "# Download dataset : ! gdown 1 jh2p2DlaWsDo_vEWIcTrNh3mUuXd -cw6\n",
    "import pandas as pd\n",
    "import numpy as np\n",
    "from sklearn.metrics.pairwise import cosine_similarity\n",
    "from sklearn.feature_extraction.text import TfidfVectorizer\n",
    "\n",
    "vi_data_df = pd.read_csv(\"vi_text_retrieval.csv\")\n",
    "context = vi_data_df['text']\n",
    "context = [doc.lower() for doc in context]\n",
    "\n",
    "tfidf_vectorizer = TfidfVectorizer()\n",
    "context_embedded = tfidf_vectorizer.fit_transform(context)\n",
    "context_embedded.toarray()[7][0]"
   ],
   "id": "c8c3a27baa2367f",
   "outputs": [
    {
     "data": {
      "text/plain": [
       "0.31126580760710637"
      ]
     },
     "execution_count": 4,
     "metadata": {},
     "output_type": "execute_result"
    }
   ],
   "execution_count": 4
  },
  {
   "metadata": {},
   "cell_type": "markdown",
   "source": "=> Đáp án là b) 0.31",
   "id": "70c60ca877154f32"
  },
  {
   "metadata": {},
   "cell_type": "markdown",
   "source": "### Câu hỏi 11: Kết quả của đoạn chương trình độ tương đồng cosine là:",
   "id": "58f03d60d6e78d97"
  },
  {
   "metadata": {
    "ExecuteTime": {
     "end_time": "2024-07-30T01:19:27.927628Z",
     "start_time": "2024-07-30T01:19:27.918641Z"
    }
   },
   "cell_type": "code",
   "source": [
    "def tfidf_search(question, tfidf_vectorizer, top_d = 5):\n",
    "\t# lowercasing before encoding\n",
    "\tquery_embedded = tfidf_vectorizer.transform([question.lower()])\n",
    "\tcosine_scores = cosine_similarity(query_embedded, context_embedded).reshape((-1,))\n",
    "\n",
    "\t# Get top k cosine score and index its\n",
    "\tresults = []\n",
    "\n",
    "\tfor idx in cosine_scores.argsort()[- top_d:][:: -1]:\n",
    "\t\tdoc_score = {\n",
    "\t\t\t'id': idx,\n",
    "\t\t\t'cosine_score': cosine_scores[idx]\n",
    "\t\t}\n",
    "\t\tresults.append(doc_score)\n",
    "\treturn results\n",
    "\n",
    "\n",
    "question = vi_data_df.iloc[0]['question']\n",
    "results = tfidf_search(question, tfidf_vectorizer, top_d = 5)\n",
    "np.round(results[0]['cosine_score'], 2)"
   ],
   "id": "98500ee6575701c9",
   "outputs": [
    {
     "data": {
      "text/plain": [
       "0.63"
      ]
     },
     "execution_count": 14,
     "metadata": {},
     "output_type": "execute_result"
    }
   ],
   "execution_count": 14
  },
  {
   "metadata": {},
   "cell_type": "markdown",
   "source": "=> Đáp án là D) 0.63",
   "id": "4d744ba61de3161"
  },
  {
   "metadata": {},
   "cell_type": "markdown",
   "source": "#### Câu hỏi 12: Kết quả của đoạn chương trình tính độ tương đồng correlation là :",
   "id": "dd76be3a893d97a9"
  },
  {
   "metadata": {
    "ExecuteTime": {
     "end_time": "2024-07-30T01:31:23.219184Z",
     "start_time": "2024-07-30T01:31:23.184182Z"
    }
   },
   "cell_type": "code",
   "source": [
    "def corr_search(question, tfidf_vectorizer, top_d = 5):\n",
    "\t# lowercasing before encoding\n",
    "\tquery_embedded = tfidf_vectorizer.transform([question.lower()])\n",
    "\tcorr_scores = np.corrcoef(query_embedded.toarray()[0], context_embedded.toarray())\n",
    "\tcorr_scores = corr_scores[0][1:]\n",
    "\t# Get top k correlation score and index its\n",
    "\tresults = []\n",
    "\tfor idx in corr_scores.argsort()[- top_d:][:: -1]:\n",
    "\t\tdoc = {\n",
    "\t\t\t'id ': idx,\n",
    "\t\t\t'corr_score': corr_scores[idx]\n",
    "\t\t}\n",
    "\t\tresults.append(doc)\n",
    "\treturn results\n",
    "\n",
    "\n",
    "question = vi_data_df.iloc[0]['question']\n",
    "results = corr_search(question, tfidf_vectorizer, top_d = 5)\n",
    "np.round(results[1]['corr_score'],2)"
   ],
   "id": "134d1aef181b3f65",
   "outputs": [
    {
     "data": {
      "text/plain": [
       "0.21"
      ]
     },
     "execution_count": 17,
     "metadata": {},
     "output_type": "execute_result"
    }
   ],
   "execution_count": 17
  },
  {
   "metadata": {},
   "cell_type": "markdown",
   "source": "=> Đáp án là b) 0.21",
   "id": "bc97c562be7ed794"
  }
 ],
 "metadata": {
  "kernelspec": {
   "display_name": "Python 3",
   "language": "python",
   "name": "python3"
  },
  "language_info": {
   "codemirror_mode": {
    "name": "ipython",
    "version": 2
   },
   "file_extension": ".py",
   "mimetype": "text/x-python",
   "name": "python",
   "nbconvert_exporter": "python",
   "pygments_lexer": "ipython2",
   "version": "2.7.6"
  }
 },
 "nbformat": 4,
 "nbformat_minor": 5
}
