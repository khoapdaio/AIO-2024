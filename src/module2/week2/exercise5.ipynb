{
 "cells": [
  {
   "metadata": {
    "ExecuteTime": {
     "end_time": "2024-07-16T07:14:47.667035Z",
     "start_time": "2024-07-16T07:14:47.363517Z"
    }
   },
   "cell_type": "code",
   "source": [
    "import numpy as np\n",
    "from module2.week2 import matrix_multi_matrix, matrix_multi_vector, inverse_matrix, compute_eigenvalues_eigenvectors,compute_cosine"
   ],
   "id": "adfbb0c2c988ff50",
   "outputs": [
    {
     "name": "stdout",
     "output_type": "stream",
     "text": [
      "vector_a=>[0 1 2 3 4]\n",
      "vector_b=>[10 11 12 13 14]\n",
      "matrix_a=>[[0 1 2 3 4]\n",
      " [5 6 7 8 9]]\n",
      "matrix_b=>[[10 11 12 13 14]\n",
      " [15 16 17 18 19]]\n",
      "matrix_c=>[[0 2]\n",
      " [4 6]]\n",
      "a) Đội dài của vector\n",
      "vector_a=>[0 1 2 3 4]\n",
      "compute_vector_length=>5.477225575051661\n",
      "23.28\n",
      "b) Phép tích vô hướng\n",
      "vector_a=>[0 1 2 3 4]\n",
      "vector_b=>[10 11 12 13 14]\n",
      "compute_dot_product=>130\n",
      "4\n",
      "c) Nhân vector với ma trận:\n",
      "vector_a=>[0 1 2 3 4]\n",
      "matrix_a=>[[0 1 2 3 4]\n",
      " [5 6 7 8 9]]\n",
      "matrix_multi_vector=>[30 80]\n",
      "d) Nhân ma trạn với  ma trận:\n",
      "matrix_a=>[[0 1 2 3 4]\n",
      " [5 6 7 8 9]]\n",
      "vector_a=>[[10 11 12 13 14]\n",
      " [15 16 17 18 19]]\n",
      "matrix_multi_matrix=>[[  0  11  24  39  56]\n",
      " [ 75  96 119 144 171]]\n",
      "e) Ma trận nghịch đảo:\n",
      "matrix_c=>[[0 2]\n",
      " [4 6]]\n",
      "inverse_matrix=>[[-0.75  0.25]\n",
      " [ 0.5   0.  ]]\n",
      "vector=>[[0.9 0.2]\n",
      " [0.1 0.8]]\n",
      "compute_eigenvalues_eigenvectors=>EigResult(eigenvalues=array([1. , 0.7]), eigenvectors=array([[ 0.89442719, -0.70710678],\n",
      "       [ 0.4472136 ,  0.70710678]]))\n",
      "vector_a=>[0 1 2 3 4]\n",
      "vector_b=>[10 11 12 13 14]\n",
      "matrix_a=>[[0 1 2 3 4]\n",
      " [5 6 7 8 9]]\n",
      "matrix_b=>[[10 11 12 13 14]\n",
      " [15 16 17 18 19]]\n",
      "matrix_c=>[[0 2]\n",
      " [4 6]]\n",
      "a) Đội dài của vector\n",
      "vector_a=>[0 1 2 3 4]\n",
      "compute_vector_length=>5.477225575051661\n",
      "23.28\n",
      "b) Phép tích vô hướng\n",
      "vector_a=>[0 1 2 3 4]\n",
      "vector_b=>[10 11 12 13 14]\n",
      "compute_dot_product=>130\n",
      "4\n",
      "c) Nhân vector với ma trận:\n",
      "vector_a=>[0 1 2 3 4]\n",
      "matrix_a=>[[0 1 2 3 4]\n",
      " [5 6 7 8 9]]\n",
      "matrix_multi_vector=>[30 80]\n",
      "d) Nhân ma trạn với  ma trận:\n",
      "matrix_a=>[[0 1 2 3 4]\n",
      " [5 6 7 8 9]]\n",
      "vector_a=>[[10 11 12 13 14]\n",
      " [15 16 17 18 19]]\n",
      "matrix_multi_matrix=>[[  0  11  24  39  56]\n",
      " [ 75  96 119 144 171]]\n",
      "e) Ma trận nghịch đảo:\n",
      "matrix_c=>[[0 2]\n",
      " [4 6]]\n",
      "inverse_matrix=>[[-0.75  0.25]\n",
      " [ 0.5   0.  ]]\n",
      "vector=>[[0.9 0.2]\n",
      " [0.1 0.8]]\n",
      "compute_eigenvalues_eigenvectors=>EigResult(eigenvalues=array([1. , 0.7]), eigenvectors=array([[ 0.89442719, -0.70710678],\n",
      "       [ 0.4472136 ,  0.70710678]]))\n",
      "vector_3d_A: [[1 2 3]\n",
      " [4 5 6]\n",
      " [7 8 9]]\n",
      "vector_3d_B: [[11 12 13]\n",
      " [14 15 16]\n",
      " [17 18 19]]\n",
      "cosine similarity: [[0.11675273 0.12453625 0.13231976]\n",
      " [0.28020656 0.29966534 0.31912413]\n",
      " [0.44366038 0.47479444 0.5059285 ]]\n",
      "vector_1d_A: [1 2 3 4]\n",
      "vector_1d_B: [1 0 3 0]\n",
      "cosine similarity: 0.5773502691896257\n"
     ]
    }
   ],
   "execution_count": 1
  },
  {
   "metadata": {
    "ExecuteTime": {
     "end_time": "2024-07-16T07:07:17.781212Z",
     "start_time": "2024-07-16T07:07:17.773960Z"
    }
   },
   "cell_type": "code",
   "source": [
    "\n",
    "\n",
    "\n",
    "x = np.array([[-1, 2],\n",
    "              [3, -4]])\n",
    "k = np.array([1, 2])\n",
    "print('result', x @ k)"
   ],
   "id": "initial_id",
   "outputs": [
    {
     "name": "stdout",
     "output_type": "stream",
     "text": [
      "result [ 3 -5]\n"
     ]
    }
   ],
   "execution_count": 29
  },
  {
   "metadata": {
    "ExecuteTime": {
     "end_time": "2024-07-16T07:07:18.562709Z",
     "start_time": "2024-07-16T07:07:18.555545Z"
    }
   },
   "cell_type": "code",
   "source": [
    "\n",
    "\n",
    "m = np.array([[-1, 1, 1], [0, -4, 9]])\n",
    "v = np.array([0, 2, 1])\n",
    "print(m @ v)"
   ],
   "id": "65770a122fee7005",
   "outputs": [
    {
     "name": "stdout",
     "output_type": "stream",
     "text": [
      "[3 1]\n"
     ]
    }
   ],
   "execution_count": 30
  },
  {
   "metadata": {
    "ExecuteTime": {
     "end_time": "2024-07-16T04:08:36.043404Z",
     "start_time": "2024-07-16T04:08:36.038631Z"
    }
   },
   "cell_type": "code",
   "source": [
    "\n",
    "\n",
    "m1 = np.array([[0, 1, 2], [2, -3, 1]])\n",
    "m2 = np.array([[1, -3], [6, 1], [0, -1]])\n",
    "result = m1 @ m2\n",
    "print(result)"
   ],
   "id": "8362acdd17690f8f",
   "outputs": [
    {
     "name": "stdout",
     "output_type": "stream",
     "text": [
      "[[  6  -1]\n",
      " [-16 -10]]\n"
     ]
    }
   ],
   "execution_count": 16
  },
  {
   "metadata": {
    "ExecuteTime": {
     "end_time": "2024-07-16T06:57:21.425352Z",
     "start_time": "2024-07-16T06:57:21.417267Z"
    }
   },
   "cell_type": "code",
   "source": [
    "m1 = np.eye(3)\n",
    "m2 = np.array([[1, 1, 1], [2, 2, 2], [3, 3, 3]])\n",
    "result = m1 @ m2\n",
    "print(result)"
   ],
   "id": "1118801a93c3e31a",
   "outputs": [
    {
     "name": "stdout",
     "output_type": "stream",
     "text": [
      "[[1. 1. 1.]\n",
      " [2. 2. 2.]\n",
      " [3. 3. 3.]]\n"
     ]
    }
   ],
   "execution_count": 17
  },
  {
   "metadata": {
    "ExecuteTime": {
     "end_time": "2024-07-16T07:01:25.746993Z",
     "start_time": "2024-07-16T07:01:25.740807Z"
    }
   },
   "cell_type": "code",
   "source": [
    "m1 = np.eye(2)\n",
    "m1 = np.reshape(m1, (-1, 4))[0]\n",
    "m2 = np.array([[1, 1, 1, 1], [2, 2, 2, 2], [3, 3, 3, 3], [4, 4, 4, 4]])\n",
    "result = m1 @ m2\n",
    "print(result)"
   ],
   "id": "227c9a14909694c7",
   "outputs": [
    {
     "name": "stdout",
     "output_type": "stream",
     "text": [
      "[5. 5. 5. 5.]\n"
     ]
    }
   ],
   "execution_count": 19
  },
  {
   "metadata": {
    "ExecuteTime": {
     "end_time": "2024-07-16T07:02:17.531420Z",
     "start_time": "2024-07-16T07:02:17.525387Z"
    }
   },
   "cell_type": "code",
   "source": [
    "m1 = np.array([[1, 2], [3, 4]])\n",
    "m1 = np.reshape(m1, (-1, 4), \"F\")[0]\n",
    "m2 = np.array([[1, 1, 1, 1], [2, 2, 2, 2], [3, 3, 3, 3], [4, 4, 4, 4]])\n",
    "result = m1 @ m2\n",
    "print(result)"
   ],
   "id": "5b0069770c663518",
   "outputs": [
    {
     "name": "stdout",
     "output_type": "stream",
     "text": [
      "[29 29 29 29]\n"
     ]
    }
   ],
   "execution_count": 20
  },
  {
   "metadata": {
    "ExecuteTime": {
     "end_time": "2024-07-16T07:03:16.505296Z",
     "start_time": "2024-07-16T07:03:16.498489Z"
    }
   },
   "cell_type": "code",
   "source": [
    "\n",
    "m1 = np.array([[-2, 6], [8, -4]])\n",
    "result = inverse_matrix(m1)\n",
    "print(result)"
   ],
   "id": "9ee2e91c7690f62c",
   "outputs": [
    {
     "name": "stdout",
     "output_type": "stream",
     "text": [
      "[[0.1  0.15]\n",
      " [0.2  0.05]]\n"
     ]
    }
   ],
   "execution_count": 23
  },
  {
   "metadata": {
    "ExecuteTime": {
     "end_time": "2024-07-16T07:05:32.264432Z",
     "start_time": "2024-07-16T07:05:32.259240Z"
    }
   },
   "cell_type": "code",
   "source": [
    "matrix = np.array([[0.9, 0.2], [0.1, 0.8]])\n",
    "eigenvalues, eigenvectors = compute_eigenvalues_eigenvectors(matrix)\n",
    "print(eigenvectors)"
   ],
   "id": "7ce109c67a050b55",
   "outputs": [
    {
     "name": "stdout",
     "output_type": "stream",
     "text": [
      "[[ 0.89442719 -0.70710678]\n",
      " [ 0.4472136   0.70710678]]\n"
     ]
    }
   ],
   "execution_count": 26
  },
  {
   "metadata": {
    "ExecuteTime": {
     "end_time": "2024-07-16T07:14:52.857076Z",
     "start_time": "2024-07-16T07:14:52.851472Z"
    }
   },
   "cell_type": "code",
   "source": [
    "\n",
    "x = np.array([1, 2, 3, 4])\n",
    "y = np.array([1, 0, 3, 0])\n",
    "result = compute_cosine(x, y)\n",
    "print(round(result, 3))"
   ],
   "id": "d497678097f66c11",
   "outputs": [
    {
     "name": "stdout",
     "output_type": "stream",
     "text": [
      "0.577\n"
     ]
    }
   ],
   "execution_count": 2
  },
  {
   "metadata": {},
   "cell_type": "code",
   "outputs": [],
   "execution_count": null,
   "source": "",
   "id": "12648560598f09c2"
  }
 ],
 "metadata": {
  "kernelspec": {
   "display_name": "Python 3",
   "language": "python",
   "name": "python3"
  },
  "language_info": {
   "codemirror_mode": {
    "name": "ipython",
    "version": 2
   },
   "file_extension": ".py",
   "mimetype": "text/x-python",
   "name": "python",
   "nbconvert_exporter": "python",
   "pygments_lexer": "ipython2",
   "version": "2.7.6"
  }
 },
 "nbformat": 4,
 "nbformat_minor": 5
}
