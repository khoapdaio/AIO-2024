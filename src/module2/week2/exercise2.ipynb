{
 "cells": [
  {
   "metadata": {},
   "cell_type": "markdown",
   "source": [
    "##### Eigenvectors và eigenvalues là các khái niểm quan trọng trong đại số tuyến tính và được sử dụng rộng rãi trong nhiều lĩnh vực khoa học máy tính, vật lý, kinh tế và thống kê\n",
    "\n",
    "##### Định nghĩa:\n",
    "- Eigenvector (vector riêng ) của một ma trận vuông A là một vector không đổi hướng khi được biến đổi bởi ma trận A.\n",
    "Nói cách khác, nếu v là một eigenvector của A, thì:\n",
    "trong đó, λ là một số vô hướng gjoji là eigenvalue (giá trị riêng ) tương ứng với eigenvector v \n",
    "\n",
    "- Eigenvalue (giá trị riêng) λ của một ma trận vuông A là một số vô hướng sao cho tồn tại một eigenvector v thỏa mãn \n",
    "phương trình trên\n",
    "\n",
    "Các bước thực hiện\n",
    "- input: một ma trận vuông\n",
    "- output: Eigenvector, Eigenvalue\n",
    "\n",
    "* b1: Tính Eigenvalue bằng công thức đặc trưng\n",
    "det(A−λI)=0\n",
    "\n",
    "trong đó:\n",
    "A là vector đầu vào cần tìm Eigenvectors và eigenvalues\n",
    "I là vector ma trận đơn vị có cùng kích thước bằng với vector A\n",
    "λ là Eigenvalue giá trị cần tính từ công thức trên\n",
    "\n",
    "\n",
    "* b2: \n",
    "Tương ứng với mỗi eigenvalue, ta sẽ tìm eigenvector bằng công thức sau\n",
    "(A − λI)v = 0"
   ],
   "id": "583152628964787d"
  },
  {
   "metadata": {
    "ExecuteTime": {
     "end_time": "2024-08-26T03:37:54.634705Z",
     "start_time": "2024-08-26T03:37:54.625302Z"
    }
   },
   "cell_type": "code",
   "source": [
    "import math\n",
    "\n",
    "def calculate_eigenvalues_and_vectors(a, b, c, d):\n",
    "    # Tính toán các eigenvalues\n",
    "    trace = a + d\n",
    "    determinant = a * d - b * c\n",
    "    \n",
    "    # Phương trình bậc hai: lambda^2 - (a+d)lambda + (ad-bc) = 0\n",
    "    discriminant = trace**2 - 4 * determinant\n",
    "    eigenvalue1 = (trace + math.sqrt(discriminant)) / 2\n",
    "    eigenvalue2 = (trace - math.sqrt(discriminant)) / 2\n",
    "    \n",
    "    # Tính eigenvectors tương ứng\n",
    "    def calculate_eigenvector(a, b, c, d, eigenvalue):\n",
    "        if b != 0:\n",
    "            x = 1\n",
    "            y = (eigenvalue - a) / b\n",
    "        elif c != 0:\n",
    "            y = 1\n",
    "            x = (eigenvalue - d) / c\n",
    "        else:\n",
    "            x, y = 1, 0\n",
    "        return (x, y)\n",
    "    \n",
    "    eigenvector1 = calculate_eigenvector(a, b, c, d, eigenvalue1)\n",
    "    eigenvector2 = calculate_eigenvector(a, b, c, d, eigenvalue2)\n",
    "    \n",
    "    return (eigenvalue1, eigenvector1), (eigenvalue2, eigenvector2)\n",
    "\n",
    "# Ví dụ:\n",
    "a, b, c, d = 4, 1, 2, 3\n",
    "eig1, eig2 = calculate_eigenvalues_and_vectors(a, b, c, d)\n",
    "\n",
    "print(\"Eigenvalue 1:\", eig1[0], \"Eigenvector 1:\", eig1[1])\n",
    "print(\"Eigenvalue 2:\", eig2[0], \"Eigenvector 2:\", eig2[1])\n"
   ],
   "id": "ea469531b251a227",
   "outputs": [
    {
     "name": "stdout",
     "output_type": "stream",
     "text": [
      "Eigenvalue 1: 5.0 Eigenvector 1: (1, 1.0)\n",
      "Eigenvalue 2: 2.0 Eigenvector 2: (1, -2.0)\n"
     ]
    }
   ],
   "execution_count": 1
  },
  {
   "metadata": {},
   "cell_type": "code",
   "outputs": [],
   "execution_count": null,
   "source": "",
   "id": "ae84bb3e4285c6d7"
  }
 ],
 "metadata": {
  "kernelspec": {
   "display_name": "Python 3",
   "language": "python",
   "name": "python3"
  },
  "language_info": {
   "codemirror_mode": {
    "name": "ipython",
    "version": 2
   },
   "file_extension": ".py",
   "mimetype": "text/x-python",
   "name": "python",
   "nbconvert_exporter": "python",
   "pygments_lexer": "ipython2",
   "version": "2.7.6"
  }
 },
 "nbformat": 4,
 "nbformat_minor": 5
}
