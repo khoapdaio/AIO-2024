{
 "cells": [
  {
   "cell_type": "code",
   "execution_count": null,
   "id": "initial_id",
   "metadata": {
    "collapsed": true
   },
   "outputs": [],
   "source": [
    "import cv2\n",
    "import numpy as np\n",
    "\n",
    "size = (678, 381)\n",
    "\n",
    "bg1_image = cv2.imread('../../../data/module2/week2/GreenBackground.png', 1)\n",
    "bg1_image = cv2.resize(bg1_image, size)\n",
    "\n",
    "ob_image = cv2.imread('../../../data/module2/week2/Object.png', 1)\n",
    "ob_image = cv2.resize(ob_image, size)\n",
    "\n",
    "bg2_image = cv2.imread('../../../data/module2/week2/NewBackground.jpg', 1)\n",
    "bg2_image = cv2.resize(bg2_image, size)\n"
   ]
  },
  {
   "metadata": {},
   "cell_type": "markdown",
   "source": "#### Cách 1",
   "id": "f27b35cf30b221fd"
  },
  {
   "metadata": {},
   "cell_type": "code",
   "outputs": [],
   "execution_count": null,
   "source": [
    "def compute_binary_mask_custom(bg_img, input_img):\n",
    "\t# Chuyển đổi các ảnh sang không gian màu HSV để dễ dàng xử lý\n",
    "\thsv_object = cv2.cvtColor(input_img, cv2.COLOR_BGR2HSV)\n",
    "\thsv_bg1 = cv2.cvtColor(bg_img, cv2.COLOR_BGR2HSV)\n",
    "\n",
    "\t# Định nghĩa dải màu xanh lá cây để tạo mask\n",
    "\tlower_green = np.array([35, 100, 100])\n",
    "\tupper_green = np.array([85, 255, 255])\n",
    "\n",
    "\t# unique_colors = np.unique(hsv_bg1.reshape(-1, hsv_bg1.shape[2]), axis=0)[0]\n",
    "\n",
    "\t# Tạo mask cho vùng màu xanh lá cây\n",
    "\tmask = cv2.inRange(hsv_object, lower_green, upper_green)\n",
    "\n",
    "\t# Invert mask để lấy vùng của đối tượng\n",
    "\tmask_inv = cv2.bitwise_not(mask)\n",
    "\n",
    "\t# Tạo mask binary với các giá trị 0 là background và 1 là object\n",
    "\tbinary_mask = mask_inv // 255\n",
    "\treturn binary_mask"
   ],
   "id": "983d23f195d4d7b7"
  },
  {
   "metadata": {},
   "cell_type": "code",
   "outputs": [],
   "execution_count": null,
   "source": [
    "def replace_background_custom(bg1_image, bg2_image, ob_image):\n",
    "\tbinary_mask = compute_binary_mask_custom(bg1_image, ob_image)\n",
    "\t# Tạo ảnh output\n",
    "\toutput = np.where(binary_mask[..., None] == 1, ob_image, bg2_image)\n",
    "\n",
    "\treturn output"
   ],
   "id": "624941cbedf367d8"
  },
  {
   "metadata": {},
   "cell_type": "code",
   "outputs": [],
   "execution_count": null,
   "source": [
    "cv2.imshow('Result custom 1', replace_background_custom(bg1_image, bg2_image, ob_image))\n",
    "cv2.waitKey(0)\n",
    "cv2.destroyAllWindows()"
   ],
   "id": "6826c1df4d86c069"
  },
  {
   "metadata": {},
   "cell_type": "markdown",
   "source": "#### Cách 2",
   "id": "eb32f2d98614b3f5"
  },
  {
   "metadata": {},
   "cell_type": "code",
   "outputs": [],
   "execution_count": null,
   "source": [
    "def compute_difference(bg_img, input_img):\n",
    "\t# Chuyển đổi các ảnh sang grayscale\n",
    "\tgray_object = cv2.cvtColor(input_img, cv2.COLOR_BGR2GRAY)\n",
    "\tgray_bg = cv2.cvtColor(bg_img, cv2.COLOR_BGR2GRAY)\n",
    "\n",
    "\t# Sử dụng background subtraction để lấy mask của object\n",
    "\tforeground_mask = cv2.absdiff(gray_object, gray_bg)\n",
    "\treturn foreground_mask"
   ],
   "id": "cf95f0dfd6d9b265"
  },
  {
   "metadata": {},
   "cell_type": "code",
   "outputs": [],
   "execution_count": null,
   "source": [
    "def compute_binary_mask(difference_single_channel):\n",
    "\t# Ngưỡng hóa mask để tạo ảnh binary\n",
    "\t_, binary_mask = cv2.threshold(difference_single_channel, 0, 255, cv2.THRESH_BINARY)\n",
    "\n",
    "\t# Tạo mask binary với các giá trị 0 là background và 1 là object\n",
    "\tbinary_mask = binary_mask // 255\n",
    "\treturn binary_mask"
   ],
   "id": "a1307d3990cfccdb"
  },
  {
   "metadata": {},
   "cell_type": "code",
   "outputs": [],
   "execution_count": null,
   "source": [
    "def replace_background(bg1_image, bg2_image, ob_image):\n",
    "\tdifference_single_channel = compute_difference(\n",
    "\t\tbg1_image,\n",
    "\t\tob_image\n",
    "\t)\n",
    "\n",
    "\tbinary_mask = compute_binary_mask(difference_single_channel)\n",
    "\t# Tạo ảnh output\n",
    "\toutput = np.where(binary_mask[..., None] == 1, ob_image, bg2_image)\n",
    "\n",
    "\treturn output"
   ],
   "id": "5e2f2292ca062b8b"
  },
  {
   "metadata": {},
   "cell_type": "code",
   "outputs": [],
   "execution_count": null,
   "source": [
    "\n",
    "# Hiển thị ảnh kết quả\n",
    "cv2.imshow('Result', replace_background(bg1_image, bg2_image, ob_image))\n",
    "cv2.waitKey(0)\n",
    "cv2.destroyAllWindows()"
   ],
   "id": "2f482a3650b39501"
  }
 ],
 "metadata": {
  "kernelspec": {
   "display_name": "Python 3",
   "language": "python",
   "name": "python3"
  },
  "language_info": {
   "codemirror_mode": {
    "name": "ipython",
    "version": 2
   },
   "file_extension": ".py",
   "mimetype": "text/x-python",
   "name": "python",
   "nbconvert_exporter": "python",
   "pygments_lexer": "ipython2",
   "version": "2.7.6"
  }
 },
 "nbformat": 4,
 "nbformat_minor": 5
}
