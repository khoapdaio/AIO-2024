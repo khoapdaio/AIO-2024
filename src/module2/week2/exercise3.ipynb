{
 "cells": [
  {
   "metadata": {},
   "cell_type": "markdown",
   "source": [
    "Cosine Similarity (Độ tương đồng cosine ) là một thước đo dùng để xác định độ tương đồng giữa hai vector trong không gian\n",
    "vector trong không gian vector.\n",
    "\n",
    "Định nghĩa:\n",
    "Cosine similarity giữa hai vector A và B được định nghĩa như sau:\n",
    "\n",
    "Cosine Similarity(A,B)= tích vô hướng / tích độ dài "
   ],
   "id": "88c0f2621c3619d7"
  },
  {
   "metadata": {
    "ExecuteTime": {
     "end_time": "2024-08-26T03:49:25.409416Z",
     "start_time": "2024-08-26T03:49:25.152177Z"
    }
   },
   "cell_type": "code",
   "source": [
    "import numpy as np\n",
    "\n",
    "\n",
    "def compute_cosine(A, B):\n",
    "\tdot_prod = np.dot(A, B)\n",
    "\tnormA = np.linalg.norm(A)\n",
    "\tnormB = np.linalg.norm(B)\n",
    "\n",
    "\tcos_sim = dot_prod / (normA * normB)\n",
    "\treturn cos_sim\n"
   ],
   "id": "ffb65895ca6c652e",
   "outputs": [],
   "execution_count": 1
  },
  {
   "metadata": {
    "ExecuteTime": {
     "end_time": "2024-08-26T03:49:26.577157Z",
     "start_time": "2024-08-26T03:49:26.535719Z"
    }
   },
   "cell_type": "code",
   "source": [
    "vector_3d_A = np.arange(1, 10).reshape(3, 3)\n",
    "vector_3d_B = np.arange(11, 20).reshape(3, 3)\n",
    "\n",
    "vector_1d_A = np.arange(1, 5)\n",
    "vector_1d_B = np.array([1, 0, 3, 0])\n",
    "\n",
    "print(f\"vector_3d_A: {vector_3d_A}\")\n",
    "print(f\"vector_3d_B: {vector_3d_B}\")\n",
    "print(f\"cosine similarity: {compute_cosine(vector_3d_A, vector_3d_B)}\")\n",
    "\n",
    "print(f\"vector_1d_A: {vector_1d_A}\")\n",
    "print(f\"vector_1d_B: {vector_1d_B}\")\n",
    "print(f\"cosine similarity: {compute_cosine(vector_1d_A, vector_1d_B)}\")\n"
   ],
   "id": "27597494d0f2cd59",
   "outputs": [
    {
     "name": "stdout",
     "output_type": "stream",
     "text": [
      "vector_3d_A: [[1 2 3]\n",
      " [4 5 6]\n",
      " [7 8 9]]\n",
      "vector_3d_B: [[11 12 13]\n",
      " [14 15 16]\n",
      " [17 18 19]]\n",
      "cosine similarity: [[0.11675273 0.12453625 0.13231976]\n",
      " [0.28020656 0.29966534 0.31912413]\n",
      " [0.44366038 0.47479444 0.5059285 ]]\n",
      "vector_1d_A: [1 2 3 4]\n",
      "vector_1d_B: [1 0 3 0]\n",
      "cosine similarity: 0.5773502691896257\n"
     ]
    }
   ],
   "execution_count": 2
  },
  {
   "metadata": {},
   "cell_type": "code",
   "outputs": [],
   "execution_count": null,
   "source": "",
   "id": "5415deca1c759ffe"
  }
 ],
 "metadata": {
  "kernelspec": {
   "display_name": "Python 3",
   "language": "python",
   "name": "python3"
  },
  "language_info": {
   "codemirror_mode": {
    "name": "ipython",
    "version": 2
   },
   "file_extension": ".py",
   "mimetype": "text/x-python",
   "name": "python",
   "nbconvert_exporter": "python",
   "pygments_lexer": "ipython2",
   "version": "2.7.6"
  }
 },
 "nbformat": 4,
 "nbformat_minor": 5
}
