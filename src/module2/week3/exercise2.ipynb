{
 "cells": [
  {
   "metadata": {},
   "cell_type": "markdown",
   "source": [
    "### 2. MULTI-LABEL CLASSIFICATION - TRAFFIC DATA\n",
    "Cho tập dữ liệu huấn luyện mô hình phân loại Naive Bayes gồm các thuộc tính \"Day\", \"Season\", \"Fog\", \"Rain\" \n",
    "\n",
    "| Day     | Season | Fog   | Rain  | Class     |\n",
    "|---------|--------|-------|-------|-----------|\n",
    "| Weekday | Spring | None  | None  | On Time   |\n",
    "| Weekday | Winter | None  | Slight| On Time   |\n",
    "| Weekday | Winter | None  | None  | On Time   |\n",
    "| Holiday | Winter | High  | Slight| Late      |\n",
    "| Saturday| Summer | Normal| None  | On Time   |\n",
    "| Weekday | Autumn | Normal| None  | Very Late |\n",
    "| Holiday | Summer | High  | Slight| On Time   |\n",
    "| Sunday  | Summer | Normal| None  | On Time   |\n",
    "| Weekday | Winter | High  | Heavy | Very Late |\n",
    "| Weekday | Summer | None  | Slight| On Time   |\n",
    "| Saturday| Spring | High  | Heavy | Cancelled |\n",
    "| Weekday | Summer | High  | Slight| On Time   |\n",
    "| Weekday | Winter | Normal| None  | Late      |\n",
    "| Weekday | Summer | High  | None  | On Time   |\n",
    "| Weekday | Winter | Normal| Heavy | Very Late |\n",
    "| Saturday| Autumn | High  | Slight| On Time   |\n",
    "| Weekday | Autumn | None  | Heavy | On Time   |\n",
    "| Holiday | Spring | Normal| Slight| On Time   |\n",
    "| Weekday | Spring | Normal| None  | On Time   |\n",
    "| Weekday | Spring | Normal| Heavy | On Time   |\n",
    "\n",
    "Cho sự kiện thử nghiệm:\n",
    "\n",
    "**X = (Day = Weekday, Season = Winter, Fog = High, Rain = Heavy)**\n"
   ],
   "id": "feb63c6e2e4acafc"
  },
  {
   "metadata": {},
   "cell_type": "markdown",
   "source": [
    "#### Câu hỏi 5: Xác suất xảy ra sự kiện \"Class\"=\"On Time\", sự kiện \"Class\" = \"Late\", sự kiện \"Class\" = \"Very Late\" và sự kiện \"Class\" = \"Cancelled\" lần lượt là :\n",
    "\n",
    "Từ bảng trên ta có : Tổng sô buổi lên lớp là 20 lần \n",
    "- On Time: 14 lần\n",
    "- Very Late: 3 lần\n",
    "- Late: 2 lần\n",
    "- Cancelled: 1 lần\n",
    "\n",
    "**Ta sẽ được xác suất xảy ra các sự kiện như sau :**\n",
    "\n",
    "$\\text{P(\"Class\" =\"On Time\")} = \\frac{14}{20}$,\n",
    "\n",
    "$\\text{P(\"Class\" =\"Very Late\")} = \\frac{3}{20}$,\n",
    "\n",
    "$\\text{P(\"Class\" =\"Late\")} = \\frac{2}{20}$,\n",
    "\n",
    "$\\text{P(\"Class\" =\"Cancelled\")} = \\frac{1}{20}$\n",
    "\n",
    "**Vậy đáp án sẽ là A**"
   ],
   "id": "5d34ee8540f5ef1b"
  },
  {
   "metadata": {},
   "cell_type": "markdown",
   "source": [
    "#### Câu hỏi 6: Xác suất xảy ra sự kiện \"Class\" = \"On Time\" khi sự kiện X xảy ra là:\n",
    "Áp dụng công thức\n",
    "$$\n",
    "P(c|X) ∝ P(x1|c).P(x2|c)...P(xn|c).P(c)\n",
    "$$\n",
    "\n",
    "Ta có: \n",
    "\n",
    "P(X1|C) = 9/14,\n",
    "\n",
    "P(X2|C) = 2/14,\n",
    "\n",
    "P(X3|C) = 4/14,\n",
    "\n",
    "P(X4|C) = 2/14,\n",
    "\n",
    "$$\n",
    " \\text{P(c|X)} = \\frac{9}{14}*\\frac{2}{14}*\\frac{4}{14}*\\frac{2}{14}*\\frac{14}{20} = \\frac{1}{360} \\approx 0.0026\n",
    "$$\n",
    "\n",
    "**Vậy đáp án sẽ là C P(\"Class\" = \"On Time\" | X) ∝ 0.0026**\n"
   ],
   "id": "d44b975df12747eb"
  },
  {
   "metadata": {},
   "cell_type": "markdown",
   "source": [
    "#### Câu hỏi 7: Xác suất xảy ra sự kiện \"Class\"= \"Late\" khi sự kiện X xảy ra là:\n",
    "Áp dụng công thức\n",
    "$$\n",
    "P(c|X) ∝ P(x1|c).P(x2|c)...P(xn|c).P(c)\n",
    "$$\n",
    "\n",
    "Ta có: \n",
    "\n",
    "P(X1|C) = 1/2,\n",
    "\n",
    "P(X2|C) = 2/2,\n",
    "\n",
    "P(X3|C) = 1/2,\n",
    "\n",
    "P(X4|C) = 0/2,\n",
    "\n",
    "$$\n",
    " \\text{P(c|X)} = \\frac{1}{2}*\\frac{2}{2}*\\frac{1}{2}*\\frac{0}{2}*\\frac{2}{20} = 0\n",
    "$$\n",
    "\n",
    "**Vậy đáp án sẽ là D P(\"Class\" = \"Late\" | X) ∝ 0.0000**"
   ],
   "id": "620f47d3b05ecbc5"
  },
  {
   "metadata": {},
   "cell_type": "markdown",
   "source": [
    "#### Câu hỏi 8: Xác suất xảy ra sự kiện \"Class\"= \"Very Late\" khi sự kiện X xảy ra là:\n",
    "Áp dụng công thức\n",
    "$$\n",
    "P(c|X) ∝ P(x1|c).P(x2|c)...P(xn|c).P(c)\n",
    "$$\n",
    "\n",
    "Ta có: \n",
    "\n",
    "P(X1|C) = 3/3,\n",
    "\n",
    "P(X2|C) = 2/3,\n",
    "\n",
    "P(X3|C) = 1/3,\n",
    "\n",
    "P(X4|C) = 2/3,\n",
    "\n",
    "$$\n",
    " \\text{P(c|X)} = \\frac{3}{3}*\\frac{2}{3}*\\frac{1}{3}*\\frac{2}{3}*\\frac{3}{20} = \\frac{1}{360} \\approx 0.0222\n",
    "$$\n",
    "\n",
    "**Vậy đáp án sẽ là A P(\"Class\" = \"Very Late\" | X) ∝ 0.0222**"
   ],
   "id": "a7add6deebb4602e"
  },
  {
   "metadata": {},
   "cell_type": "markdown",
   "source": [
    "#### Câu hỏi 9: Xác suất xảy ra sự kiện \"Class\"= \"Cancelled\" khi sự kiện X xảy ra là:\n",
    "Áp dụng công thức\n",
    "$$\n",
    "P(c|X) ∝ P(x1|c).P(x2|c)...P(xn|c).P(c)\n",
    "$$\n",
    "\n",
    "Ta có: \n",
    "\n",
    "P(X1|C) = 0/1,\n",
    "\n",
    "P(X2|C) = 0/1,\n",
    "\n",
    "P(X3|C) = 1/1,\n",
    "\n",
    "P(X4|C) = 1/1,\n",
    "\n",
    "$$\n",
    " \\text{P(c|X)} = \\frac{0}{1}*\\frac{0}{1}*\\frac{1}{1}*\\frac{1}{1}*\\frac{1}{20} = 0.000\n",
    "$$\n",
    "\n",
    "**Vậy đáp án sẽ là D P(\"Class\" = \"Cancelled\" | X) ∝ 0.0000**"
   ],
   "id": "9d46595adf3fdc07"
  },
  {
   "metadata": {},
   "cell_type": "markdown",
   "source": [
    "#### Câu hỏi 10: Dự đoán \"Class\" của sự kiện là :\n",
    "\n",
    "**Đáp án (C)\"Very Late\"**"
   ],
   "id": "573bd4128d442757"
  }
 ],
 "metadata": {
  "kernelspec": {
   "display_name": "Python 3",
   "language": "python",
   "name": "python3"
  },
  "language_info": {
   "codemirror_mode": {
    "name": "ipython",
    "version": 2
   },
   "file_extension": ".py",
   "mimetype": "text/x-python",
   "name": "python",
   "nbconvert_exporter": "python",
   "pygments_lexer": "ipython2",
   "version": "2.7.6"
  }
 },
 "nbformat": 4,
 "nbformat_minor": 5
}
