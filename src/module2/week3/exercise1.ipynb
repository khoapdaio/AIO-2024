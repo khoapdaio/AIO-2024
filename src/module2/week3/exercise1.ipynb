{
 "cells": [
  {
   "metadata": {},
   "cell_type": "markdown",
   "source": [
    "#### 1. Binary classification - play tennis\n",
    "\n",
    "| Day | Outlook  | Temperature | Humidity | Wind  | PlayTennis |\n",
    "|-----|----------|-------------|----------|-------|------------|\n",
    "| D1  | Sunny    | Hot         | High     | Weak  | No         |\n",
    "| D2  | Sunny    | Hot         | High     | Strong| No         |\n",
    "| D3  | Overcast | Hot         | High     | Weak  | Yes        |\n",
    "| D4  | Rain     | Mild        | High     | Weak  | Yes        |\n",
    "| D5  | Rain     | Cool        | Normal   | Weak  | Yes        |\n",
    "| D6  | Rain     | Cool        | Normal   | Strong| No         |\n",
    "| D7  | Overcast | Cool        | Normal   | Strong| Yes        |\n",
    "| D8  | Overcast | Mild        | High     | Weak  | No         |\n",
    "| D9  | Sunny    | Cool        | Normal   | Weak  | Yes        |\n",
    "| D10 | Rain     | Mild        | Normal   | Weak  | Yes        |\n",
    "\n",
    "Cho sự kiện thử nghiệm:\n",
    "\n",
    "X = (Outlook=Sunny, Temperature=Cool, Humidity=High, Wind=Strong)"
   ],
   "id": "273fc693e6923017"
  },
  {
   "metadata": {},
   "cell_type": "markdown",
   "source": [
    "### 2. Bài tập\n",
    "\n",
    "#### Câu hỏi 1: Xác suất xảy ra sự kiện \"Play Tennis\" = \"Yes\" và sự kiện \"Play Tennis\" = \"No\" lần lượt là:\n",
    "\n",
    "Theo như bảng trên ta có: 6 buổi có chơi tennis và 4 buổi không chơi tennis, tổng là 10 buổi\n",
    "$$\n",
    "\\text{ => P(\"Play Tennis\" = \"Yes\" )} = \\frac{\\text{Số ngày \"Play Tennis\" = \"Yes\"}}{\\text{Tổng số ngày}}= \\frac{6}{10}\n",
    "$$\n",
    "$$\n",
    "\\text{ => P(\"Play Tennis\" = \"No\" )} = \\frac{\\text{Số ngày \"Play Tennis\" = \"No\"}}{\\text{Tổng số ngày}}= \\frac{4}{10}\n",
    "$$\n",
    "\n",
    "##### => Đáp án là A\n"
   ],
   "id": "3b6e1b5610b8df41"
  },
  {
   "metadata": {},
   "cell_type": "markdown",
   "source": [
    "#### Câu hỏi 2: Xác suất xảy ra sự kiện \"Play Tennis\" = \"Yes\" khi sự kiện X xảy ra là:\n",
    "Áp dụng công thức\n",
    "$$\n",
    "P(c|X) ∝ P(x1|c).P(x2|c)...P(xn|c).P(c)\n",
    "$$\n",
    "\n",
    "Ta có: \n",
    "P(X1|C) = 1/6\n",
    "P(X2|C) = 3/6\n",
    "P(X3|C) = 2/6\n",
    "P(X4|C) = 1/6\n",
    "$$\n",
    " \\text{p(c|X)} = \\frac{1}{6}*\\frac{3}{6}*\\frac{2}{6}*\\frac{1}{6}*\\frac{6}{10} = \\frac{1}{360} \\approx 0.0028\n",
    "$$\n",
    "\n",
    "Vậy đáp án là b) P(\"Play Tennis\" = \"Yes\"|X) ∝ 0.0028"
   ],
   "id": "1c164a49b005c3f"
  },
  {
   "metadata": {},
   "cell_type": "markdown",
   "source": [
    "#### Câu hỏi 3: Xác suất xảy ra sự kiện \"Play Tennis\" = \"No\" khi sự kiện X xảy ra là:\n",
    "\n",
    "$$\n",
    "P(c|X) ∝ P(x1|c).P(x2|c)...P(xn|c).P(c)\n",
    "$$\n",
    "\n",
    "Ta có: \n",
    "P(X1|C) = 2/4\n",
    "P(X2|C) = 1/4\n",
    "P(X3|C) = 3/4\n",
    "P(X4|C) = 2/4\n",
    "$$\n",
    " \\text{p(c|X)} = \\frac{2}{4}*\\frac{1}{4}*\\frac{3}{4}*\\frac{2}{4}*\\frac{4}{10} = \\frac{3}{160} \\approx 0.0188\n",
    "$$\n",
    "\n",
    "Vậy đáp án là c) P(\"Play Tennis\" = \"No\"|X) ∝ 0.0188"
   ],
   "id": "7f3c9b80b96205d0"
  },
  {
   "metadata": {},
   "cell_type": "markdown",
   "source": [
    "### Câu hỏi 4: Khi xảy ra sự kiện X, nhãn của \"Play Tennis\" sẽ là:\n",
    "b) \"Play Tennis\" = \" No\""
   ],
   "id": "cf979f7ef0bf8d16"
  },
  {
   "metadata": {},
   "cell_type": "markdown",
   "source": "",
   "id": "a988f2f4bd4adfa4"
  }
 ],
 "metadata": {
  "kernelspec": {
   "display_name": "Python 3",
   "language": "python",
   "name": "python3"
  },
  "language_info": {
   "codemirror_mode": {
    "name": "ipython",
    "version": 2
   },
   "file_extension": ".py",
   "mimetype": "text/x-python",
   "name": "python",
   "nbconvert_exporter": "python",
   "pygments_lexer": "ipython2",
   "version": "2.7.6"
  }
 },
 "nbformat": 4,
 "nbformat_minor": 5
}
