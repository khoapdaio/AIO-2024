{
 "cells": [
  {
   "metadata": {},
   "cell_type": "markdown",
   "source": [
    "### 3. IRIS CLASSIFICATION\n",
    "\n",
    "Cho một tập dữ liệu huấn luyện phân loại hoa Iris dựa vào chiều dài cánh hóa như bản dữ liệu bên dưới. Các bạn hãy trả lời các câu hỏi sau khi dùng Gaussion Naive Bayes cho data Iris này.\n",
    "\n",
    "\n",
    "|          | 1    | 2    | 3    | 4    | 5    | 6    | 7    | 8    | 9    | 10   | 11   | 12   |\n",
    "|----------|------|------|------|------|------|------|------|------|------|------|------|------|\n",
    "| **Length** | 1.4  | 1.0  | 1.3  | 1.9  | 2.0  | 1.8  | 3.0  | 3.8  | 4.1  | 3.9  | 4.2  | 3.4  |\n",
    "| **Class**  | 0    | 0    | 0    | 0    | 0    | 0    | 1    | 1    | 1    | 1    | 1    | 1    |\n"
   ],
   "id": "96d538ee0e736d33"
  },
  {
   "metadata": {},
   "cell_type": "markdown",
   "source": [
    "#### Câu hỏi 11: Giá trị mean và variance của biến đầu vào (Length)  cho \"Class\" = \"0\" lần lượt là:\n",
    "\n",
    "Từ bảng trên ta có các giá trị với Class = \"0\" : 1.4,1.0,1.3,1.9,2.0,1.8\n",
    "=> mean(trung bình) = (1.4 + 1.0 + 1.3 + 1.9 + 2.0 + 1.8)/ 6 =1.566\n",
    "\n",
    "=>$ \\text{variance(Phương sai)} = \\frac{(1.4- 1.566)^2 + (1.0- 1.566)^2+(1.3- 1.566)^2+(1.9- 1.566)^2+(2.0- 1.566)^2+(1.8- 1.566)^2}{6} \\approx 0.1287$\n",
    "\n",
    "\n",
    "**Đáp án là a) mean=1.566 và variance=0.128**\n"
   ],
   "id": "8067f9b93c1af521"
  },
  {
   "metadata": {},
   "cell_type": "markdown",
   "source": [
    "#### Câu hỏi 12: Giá trị mean và variance của biến đầu vào (Length)  cho \"Class\" = \"1\" lần lượt là:\n",
    "\n",
    "Từ bảng trên ta có các giá trị với Class = \"0\" :  3.0, 3.8, 4.1, 3.9, 4.2, 3.4 \n",
    "=> mean(trung bình) = (3.0+ 3.8+4.1+3.9+4.2+3.4)/ 6 = 3.7333\n",
    "\n",
    "=>$ \\text{variance(Phương sai)} = \\frac{(3.0- 3.7333)^2 + (3.8- 3.7333)^2+(4.1- 3.7333)^2+(3.9 - 3.7333)^2+(4.2- 3.7333)^2+(3.4- 3.7333)^2}{6} \\approx 0.1721$\n",
    "\n",
    "\n",
    "**Đáp án là a) mean=3.733 và variance=0.172**"
   ],
   "id": "204b6707ef0b92f9"
  },
  {
   "metadata": {},
   "cell_type": "markdown",
   "source": [
    "#### Câu hỏi 13: cho dữ liệu kiểm thử X = (Length=3.4). Xác suất dữ liệu kiểm thử X thuộc vào \"Class\" =\"0\" và \"Class\" =\"1\" lần lượt là:\n",
    "\n",
    "Áp dụng công thức cho Gaussian Naive Bayes\n",
    "$$\n",
    "\\[ P(X|c) = \\frac{1}{\\sqrt{2 \\pi \\sigma_c^2}} \\exp \\left( -\\frac{(X - \\mu_c)^2}{2 \\sigma_c^2} \\right) \\]\n",
    "$$\n",
    "\n",
    "Với các giá trị đã tính được từ trước:\n",
    "\n",
    "- $\\mu_0$(mean class 0): 1.566\n",
    "- $\\sigma_0^2$(Variance class 0): 0.128\n",
    "- $\\mu_1$(mean class 1): 3.733\n",
    "- $\\sigma_1^2$(Variance class 1): 0.172\n",
    "- X = 3.4\n",
    "- $\\text{P(Class = 0)}=\\frac{6}{12}=0.5$\n",
    "- $\\text{P(Class = 1)}=\\frac{6}{12}=0.5$\n",
    "\n",
    "=> Ta sẽ tính được P(X|c_0) và P(X|c_1)\n",
    "\n",
    "$\\text{P(X|Class=0) } \\approx \\frac{1}{\\sqrt{2 \\pi * 0.128^2}} \\exp \\left( -\\frac{(3.4 - 1.566)^2}{2*0.128^2} \\right) \\approx 2.191*10^{-6}$.\n",
    "\n",
    "$\\text{P(X|Class=1) } \\approx \\frac{1}{\\sqrt{2 \\pi * 0.172^2}} \\exp \\left( -\\frac{(3.4 - 3.733)^2}{2*0.172^2} \\right) \\approx 0.696$.\n",
    "\n",
    "Và ta sẽ có kết quả như sau:\n",
    "\n",
    "$\\text{P(Class = 0|X)}= \\text{P(X|Class=0)}*\\text{P(Class = 0)} = 2.191*10^{-6}*\\frac{1}{2} \\approx 1.096*10^{-6}$.\n",
    "\n",
    "$\\text{P(Class = 0|X)}= \\text{P(X|Class=0)}*\\text{P(Class = 0)} = 0.696*10^{-6}*\\frac{1}{2} \\approx 0.348$.\n",
    "\n",
    "**Vậy đáp án của ta là a) P(\"Class\" = \"0\" | X) = 1.09 ∗ $10^{−6}$ và P(\"Class\" = \"1\" | X) = 0.3486**"
   ],
   "id": "629c78e0b8165217"
  },
  {
   "metadata": {},
   "cell_type": "markdown",
   "source": "",
   "id": "630ad4f789e84dbe"
  }
 ],
 "metadata": {
  "kernelspec": {
   "display_name": "Python 3",
   "language": "python",
   "name": "python3"
  },
  "language_info": {
   "codemirror_mode": {
    "name": "ipython",
    "version": 2
   },
   "file_extension": ".py",
   "mimetype": "text/x-python",
   "name": "python",
   "nbconvert_exporter": "python",
   "pygments_lexer": "ipython2",
   "version": "2.7.6"
  }
 },
 "nbformat": 4,
 "nbformat_minor": 5
}
