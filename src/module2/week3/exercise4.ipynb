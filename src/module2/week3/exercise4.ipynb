{
 "cells": [
  {
   "metadata": {},
   "cell_type": "markdown",
   "source": [
    "### 4. PLAY TENNIS CLASSIFIER IMPLEMENTATION\n",
    "\n",
    "Cho trước dữ liệu thời tiết của 10 ngày (D1-D10,như bảng 1) hãy phát triển chương trình sử dụng mô hình phân loại Naive Bayes để dự đoán xem ngày thứ 11 (D11), AD có thể chơi tennis hay không ?\n",
    "\n",
    "| Day         | Outlook | Temperature | Humidity | Wind   | PlayTennis |\n",
    "|-------------|---------|--------------|----------|--------|------------|\n",
    "| **D11**     | Sunny   | Cool         | High     | Strong | ???        |"
   ],
   "id": "4a47c696de4192cb"
  },
  {
   "metadata": {},
   "cell_type": "markdown",
   "source": "4.1 Hoàn thiện function create_train_dateset() để tổ chức dữ liệu bảng 1 vào array 2 chiều như bên dưới.",
   "id": "34fb3b37c6109272"
  },
  {
   "metadata": {
    "ExecuteTime": {
     "end_time": "2024-07-29T03:12:09.967446Z",
     "start_time": "2024-07-29T03:12:09.038247Z"
    }
   },
   "cell_type": "code",
   "source": [
    "# ########################\n",
    "# Create data\n",
    "# ########################\n",
    "import numpy as np\n",
    "\n",
    "\n",
    "def create_train_data():\n",
    "\t# your code here ************************\n",
    "\tdata = [['Sunny', 'Hot', 'High', 'Weak', 'no'],\n",
    "\t        ['Sunny', 'Hot', 'High', 'Strong', 'no'],\n",
    "\t        ['Overcast', 'Hot', 'High', 'Weak', 'yes'],\n",
    "\t        ['Rain', 'Mild', 'High', 'Weak', 'yes'],\n",
    "\t        ['Rain', 'Cool', 'Normal', 'Weak', 'yes'],\n",
    "\t        ['Rain', 'Cool', 'Normal', 'Strong', 'no'],\n",
    "\t        ['Overcast', 'Cool', 'Normal', 'Strong', 'yes'],\n",
    "\t        ['Overcast', 'Mild', 'High', 'Weak', 'no'],\n",
    "\t        ['Sunny', 'Cool', 'Normal', 'Weak', 'yes'],\n",
    "\t        ['Rain', 'Mild', 'Normal', 'Weak', 'yes']]\n",
    "\treturn np.array(data)\n",
    "\n",
    "\n",
    "train_data = create_train_data()\n",
    "print(train_data)\n",
    "\n"
   ],
   "id": "a6e6a135c0b32b4",
   "outputs": [
    {
     "name": "stdout",
     "output_type": "stream",
     "text": [
      "[['Sunny' 'Hot' 'High' 'Weak' 'no']\n",
      " ['Sunny' 'Hot' 'High' 'Strong' 'no']\n",
      " ['Overcast' 'Hot' 'High' 'Weak' 'yes']\n",
      " ['Rain' 'Mild' 'High' 'Weak' 'yes']\n",
      " ['Rain' 'Cool' 'Normal' 'Weak' 'yes']\n",
      " ['Rain' 'Cool' 'Normal' 'Strong' 'no']\n",
      " ['Overcast' 'Cool' 'Normal' 'Strong' 'yes']\n",
      " ['Overcast' 'Mild' 'High' 'Weak' 'no']\n",
      " ['Sunny' 'Cool' 'Normal' 'Weak' 'yes']\n",
      " ['Rain' 'Mild' 'Normal' 'Weak' 'yes']]\n"
     ]
    }
   ],
   "execution_count": 3
  },
  {
   "metadata": {},
   "cell_type": "markdown",
   "source": "4.2 Hoàn thiện function compute_prior_probability tính P(\"Play Tennis\"=\"Yes\") và tính P(\"Play Tennis\"=\"No\")",
   "id": "c903cecdc16c49b4"
  },
  {
   "metadata": {
    "ExecuteTime": {
     "end_time": "2024-07-29T03:40:46.778642Z",
     "start_time": "2024-07-29T03:40:46.772096Z"
    }
   },
   "cell_type": "code",
   "source": [
    "def compute_prior_probability(train_data):\n",
    "\ty_uniqe = ['no', 'yes']\n",
    "\tprior_probability = np.zeros(len(y_uniqe))\n",
    "\tdata = train_data.copy()\n",
    "\tcount_no = 0\n",
    "\tcount_yes = 0\n",
    "\tfor element in data:\n",
    "\t\tif element[-1] == y_uniqe[0]:\n",
    "\t\t\tcount_no += 1\n",
    "\t\tif element[-1] == y_uniqe[1]:\n",
    "\t\t\tcount_yes += 1\n",
    "\n",
    "\tprior_probability = (count_no / len(data), count_yes / len(data))\n",
    "\treturn prior_probability\n",
    "\n",
    "\n",
    "prior_probablity = compute_prior_probability(train_data)\n",
    "print(\"P( play tennis = No) = \", prior_probablity[0])\n",
    "print(\"P( play tennis = Yes) = \", prior_probablity[1])"
   ],
   "id": "1a0e9daa262eae61",
   "outputs": [
    {
     "name": "stdout",
     "output_type": "stream",
     "text": [
      "P( play tennis = No) =  0.4\n",
      "P( play tennis = Yes) =  0.6\n"
     ]
    }
   ],
   "execution_count": 11
  },
  {
   "metadata": {},
   "cell_type": "markdown",
   "source": "4.3 Hoàn thiện function compute_conditional_probability để tính likelihood (the Probability) of A being True. Given \"B\" True, P(A|B))",
   "id": "e8c1400a578dd9ae"
  },
  {
   "metadata": {
    "ExecuteTime": {
     "end_time": "2024-07-29T04:13:17.276632Z",
     "start_time": "2024-07-29T04:13:17.265920Z"
    }
   },
   "cell_type": "code",
   "source": [
    "\n",
    "def compute_conditional_probability(train_data):\n",
    "\t# Các giá trị nhãn duy nhất (giả định là có hai giá trị: 'no' và 'yes')\n",
    "\ty_unique = ['no', 'yes']\n",
    "\t# Danh sách để lưu xác suất có điều kiện cho mỗi đặc trưng\n",
    "\tconditional_probability = []\n",
    "\t# Danh sách để lưu các giá trị duy nhất của mỗi đặc trưng\n",
    "\tlist_x_name = []\n",
    "\n",
    "\t# Duyệt qua từng cột của dữ liệu trừ cột cuối cùng (nhãn)\n",
    "\tfor i in range(0, train_data.shape[1] - 1):\n",
    "\t\t# Lấy các giá trị duy nhất của đặc trưng hiện tại\n",
    "\t\tx_unique = np.unique(train_data[:, i])\n",
    "\t\tlist_x_name.append(x_unique)\n",
    "\n",
    "\t\t# Khởi tạo ma trận để lưu xác suất có điều kiện\n",
    "\t\t# Hàng là các giá trị của nhãn, cột là các giá trị của đặc trưng\n",
    "\t\tx_conditional_probability = np.zeros((len(y_unique), len(x_unique)))\n",
    "\n",
    "\t\t# Duyệt qua từng giá trị nhãn\n",
    "\t\tfor j in range(len(y_unique)):\n",
    "\t\t\t# Duyệt qua từng giá trị đặc trưng\n",
    "\t\t\tfor k in range(len(x_unique)):\n",
    "\t\t\t\t# Đếm số lần xuất hiện của giá trị đặc trưng (x_unique[k]) khi nhãn là y_unique[j]\n",
    "\n",
    "\t\t\t\tx_conditional_probability[j, k] = (len(np.where((train_data[:, i] == x_unique[k])\n",
    "\t\t\t\t                                                & (train_data[:, -1] == y_unique[j]))[0])\n",
    "\t\t\t\t                                   / len(np.where(train_data[:, -1] == y_unique[j])[0]))\n",
    "\n",
    "\t\t# Lưu xác suất có điều kiện của đặc trưng hiện tại\n",
    "\t\tconditional_probability.append(x_conditional_probability)\n",
    "\n",
    "\t# Trả về danh sách các xác suất có điều kiện và danh sách các giá trị duy nhất của từng đặc trưng\n",
    "\treturn conditional_probability, list_x_name\n",
    "\n",
    "\n",
    "compute_conditional_probability(train_data)"
   ],
   "id": "85738230943335f0",
   "outputs": [
    {
     "data": {
      "text/plain": [
       "([array([[0.25      , 0.25      , 0.5       ],\n",
       "         [0.33333333, 0.5       , 0.16666667]]),\n",
       "  array([[0.25      , 0.5       , 0.25      ],\n",
       "         [0.5       , 0.16666667, 0.33333333]]),\n",
       "  array([[0.75      , 0.25      ],\n",
       "         [0.33333333, 0.66666667]]),\n",
       "  array([[0.5       , 0.5       ],\n",
       "         [0.16666667, 0.83333333]])],\n",
       " [array(['Overcast', 'Rain', 'Sunny'], dtype='<U8'),\n",
       "  array(['Cool', 'Hot', 'Mild'], dtype='<U8'),\n",
       "  array(['High', 'Normal'], dtype='<U8'),\n",
       "  array(['Strong', 'Weak'], dtype='<U8')])"
      ]
     },
     "execution_count": 29,
     "metadata": {},
     "output_type": "execute_result"
    }
   ],
   "execution_count": 29
  },
  {
   "metadata": {},
   "cell_type": "markdown",
   "source": " Câu hỏi 15: Đáp dựa vào 4.3 => đáp án b",
   "id": "8b6222ef3a921455"
  },
  {
   "metadata": {},
   "cell_type": "markdown",
   "source": "4.4 Hoàn thiện function get_index_from_value để tính trả về index tương ứng với feature name:",
   "id": "5dd30f2269210230"
  },
  {
   "metadata": {
    "ExecuteTime": {
     "end_time": "2024-07-29T03:48:42.400212Z",
     "start_time": "2024-07-29T03:48:42.394586Z"
    }
   },
   "cell_type": "code",
   "source": [
    "# This function is used to return the index of the feature name\n",
    "def get_index_from_value(feature_name, list_features):\n",
    "\treturn np.where(list_features == feature_name)[0][0]\n",
    "\n",
    "\n",
    "train_data = create_train_data()\n",
    "_, list_x_name = compute_conditional_probability(train_data)\n",
    "outlook = list_x_name[0]\n",
    "\n",
    "i1 = get_index_from_value(\"Overcast\", outlook)\n",
    "i2 = get_index_from_value(\"Rain\", outlook)\n",
    "i3 = get_index_from_value(\"Sunny\", outlook)\n",
    "\n",
    "print(i1, i2, i3)"
   ],
   "id": "c47290e15e4e86a6",
   "outputs": [
    {
     "name": "stdout",
     "output_type": "stream",
     "text": [
      "0 1 2\n"
     ]
    }
   ],
   "execution_count": 19
  },
  {
   "metadata": {},
   "cell_type": "markdown",
   "source": "Câu hỏi 16 => đáp n c) 0 1 2",
   "id": "e24eb08ea06dda91"
  },
  {
   "metadata": {
    "ExecuteTime": {
     "end_time": "2024-07-29T04:05:42.982602Z",
     "start_time": "2024-07-29T04:05:42.976324Z"
    }
   },
   "cell_type": "code",
   "source": [
    "train_data = create_train_data()\n",
    "conditional_probability, list_x_name = compute_conditional_probability(train_data)\n",
    "# Compute P(\" Outlook \"=\" Sunny \"| Play Tennis \"=\" Yes \")\n",
    "x1 = get_index_from_value(\"Sunny\", list_x_name[0])\n",
    "\n",
    "print(\"P( ’ Outlook ’= ’ Sunny ’| Play Tennis ’= ’Yes ’) = \", np.round(conditional_probability[0][1, x1], 2))"
   ],
   "id": "9f96f965dde3c249",
   "outputs": [
    {
     "name": "stdout",
     "output_type": "stream",
     "text": [
      "2\n",
      "0.0\n",
      "P( ’ Outlook ’= ’ Sunny ’| Play Tennis ’= ’Yes ’) =  0.17\n"
     ]
    }
   ],
   "execution_count": 26
  },
  {
   "metadata": {},
   "cell_type": "markdown",
   "source": "Câu hỏi 17 => d) P('Outlook' ='Sunny'|'Play Tennis' = 'Yes') = 0.17",
   "id": "57163567a322288e"
  },
  {
   "metadata": {
    "ExecuteTime": {
     "end_time": "2024-07-29T07:20:45.607371Z",
     "start_time": "2024-07-29T07:20:45.602120Z"
    }
   },
   "cell_type": "code",
   "source": [
    "train_data = create_train_data()\n",
    "conditional_probability, list_x_name = compute_conditional_probability(train_data)\n",
    "# Compute P(\" Outlook \"=\" Sunny \"| Play Tennis \"=\" No \")\n",
    "x1 = get_index_from_value(\"Sunny\", list_x_name[0])\n",
    "print(\"P( ’ Outlook ’= ’ Sunny ’| Play Tennis ’= ’No ’) = \", np.round(conditional_probability\n",
    "                                                                      [0][0, x1], 2))"
   ],
   "id": "b73a9779348adce9",
   "outputs": [
    {
     "name": "stdout",
     "output_type": "stream",
     "text": [
      "P( ’ Outlook ’= ’ Sunny ’| Play Tennis ’= ’No ’) =  0.5\n"
     ]
    }
   ],
   "execution_count": 35
  },
  {
   "metadata": {},
   "cell_type": "markdown",
   "source": "Câu hỏi 18 =>  a) P('Outlook' ='Sunny'|'Play Tennis' = 'No') = 0.5",
   "id": "184aedf7fb7968c1"
  },
  {
   "metadata": {
    "ExecuteTime": {
     "end_time": "2024-07-29T07:07:31.021620Z",
     "start_time": "2024-07-29T07:07:31.005630Z"
    }
   },
   "cell_type": "code",
   "source": [
    "# ##########################\n",
    "# Train Naive Bayes Model\n",
    "# ##########################\n",
    "def train_naive_bayes(train_data):\n",
    "\t# Step 1: Calculate Prior Probability\n",
    "\ty_unique = ['no', 'yes']\n",
    "\tprior_probability = compute_prior_probability(train_data)\n",
    "\n",
    "\t# Step 2: Calculate Conditional Probability\n",
    "\tconditional_probability, list_x_name = compute_conditional_probability(train_data)\n",
    "\n",
    "\treturn prior_probability, conditional_probability, list_x_name"
   ],
   "id": "3d99af64013e0c4",
   "outputs": [],
   "execution_count": 32
  },
  {
   "metadata": {
    "ExecuteTime": {
     "end_time": "2024-07-29T07:07:33.984858Z",
     "start_time": "2024-07-29T07:07:33.976011Z"
    }
   },
   "cell_type": "code",
   "source": [
    "# ###################\n",
    "# Prediction\n",
    "# ###################\n",
    "def prediction_play_tennis(X, list_x_name, prior_probability, conditional_probability):\n",
    "\tx1 = get_index_from_value(X[0], list_x_name[0])\n",
    "\tx2 = get_index_from_value(X[1], list_x_name[1])\n",
    "\tx3 = get_index_from_value(X[2], list_x_name[2])\n",
    "\tx4 = get_index_from_value(X[3], list_x_name[3])\n",
    "\n",
    "\tp0 = prior_probability[0] \\\n",
    "\t     * conditional_probability[0][0, x1]\\\n",
    "\t     * conditional_probability[1][0, x2]\\\n",
    "\t     * conditional_probability[2][0, x3]\\\n",
    "\t     * conditional_probability[3][0, x4]\n",
    "\tp1 =prior_probability[1] \\\n",
    "\t     * conditional_probability[0][1, x1]\\\n",
    "\t     * conditional_probability[1][1, x2]\\\n",
    "\t     * conditional_probability[2][1, x3]\\\n",
    "\t     * conditional_probability[3][1, x4]\n",
    "\n",
    "\t# your code here ***********************\n",
    "\n",
    "\tif p0 > p1:\n",
    "\t\ty_pred = 0\n",
    "\telse:\n",
    "\t\ty_pred = 1\n",
    "\n",
    "\treturn y_pred"
   ],
   "id": "80b3811dd7b35849",
   "outputs": [],
   "execution_count": 33
  },
  {
   "metadata": {
    "ExecuteTime": {
     "end_time": "2024-07-29T07:07:36.503848Z",
     "start_time": "2024-07-29T07:07:36.497737Z"
    }
   },
   "cell_type": "code",
   "source": [
    "X = ['Sunny', 'Cool', 'High', 'Strong']\n",
    "\n",
    "data = create_train_data()\n",
    "\n",
    "prior_probability, conditional_probability, list_x_name = train_naive_bayes(data)\n",
    "pred = prediction_play_tennis(X, list_x_name, prior_probability, conditional_probability)\n",
    "\n",
    "if (pred):\n",
    "\tprint(\"Ad should go!\")\n",
    "else:\n",
    "\tprint(\"Ad should not go!\")"
   ],
   "id": "861dcc842d3ec969",
   "outputs": [
    {
     "name": "stdout",
     "output_type": "stream",
     "text": [
      "Ad should not go!\n"
     ]
    }
   ],
   "execution_count": 34
  },
  {
   "metadata": {},
   "cell_type": "markdown",
   "source": "Câu hỏi 19: đáp án a) ad should not go",
   "id": "b10aa625dffa495b"
  }
 ],
 "metadata": {
  "kernelspec": {
   "display_name": "Python 3",
   "language": "python",
   "name": "python3"
  },
  "language_info": {
   "codemirror_mode": {
    "name": "ipython",
    "version": 2
   },
   "file_extension": ".py",
   "mimetype": "text/x-python",
   "name": "python",
   "nbconvert_exporter": "python",
   "pygments_lexer": "ipython2",
   "version": "2.7.6"
  }
 },
 "nbformat": 4,
 "nbformat_minor": 5
}
