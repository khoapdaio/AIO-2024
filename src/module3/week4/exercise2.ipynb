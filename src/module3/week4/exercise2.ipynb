{
 "cells": [
  {
   "metadata": {},
   "cell_type": "markdown",
   "source": "## Bài tập trắc nghiệm\n",
   "id": "14a2d3a7b28a3b6"
  },
  {
   "metadata": {},
   "cell_type": "markdown",
   "source": [
    "Câu 1: Giá trị khởi tạo cho giá trị dự đoán trong thuật toán Gradient Boosting được xác định dựa vào \n",
    "\n",
    "Đáp án đúng: (C) Giá trị trung bình\n",
    "\n",
    "Vì trong Gradient Boosting, giá trị dự đoán ban đầu thường l giá trị trung bình của các nhãn đầu ra(Target values) trong bài toán hồi quy. Điều này giúp hệ thống có một khởi đầu trung lập trước khi các mô hình yếu hơn được thêm vào để cải thiện dự đoán\n",
    "\n"
   ],
   "id": "cc4e4680b8d65fa4"
  },
  {
   "metadata": {},
   "cell_type": "markdown",
   "source": [
    "Câu 2: Thuật ngữ nào sau đay không thuộc Regression Tree\n",
    "\n",
    "Đáp án đung: (A) Logistic Regression\n",
    "\n",
    "Vì Logistic regression là một thuật toán học máy riêng biệt, thường được sử dụng cho bài toán phân loại. Gini Index, Pruning, và Spliting Criterion là các thuật ngữ liên quan trực tiếp đến cây hồi quy (Regression Tree)\n"
   ],
   "id": "8675b396099ccf26"
  },
  {
   "metadata": {},
   "cell_type": "markdown",
   "source": [
    "Câu 3: Công thức nào sau đây đúng về Mean Square Error(MSE):\n",
    "\n",
    "Đáp án đúng là: (b)\n",
    " \n",
    "Công thức tính của MSE là: $MSE=\\frac{1}{n}\\displaystyle \\sum_{i=1}^n (y_i- overline{y_i})^2 $ \n",
    "\n",
    "Đây là công thức chuẩn được sử dụng để đo lường sự khác biệt trung bình phương giữa giá trị thực($y_i$) và giá trị dự đoán (\\overline{y_i})"
   ],
   "id": "f2c57d339b4de405"
  },
  {
   "metadata": {},
   "cell_type": "markdown",
   "source": [
    "Câu 4: Trong Regression tree, thành phần nào đóng vai trò là điểm khởi đầu trong việc đưa ra quyết định\n",
    "\n",
    "Đáp án đúng là (d) Root node\n",
    "\n",
    "Root Node (nút gốc) là điểm khởi đầu của cây quyết định, từ đó cây sẽ được phân nhánh thành các nút nội bộ (Internal Nodes) và các nút lá (Leaf Nodes)\n",
    "\n"
   ],
   "id": "e1610de5bd0e2506"
  },
  {
   "metadata": {},
   "cell_type": "markdown",
   "source": [
    "Câu 5: Trong regression, thành phần nào đóng vai trò chứa kết quả dự đoán và không phân nhánh\n",
    "\n",
    "Đáp án đúng (b) Leaf Node\n",
    "\n",
    "Leaf Node (nút lá ) là nơi chứa kết quả dự đoán cuối cùng trong cây quyết định, và không có bất kỳ phân nhanh nào từ nút này"
   ],
   "id": "eac2474417be98fb"
  },
  {
   "metadata": {},
   "cell_type": "markdown",
   "source": [
    "Câu 6-a: Điều kiện nào sau đây có thể là điều kiện phân nhánh đầu tiên cho cây, sử dụng độ đo MSE làm splitting criterion \n",
    "\n",
    "Đáp án đúng: (b)  X<=8\n",
    "\n",
    "MSE (Mean Square Error) là tiêu chuẩn để chọn điểm phân nhánh sao cho sự khác biệt giữa giá trị thực tế và giá trị dự đoán trong mỗi nhánh là nhỏ nhất. Ở đây, khi xét các giá trị X, X<=8 là điều kin tối ưu nhất để phân chia dữ liệu, vì tại điểm này, giá trị Y có sự thay đổi rõ ràng nhất trong dataset\n",
    "\n",
    "Câu 6-b: Dựa vào kết quả đạt được ở câu 6.a, giả sử với giá trị đầu vào X=2, kết quả dụ đoán của cây là\n",
    "\n",
    "Đáp án đúng là (a) 14\n",
    "\n",
    "Theo phân nhánh x<=8 khi x=2, dữ liệu thuộc nhánh nhỏ hơn hoặc bằng 8. Do đó, cây sẽ dự doán giá trị trung bình của nhánh này, tương ứng với cá giá trị Y cho X<=8, có thể tính trung bình các giá trị Y là X =3,5,8 ra kết quả khoảng 14\n",
    "\n",
    "Câu 6-c: Dựa vào kết quả đạt được ở câu 6.a, giả sử với giá trị đầu vào X=15, kết quả dự đoán của cây là \n",
    "\n",
    "Đáp án đúng (d) 32\n",
    "\n",
    "Với X=15, thuộc về nhánh X>8, cây dự đoán giá trị trung bình của nhánh cây này. Dữ liệu thuộc nhánh này gồm các giá trị X=10,12, tương ứng với giá tị Y=32,36. Trung bình của các giá trị này là khoảng 32\n"
   ],
   "id": "55dd1bf28525256c"
  },
  {
   "metadata": {},
   "cell_type": "markdown",
   "source": [
    "Câu 7: Kết quả đánh giá MSE của mô hình Random Forest\n",
    "\n",
    "Đáp án đúng:(C)  0.40\n",
    "\n",
    "Trong quá trình đánh giá trên tập validation, mô hình Random Forest đã đạt được giá trị MSE xấp xỉ 0.4 dựa trên các giá trị dự đoán so với nhãn thực tế"
   ],
   "id": "787080e896b17d4c"
  },
  {
   "metadata": {},
   "cell_type": "markdown",
   "source": [
    "Câu 8: Lý do chính của việc sử dụng Bootstrap Dataset trong Random Forest là?\n",
    "\n",
    "Đáp án đúng (d) Tránh Overfitting\n",
    "\n",
    "Bootstrap Sampling là kỹ thuật chọn ngẫu nhiên các mẫu với thay thế từ tập huaasn luyện ban đầu. Mục tiêu chính là giúp giảm overfitting bằng cách tạo ra nhiều cây quyết định độc lập trên các tập dữ liệu khác nhau\n"
   ],
   "id": "439dfb4912594f05"
  },
  {
   "metadata": {},
   "cell_type": "markdown",
   "source": [
    "Câu 9: Từ nào sau đây được dùng để miêu tả số lượng cây trong Random Forest\n",
    "\n",
    "Đáp án đúng: c n_estimators\n",
    "\n",
    "n_estimators là tham số để xác định số lượng cây được sử dụng trong mô hình random forest. giá trị này càng lớn , mô hình càng phức tjap và có khả năng chính xác cao hơn (nhưng cũng tốn nhiều tài nguyên tính toán hơn)\n",
    "\n"
   ],
   "id": "d43284244daf3796"
  },
  {
   "metadata": {},
   "cell_type": "markdown",
   "source": [
    "Câu 10: Trong random Forest, Khái niệm Baggin được hiểu là?\n",
    "\n",
    "Đáp án đúng (a) Bootstrap Aggregating\n",
    "\n",
    "Bagging (Viết tắt của Bootstrap Aggregating) là kỹ thuật tạo nhiều mô hình từ các tập con của dữ liệu ban đầu, sau đó gộp kết quả của chúng lại để đưa ra dự đoán chính xác hơn, giảm sự biến thiên và tránh overfitting"
   ],
   "id": "6eb5d6e4a84f7b0e"
  },
  {
   "metadata": {},
   "cell_type": "markdown",
   "source": [
    "Câu 11: Random forest với max depth = 1\n",
    "\n",
    "Câu 11-a: Giả sử cả hai cây đều tính toán trên toàn bộ dataset trên. Cây 1 chia nhánh với điều kiện x>=2, cây 2 chia nhánh với điều kiện x>=3. Khi đó, kết quả dự đoán của mô hình với x=2 là?\n",
    "\n",
    "Đáp án đúng là (C) 5.0\n",
    "\n",
    "Giá trị trung bình giá trị Y của Cây 1 là $\\frac{4+5+6}{3}=5.0$\n",
    "\n",
    "Giá trị trung bình giá trị Y của Cây 2 là $\\frac{3+4+6}{3}\\approx 4.3$\n",
    "\n",
    "Gía trị dự đoán cuối cùng là trung bình của 2 giá trị trên $\\frac{5.0+4.3}{2}=4.65$\n",
    "\n",
    "Vậy đáp án là (C) 5.0\n",
    "\n",
    "Câu 11-b: Giả sử bộ dữ liệu bootstrap của hai cây lần lượt là :\n",
    "- Cây 1: gồm các mẫu 0,1,2\n",
    "- Cây 2: gồm các mẫu 1,2,3\n",
    "- Cây 1 chia nhánh với điều kiện X>=2, cây 2 chia nhánh với điều kiện X>=3. Khi đó, kết quả dự đoán của mô hình với X=1 là\n",
    "\n",
    "Đáp án đúng là (b) 3.5:\n",
    "\n",
    "- Dự đoán của cây 1 là 3 do chỉ có y=3 \n",
    "- Dự đoán của cây 2 là $\\frac{4+3+6}{3}approx4.3$\n",
    "- Dự đoán cuối cùng là trung bình của hai giá trị trên  $\\frac{3+4.3}{2} = 3.65$ \n"
   ],
   "id": "e2d87ddd6dac136c"
  },
  {
   "metadata": {},
   "cell_type": "markdown",
   "source": [
    "Câu 12: Kết quả đánh giá MAE của mô hình Random Forest\n",
    "\n",
    "Đáp án đúng (C) 0.47 \n",
    "MAE (Mean Absolute Error) là giá trị trung bình cảu sai số tuyệt đối giữa trị dự đoán và giá trị thực tế. Dựa trên kết quả huấn luyện và kiểm tra của mô hình random forest, giá trị MAE trên tập validation xấp xỉ 0.47\n"
   ],
   "id": "39434eec1ad911c5"
  }
 ],
 "metadata": {
  "kernelspec": {
   "display_name": "Python 3",
   "language": "python",
   "name": "python3"
  },
  "language_info": {
   "codemirror_mode": {
    "name": "ipython",
    "version": 2
   },
   "file_extension": ".py",
   "mimetype": "text/x-python",
   "name": "python",
   "nbconvert_exporter": "python",
   "pygments_lexer": "ipython2",
   "version": "2.7.6"
  }
 },
 "nbformat": 4,
 "nbformat_minor": 5
}
