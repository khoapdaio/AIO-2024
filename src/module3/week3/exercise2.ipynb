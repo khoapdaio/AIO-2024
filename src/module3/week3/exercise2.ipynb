{
 "cells": [
  {
   "metadata": {},
   "cell_type": "markdown",
   "source": [
    "## Decision Tree for Regression\n",
    "\n",
    "Với bài toán Regression. Để chọn được thuộc tính tốt phân chia bộ dữ liệu và xây dựng cây, chúng ta sẽ sử dụng độ đo SSE. Độ do Sum of square error được xác định bởi công thức:\n",
    "\n",
    "$SSE(D)= SSE(D_1) +SSE(D_2)$\n",
    "\n",
    "$SSE(D_i)=\\frac{1}{n}\\displaystyle \\sum_{j=1}^{n_i} (x_j - \\overline{x_i})^2 $\n",
    "\n",
    "Trong đó D l tập dữ liệu ban đầu có n phần tử v có thể được phân chia thành 2 tập con là $D_1$ có $n_1$ phần tử và $D_2$ có $n_2$ phần tử. $\\overline{x_i}$ là giá trị trung bình của các phần tử trong tập $D_i$.\n",
    "\n",
    "Để xác định được thuộc tính quan trọng cua cây quyết định chng ta chọn SSE với giá trị cao nhất.\n",
    "\n",
    "| Age | Likes English | Likes AI | Salary |\n",
    "|-----|---------------|----------|--------|\n",
    "|  23 |      0        |     0    | 200    |\n",
    "|  25 |      1        |     1    | 400    |\n",
    "|  27 |      1        |     0    | 300    |\n",
    "|  29 |      0        |     1    | 500    |\n",
    "|  29 |      0        |     0    | 400    |\n",
    "\n",
    "\n",
    "Dựa vào công thức tính và bảng dữ liệu gồm các thuộc tính Age, Likes English, Likes AI và cột gái trị thực tế Salary trả lời các câu hỏi sau đây:\n"
   ],
   "id": "1577929a53dbaff9"
  },
  {
   "metadata": {},
   "cell_type": "markdown",
   "source": [
    "Câu hỏi 9: Tính SSE của bộ dữ liệu khi thuộc tính \"Like AI\" được chọn là node gốc\n",
    "\n",
    "a) SSE(Likes AI)=9167\n",
    "\n",
    "b) SSE(Likes AI)=2500\n",
    "\n",
    "c) SSE(Likes AI)=6667\n",
    "\n",
    "d) SSE(Likes AI)=5000\n",
    "\n",
    "Dựa trên giá trị của Likes AI, chúng ta chia thành dữ liệu thành 2 tập:\n",
    "- Tập 1: Likes AI=0 có 3 mẫu\n",
    "- Tập 2: Likes AI=1 có 2 mẫu\n",
    "\n",
    "ta có SSE cho từng tập con\n",
    "\n",
    "$ SSE_{LikesAI=0}= ((200-300)^2+(300-300)^2+(400-300)^2)\\frac{1}{3}\\approx 6667$\n",
    "\n",
    "$ SSE_{LikesAI=1}= ((400-450)^2+(500-450)^2)\\frac{1}{2}=2500$\n",
    "\n",
    "$SSE_total= SSE_{LikesAI=0}+SSE_{LikesAI=1}=6667+2500=9167$\n",
    "\n",
    "Đáp án là a) SSE(Likes AI) =9167"
   ],
   "id": "f3e404f0589409e3"
  },
  {
   "metadata": {},
   "cell_type": "markdown",
   "source": [
    "Câu hỏi 10 Tính SSE của bộ dữ liệu khi thuộc tính ‘Age' được chọn là node gốc với điều kiện phân\n",
    "chia thành tập D1 và D2 là ‘Age <= 24'?\n",
    "\n",
    "a) SSE(Age <= 24)=3000\n",
    "\n",
    "b) SSE(Age <= 24)=4000\n",
    "\n",
    "c) SSE(Age <= 24)=5000\n",
    "\n",
    "d) SSE(Age <= 24)=6000\n",
    "\n",
    "Với tập D1 Age <= 24 ta có một mẫu , còn với tập D2 Age > 24 ta có 4 mẫu\n",
    "\n",
    "$SSE_{Age<=24}=(200-200)^2=0$\n",
    "\n",
    "$SSE_{Age>24}=((400-400)^2+(300-400)^2+(500-400)^2+(400-400)^2)\\frac{1}{4}=5000$\n",
    "\n",
    "$SSE_total=SSE_{Age<=24}+SSE_{Age>24}=0*5000=5000 $\n",
    "\n",
    "Vậy đáp án là C) SSE(Age<=24)=5000"
   ],
   "id": "123319b3f8927095"
  },
  {
   "metadata": {},
   "cell_type": "markdown",
   "source": [
    "Câu hỏi 11 Sắp xếp các đoạn code phân loại trên bộ dữ liệu CPU Machine dựa vào Decision Tree\n",
    "Regressor:\n",
    "Thứ tự đúng là\n",
    "\n",
    "a) C - B - A - D\n",
    "\n",
    "b) A - B - D - C\n",
    "\n",
    "c) D - C - A - B\n",
    "\n",
    "d) A - C - D - B\n"
   ],
   "id": "c76d0f3804f6fa16"
  },
  {
   "metadata": {
    "ExecuteTime": {
     "end_time": "2024-09-16T02:11:07.784869Z",
     "start_time": "2024-09-16T02:10:53.796951Z"
    }
   },
   "cell_type": "code",
   "source": [
    "from sklearn.datasets import fetch_openml\n",
    "from sklearn.model_selection import train_test_split\n",
    "from sklearn.metrics import mean_squared_error\n",
    "from sklearn.tree import DecisionTreeRegressor\n",
    "\n",
    "# Paragraph C :\n",
    "# Load dataset\n",
    "machine_cpu = fetch_openml(name = 'machine_cpu')\n",
    "machine_data = machine_cpu.data\n",
    "machine_labels = machine_cpu.target\n",
    "# Split train : test = 8:2\n",
    "X_train, X_test, y_train, y_test = train_test_split(\n",
    "\tmachine_data, machine_labels,\n",
    "\ttest_size = 0.2,\n",
    "\trandom_state = 42)\n",
    "\n",
    "# Paragraph B :\n",
    "# Define model\n",
    "tree_reg = DecisionTreeRegressor()\n",
    "\n",
    "# Paragraph A :\n",
    "# Train\n",
    "tree_reg.fit(X_train, y_train)\n",
    "\n",
    "# Paragraph D :\n",
    "# Preidct and evaluate\n",
    "y_pred = tree_reg.predict(X_test)\n",
    "mean_squared_error(y_test, y_pred)\n"
   ],
   "id": "d62eac1a14d071ed",
   "outputs": [
    {
     "name": "stderr",
     "output_type": "stream",
     "text": [
      "C:\\Users\\Khoaddow\\AppData\\Local\\Programs\\Python\\Python312\\Lib\\site-packages\\sklearn\\datasets\\_openml.py:320: UserWarning: Multiple active versions of the dataset matching the name machine_cpu exist. Versions may be fundamentally different, returning version 1. Available versions:\n",
      "- version 1, status: active\n",
      "  url: https://www.openml.org/search?type=data&id=230\n",
      "- version 2, status: active\n",
      "  url: https://www.openml.org/search?type=data&id=733\n",
      "\n",
      "  warn(warning_msg)\n"
     ]
    },
    {
     "data": {
      "text/plain": [
       "9188.41335978836"
      ]
     },
     "execution_count": 1,
     "metadata": {},
     "output_type": "execute_result"
    }
   ],
   "execution_count": 1
  },
  {
   "metadata": {},
   "cell_type": "markdown",
   "source": "Đáp án là A) C-B-A-D",
   "id": "18bfd819875b0f2c"
  },
  {
   "metadata": {
    "ExecuteTime": {
     "end_time": "2024-09-16T01:41:52.942382Z",
     "start_time": "2024-09-16T01:41:52.939797Z"
    }
   },
   "cell_type": "code",
   "source": "",
   "id": "95136f4c7f60e29a",
   "outputs": [],
   "execution_count": null
  }
 ],
 "metadata": {
  "kernelspec": {
   "display_name": "Python 3",
   "language": "python",
   "name": "python3"
  },
  "language_info": {
   "codemirror_mode": {
    "name": "ipython",
    "version": 2
   },
   "file_extension": ".py",
   "mimetype": "text/x-python",
   "name": "python",
   "nbconvert_exporter": "python",
   "pygments_lexer": "ipython2",
   "version": "2.7.6"
  }
 },
 "nbformat": 4,
 "nbformat_minor": 5
}
