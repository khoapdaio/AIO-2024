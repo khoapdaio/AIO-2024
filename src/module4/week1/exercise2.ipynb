{
 "cells": [
  {
   "metadata": {},
   "cell_type": "code",
   "outputs": [],
   "execution_count": null,
   "source": [
    "# dataset\n",
    "import numpy as np\n",
    "import matplotlib.pyplot as plt\n",
    "import random\n",
    "\n",
    "\n",
    "def get_column(data, index):\n",
    "\t# your code here ****************************\n",
    "\tresult = [row[index] for row in data]\n",
    "\treturn result\n",
    "\n",
    "\n",
    "def prepare_data(file_name_dataset):\n",
    "\tdata = np.genfromtxt(file_name_dataset, delimiter = ',', skip_header = 1).tolist()\n",
    "\tN = len(data)\n",
    "\n",
    "\t# get tv ( index =0)\n",
    "\ttv_data = get_column(data, 0)\n",
    "\n",
    "\t# get radio ( index =1)\n",
    "\tradio_data = get_column(data, 1)\n",
    "\n",
    "\t# get newspaper ( index =2)\n",
    "\tnewspaper_data = get_column(data, 2)\n",
    "\n",
    "\t# get sales ( index =3)\n",
    "\tsales_data = get_column(data, 3)\n",
    "\n",
    "\t# building X input and y output for training\n",
    "\tX = [tv_data, radio_data, newspaper_data]\n",
    "\ty = sales_data\n",
    "\treturn X, y"
   ],
   "id": "3c7b4866de7c17d9"
  },
  {
   "metadata": {},
   "cell_type": "code",
   "outputs": [],
   "execution_count": null,
   "source": [
    "# def initialize_params():\n",
    "# \tw1 = random.gauss(mu = 0.0, sigma = 0.01)\n",
    "# \tw2 = random.gauss(mu = 0.0, sigma = 0.01)\n",
    "# \tw3 = random.gauss(mu = 0.0, sigma = 0.01)\n",
    "# \tb = 0\n",
    "# \treturn w1, w2, w3, b\n",
    "\n",
    "def initialize_params():\n",
    "\tw1, w2, w3, b = (0.016992259082509283, 0.0070783670518262355, -0.002307860847821344, 0)\n",
    "\treturn w1, w2, w3, b"
   ],
   "id": "650e97cc9e9a820b"
  },
  {
   "metadata": {},
   "cell_type": "code",
   "outputs": [],
   "execution_count": null,
   "source": [
    "def predict(x1, x2, x3, w1, w2, w3, b):\n",
    "\t# your code here ****************************\n",
    "\tresult = x1 * w1 + x2 * w2 + x3 * w3 + b\n",
    "\treturn result"
   ],
   "id": "daa20d4f82f63208"
  },
  {
   "metadata": {},
   "cell_type": "code",
   "outputs": [],
   "execution_count": null,
   "source": [
    "y_ex = predict(x1 = 1, x2 = 1, x3 = 1, w1 = 0, w2 = 0.5, w3 = 0, b = 0.5)\n",
    "print(y_ex)"
   ],
   "id": "1824eeb2f793b1a1"
  },
  {
   "metadata": {},
   "cell_type": "code",
   "outputs": [],
   "execution_count": null,
   "source": [
    "def compute_loss(y_hat, y):\n",
    "\tloss = (y_hat - y) ** 2\n",
    "\treturn loss"
   ],
   "id": "3bb04a673e0ab791"
  },
  {
   "metadata": {},
   "cell_type": "code",
   "outputs": [],
   "execution_count": null,
   "source": [
    "l = compute_loss(y_hat = 1, y = 0.5)\n",
    "print(l)"
   ],
   "id": "1fa4ed58db6ad20b"
  },
  {
   "metadata": {},
   "cell_type": "code",
   "outputs": [],
   "execution_count": null,
   "source": [
    "def compute_loss_mse(y_hat, y):\n",
    "\tloss = (y_hat - y) ** 2\n",
    "\treturn loss"
   ],
   "id": "28d547d35f716e38"
  },
  {
   "metadata": {},
   "cell_type": "code",
   "outputs": [],
   "execution_count": null,
   "source": [
    "# compute gradient\n",
    "def compute_gradient_wi(xi, y, y_hat):\n",
    "\t# your code here ****************************\n",
    "\tdl_dwi = 2 * xi * (y_hat - y)\n",
    "\treturn dl_dwi\n",
    "\n",
    "\n",
    "def compute_gradient_b(y, y_hat):\n",
    "\t# your code here ****************************\n",
    "\tdl_db = 2 * (y_hat - y)\n",
    "\treturn dl_db"
   ],
   "id": "7b43ff5b2a2caa"
  },
  {
   "metadata": {},
   "cell_type": "code",
   "outputs": [],
   "execution_count": null,
   "source": [
    "g_wi = compute_gradient_wi(xi = 1.0, y = 1.0, y_hat = 0.5)\n",
    "print(g_wi)"
   ],
   "id": "523098e04d289455"
  },
  {
   "metadata": {},
   "cell_type": "code",
   "outputs": [],
   "execution_count": null,
   "source": [
    "g_b = compute_gradient_b(y = 2.0, y_hat = 0.5)\n",
    "print(g_b)"
   ],
   "id": "d3dfb60bb25cab7e"
  },
  {
   "metadata": {},
   "cell_type": "code",
   "outputs": [],
   "execution_count": null,
   "source": [
    "# update weights\n",
    "def update_weight_wi(wi, dl_dwi, lr):\n",
    "\t# your code here ****************************\n",
    "\twi = wi - lr * dl_dwi\n",
    "\treturn wi\n",
    "\n",
    "\n",
    "def update_weight_b(b, dl_db, lr):\n",
    "\t# your code here ****************************\n",
    "\tb = b - lr * dl_db\n",
    "\treturn b"
   ],
   "id": "4593ef907e5f343f"
  },
  {
   "metadata": {},
   "cell_type": "code",
   "outputs": [],
   "execution_count": null,
   "source": [
    "after_wi = update_weight_wi(wi = 1.0, dl_dwi = -0.5, lr = 1e-5)\n",
    "print(after_wi)"
   ],
   "id": "95d5399733c7a135"
  },
  {
   "metadata": {},
   "cell_type": "code",
   "outputs": [],
   "execution_count": null,
   "source": [
    "after_b = update_weight_b(b = 0.5, dl_db = -1.0, lr = 1e-5)\n",
    "print(after_b)\n",
    "print(after_wi)"
   ],
   "id": "ab0c1352e5c7373d"
  },
  {
   "cell_type": "code",
   "execution_count": null,
   "id": "initial_id",
   "metadata": {
    "collapsed": true
   },
   "outputs": [],
   "source": [
    "def implement_linear_regression(X_data, y_data, epoch_max = 50, lr = 1e-5):\n",
    "\tlosses = []\n",
    "\tw1, w2, w3, b = initialize_params()\n",
    "\n",
    "\tN = len(y_data)\n",
    "\tfor epoch in range(epoch_max):\n",
    "\t\tfor i in range(N):\n",
    "\t\t\t# get a sample\n",
    "\t\t\tx1 = X_data[0][i]\n",
    "\t\t\tx2 = X_data[1][i]\n",
    "\t\t\tx3 = X_data[2][i]\n",
    "\n",
    "\t\t\ty = y_data[i]\n",
    "\n",
    "\t\t\t# compute output\n",
    "\t\t\ty_hat = predict(x1, x2, x3, w1, w2, w3, b)\n",
    "\n",
    "\t\t\t# compute loss\n",
    "\t\t\tloss = compute_loss(y, y_hat)\n",
    "\n",
    "\t\t\t# compute gradient w1 , w2 , w3 , b\n",
    "\t\t\tdl_dw1 = compute_gradient_wi(x1, y, y_hat)\n",
    "\t\t\tdl_dw2 = compute_gradient_wi(x2, y, y_hat)\n",
    "\t\t\tdl_dw3 = compute_gradient_wi(x3, y, y_hat)\n",
    "\t\t\tdl_db = compute_gradient_b(y, y_hat)\n",
    "\n",
    "\t\t\t# update parameters\n",
    "\t\t\tw1 = update_weight_wi(w1, dl_dw1, lr)\n",
    "\t\t\tw2 = update_weight_wi(w2, dl_dw2, lr)\n",
    "\t\t\tw3 = update_weight_wi(w3, dl_dw3, lr)\n",
    "\t\t\tb = update_weight_b(b, dl_db, lr)\n",
    "\n",
    "\t\t\t# logging\n",
    "\t\t\tlosses.append(loss)\n",
    "\treturn (w1, w2, w3, b, losses)"
   ]
  },
  {
   "metadata": {},
   "cell_type": "code",
   "outputs": [],
   "execution_count": null,
   "source": [
    "(w1, w2, w3, b, losses) = implement_linear_regression(X, y)\n",
    "plt.plot(losses[:100])\n",
    "plt.xlabel(\"#iteration\")\n",
    "plt.ylabel(\"Loss\")\n",
    "plt.show()"
   ],
   "id": "2328767549e6388b"
  },
  {
   "metadata": {},
   "cell_type": "code",
   "outputs": [],
   "execution_count": null,
   "source": [
    "X, y = prepare_data('../../../data/module4/week1/advertising.csv')\n",
    "\n",
    "(w1, w2, w3, b, losses) = implement_linear_regression(X, y)\n",
    "print(w1, w2, w3)"
   ],
   "id": "d4e0d5c179567441"
  },
  {
   "metadata": {},
   "cell_type": "code",
   "outputs": [],
   "execution_count": null,
   "source": [
    "X, y = prepare_data('../../../data/module4/week1/advertising.csv')\n",
    "tv = 19.2\n",
    "radio = 35.9\n",
    "newspaper = 51.3\n",
    "(w1, w2, w3, b, losses) = implement_linear_regression(X, y, epoch_max = 50, lr = 1e-5)\n",
    "sales = predict(tv, radio, newspaper, w1, w2, w3, b)\n",
    "print(f'predicted sales is {sales}')"
   ],
   "id": "10bdcfe46fb384ad"
  },
  {
   "metadata": {},
   "cell_type": "code",
   "outputs": [],
   "execution_count": null,
   "source": [
    "def compute_loss_mae(y, y_hat):\n",
    "\treturn np.abs(y_hat - y)\n",
    "\n",
    "\n",
    "l = compute_loss_mae(y_hat = 1, y = 0.5)\n",
    "print(l)"
   ],
   "id": "f7c9d563e62be84f"
  }
 ],
 "metadata": {
  "kernelspec": {
   "display_name": "Python 3",
   "language": "python",
   "name": "python3"
  },
  "language_info": {
   "codemirror_mode": {
    "name": "ipython",
    "version": 2
   },
   "file_extension": ".py",
   "mimetype": "text/x-python",
   "name": "python",
   "nbconvert_exporter": "python",
   "pygments_lexer": "ipython2",
   "version": "2.7.6"
  }
 },
 "nbformat": 4,
 "nbformat_minor": 5
}
