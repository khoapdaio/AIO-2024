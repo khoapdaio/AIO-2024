{
 "cells": [
  {
   "cell_type": "code",
   "id": "initial_id",
   "metadata": {
    "collapsed": true,
    "ExecuteTime": {
     "end_time": "2024-10-04T02:10:18.213473Z",
     "start_time": "2024-10-04T02:10:18.207441Z"
    }
   },
   "source": [
    "# dataset\n",
    "import numpy as np\n",
    "import matplotlib.pyplot as plt\n",
    "import random\n",
    "\n",
    "\n",
    "def get_column(data, index):\n",
    "\t# your code here ****************************\n",
    "\tresult = [row[index] for row in data]\n",
    "\treturn result\n",
    "\n",
    "\n",
    "def prepare_data(file_name_dataset):\n",
    "\tdata = np.genfromtxt(file_name_dataset, delimiter = ',', skip_header = 1).tolist()\n",
    "\tN = len(data)\n",
    "\n",
    "\t# get tv ( index =0)\n",
    "\ttv_data = get_column(data, 0)\n",
    "\n",
    "\t# get radio ( index =1)\n",
    "\tradio_data = get_column(data, 1)\n",
    "\n",
    "\t# get newspaper ( index =2)\n",
    "\tnewspaper_data = get_column(data, 2)\n",
    "\n",
    "\t# get sales ( index =3)\n",
    "\tsales_data = get_column(data, 3)\n",
    "\n",
    "\t# building X input and y output for training\n",
    "\tX = [tv_data, radio_data, newspaper_data]\n",
    "\ty = sales_data\n",
    "\treturn X, y"
   ],
   "outputs": [],
   "execution_count": 80
  },
  {
   "metadata": {
    "ExecuteTime": {
     "end_time": "2024-10-04T01:02:11.683889Z",
     "start_time": "2024-10-04T01:02:11.676909Z"
    }
   },
   "cell_type": "code",
   "source": [
    "X, y = prepare_data('../../../data/module4/week1/advertising.csv')\n",
    "list_head = [sum(X[0][:5]), sum(X[1][:5]), sum(X[2][:5]), sum(y[:5])]\n",
    "print(list_head)"
   ],
   "id": "70b6420971135c57",
   "outputs": [
    {
     "name": "stdout",
     "output_type": "stream",
     "text": [
      "[624.1, 175.1, 300.5, 78.9]\n"
     ]
    }
   ],
   "execution_count": 20
  }
 ],
 "metadata": {
  "kernelspec": {
   "display_name": "Python 3",
   "language": "python",
   "name": "python3"
  },
  "language_info": {
   "codemirror_mode": {
    "name": "ipython",
    "version": 2
   },
   "file_extension": ".py",
   "mimetype": "text/x-python",
   "name": "python",
   "nbconvert_exporter": "python",
   "pygments_lexer": "ipython2",
   "version": "2.7.6"
  }
 },
 "nbformat": 4,
 "nbformat_minor": 5
}
