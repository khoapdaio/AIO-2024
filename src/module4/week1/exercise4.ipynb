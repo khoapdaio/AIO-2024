{
 "cells": [
  {
   "metadata": {
    "ExecuteTime": {
     "end_time": "2024-10-04T02:19:03.959892Z",
     "start_time": "2024-10-04T02:19:03.329375Z"
    }
   },
   "cell_type": "code",
   "source": [
    "# dataset\n",
    "import numpy as np\n",
    "import matplotlib.pyplot as plt\n",
    "import random\n",
    "\n",
    "\n",
    "def get_column(data, index):\n",
    "\t# your code here ****************************\n",
    "\tresult = [row[index] for row in data]\n",
    "\treturn result\n",
    "\n"
   ],
   "id": "74e9c56a7cadf6d3",
   "outputs": [],
   "execution_count": 1
  },
  {
   "metadata": {
    "ExecuteTime": {
     "end_time": "2024-10-04T02:19:04.633643Z",
     "start_time": "2024-10-04T02:19:04.629671Z"
    }
   },
   "cell_type": "code",
   "source": [
    "def initialize_params():\n",
    "\tbias = 0\n",
    "\tw1 = random.gauss(mu = 0.0, sigma = 0.01)\n",
    "\tw2 = random.gauss(mu = 0.0, sigma = 0.01)\n",
    "\tw3 = random.gauss(mu = 0.0, sigma = 0.01)\n",
    "\n",
    "\t# comment this line for real application\n",
    "\treturn [0, -0.01268850433497871, 0.004752496982185252, 0.0073796171538643845]\n",
    "\n",
    "# return [bias , w1 , w2 , w3]"
   ],
   "id": "9ebbf4abdfbbe300",
   "outputs": [],
   "execution_count": 2
  },
  {
   "cell_type": "code",
   "id": "initial_id",
   "metadata": {
    "collapsed": true,
    "ExecuteTime": {
     "end_time": "2024-10-04T02:19:06.198436Z",
     "start_time": "2024-10-04T02:19:06.194247Z"
    }
   },
   "source": [
    "def prepare_data(file_name_dataset):\n",
    "\tdata = np.genfromtxt(file_name_dataset, delimiter = ',', skip_header = 1).tolist()\n",
    "\n",
    "\t# get tv ( index =0)\n",
    "\ttv_data = get_column(data, 0)\n",
    "\n",
    "\t# get radio ( index =1)\n",
    "\tradio_data = get_column(data, 1)\n",
    "\n",
    "\t# get newspaper ( index =2)\n",
    "\tnewspaper_data = get_column(data, 2)\n",
    "\n",
    "\t# get sales ( index =3)\n",
    "\tsales_data = get_column(data, 3)\n",
    "\n",
    "\t# building X input and y output for training\n",
    "\t# Create list of features for input\n",
    "\tX = [[1, x1, x2, x3] for x1, x2, x3 in zip(tv_data, radio_data, newspaper_data)]\n",
    "\ty = sales_data\n",
    "\treturn X, y"
   ],
   "outputs": [],
   "execution_count": 3
  },
  {
   "metadata": {
    "ExecuteTime": {
     "end_time": "2024-10-04T02:19:07.533715Z",
     "start_time": "2024-10-04T02:19:07.528174Z"
    }
   },
   "cell_type": "code",
   "source": [
    "# Predict output by using y = x0*b + x1*w1 + x2*w2 + x3*w3\n",
    "\n",
    "def predict(X_features, weights):\n",
    "\t# your code here ......\n",
    "\tresult = sum([x * w for x, w in zip(X_features, weights)])\n",
    "\treturn result\n",
    "\n",
    "\n",
    "def compute_loss(y_hat, y):\n",
    "\ty_hat = np.array(y_hat)\n",
    "\ty = np.array(y)\n",
    "\treturn ((y_hat - y) ** 2).tolist()\n",
    "\n",
    "\n",
    "# compute gradient\n",
    "\n",
    "\n",
    "def compute_gradient_w(X_features, y, y_hat):\n",
    "\t# your code here ......\n",
    "\ty_hat = np.array(y_hat)\n",
    "\ty = np.array(y)\n",
    "\tX_features = np.array(X_features)\n",
    "\n",
    "\tdl_dweights = 2 * X_features.dot(y_hat - y)\n",
    "\treturn dl_dweights.tolist()\n",
    "\n",
    "\n",
    "# update weights\n",
    "def update_weight(weights, dl_dweights, lr):\n",
    "\t# your code here ......\n",
    "\tweights = np.array(weights)\n",
    "\tdl_dweights = np.array(dl_dweights)\n",
    "\tweights -= lr * dl_dweights\n",
    "\treturn weights.tolist()"
   ],
   "id": "74b188a64e81e56a",
   "outputs": [],
   "execution_count": 4
  },
  {
   "metadata": {
    "ExecuteTime": {
     "end_time": "2024-10-04T02:19:10.420246Z",
     "start_time": "2024-10-04T02:19:10.172576Z"
    }
   },
   "cell_type": "code",
   "source": [
    "def implement_linear_regression(X_feature, y_ouput, epoch_max = 50, lr = 1e-5):\n",
    "\tlosses = []\n",
    "\tweights = initialize_params()\n",
    "\tN = len(y_ouput)\n",
    "\tfor epoch in range(epoch_max):\n",
    "\t\tprint(\" epoch \", epoch)\n",
    "\t\tfor i in range(N):\n",
    "\t\t\t# get a sample - row i\n",
    "\t\t\tfeatures_i = X_feature[i]\n",
    "\t\t\ty = y_ouput[i]\n",
    "\n",
    "\t\t\t# compute output\n",
    "\t\t\ty_hat = predict(features_i, weights)\n",
    "\n",
    "\t\t\t# compute loss\n",
    "\t\t\tloss = compute_loss(y, y_hat)\n",
    "\n",
    "\t\t\t# compute gradient w1 , w2 , w3 , b\n",
    "\t\t\tdl_dweights = compute_gradient_w(features_i, y, y_hat)\n",
    "\n",
    "\t\t\t# update parameters\n",
    "\t\t\tweights = update_weight(weights, dl_dweights, lr)\n",
    "\n",
    "\t\t\t# logging\n",
    "\t\t\tlosses.append(loss)\n",
    "\treturn weights, losses\n",
    "\n",
    "\n",
    "X, y = prepare_data('../../../data/module4/week1/advertising.csv')\n",
    "W, L = implement_linear_regression(X, y)\n",
    "plt.plot(L[0:100])\n",
    "plt.xlabel(\"# iteration \")\n",
    "plt.ylabel(\" Loss \")\n",
    "plt.show()"
   ],
   "id": "146f0c253bc64bf6",
   "outputs": [
    {
     "name": "stdout",
     "output_type": "stream",
     "text": [
      " epoch  0\n",
      " epoch  1\n",
      " epoch  2\n",
      " epoch  3\n",
      " epoch  4\n",
      " epoch  5\n",
      " epoch  6\n",
      " epoch  7\n",
      " epoch  8\n",
      " epoch  9\n",
      " epoch  10\n",
      " epoch  11\n",
      " epoch  12\n",
      " epoch  13\n",
      " epoch  14\n",
      " epoch  15\n",
      " epoch  16\n",
      " epoch  17\n",
      " epoch  18\n",
      " epoch  19\n",
      " epoch  20\n",
      " epoch  21\n",
      " epoch  22\n",
      " epoch  23\n",
      " epoch  24\n",
      " epoch  25\n",
      " epoch  26\n",
      " epoch  27\n",
      " epoch  28\n",
      " epoch  29\n",
      " epoch  30\n",
      " epoch  31\n",
      " epoch  32\n",
      " epoch  33\n",
      " epoch  34\n",
      " epoch  35\n",
      " epoch  36\n",
      " epoch  37\n",
      " epoch  38\n",
      " epoch  39\n",
      " epoch  40\n",
      " epoch  41\n",
      " epoch  42\n",
      " epoch  43\n",
      " epoch  44\n",
      " epoch  45\n",
      " epoch  46\n",
      " epoch  47\n",
      " epoch  48\n",
      " epoch  49\n"
     ]
    },
    {
     "data": {
      "text/plain": [
       "<Figure size 640x480 with 1 Axes>"
      ],
      "image/png": "[encoded data removed]"
     },
     "metadata": {},
     "output_type": "display_data"
    }
   ],
   "execution_count": 5
  },
  {
   "metadata": {
    "ExecuteTime": {
     "end_time": "2024-10-04T02:19:13.742291Z",
     "start_time": "2024-10-04T02:19:13.619649Z"
    }
   },
   "cell_type": "code",
   "source": [
    "W , L = implement_linear_regression (X , y , epoch_max =50 , lr =1e-5)\n",
    "# Print loss value at iteration 9999\n",
    "print ( L [9999])"
   ],
   "id": "f916614ef52ff84c",
   "outputs": [
    {
     "name": "stdout",
     "output_type": "stream",
     "text": [
      " epoch  0\n",
      " epoch  1\n",
      " epoch  2\n",
      " epoch  3\n",
      " epoch  4\n",
      " epoch  5\n",
      " epoch  6\n",
      " epoch  7\n",
      " epoch  8\n",
      " epoch  9\n",
      " epoch  10\n",
      " epoch  11\n",
      " epoch  12\n",
      " epoch  13\n",
      " epoch  14\n",
      " epoch  15\n",
      " epoch  16\n",
      " epoch  17\n",
      " epoch  18\n",
      " epoch  19\n",
      " epoch  20\n",
      " epoch  21\n",
      " epoch  22\n",
      " epoch  23\n",
      " epoch  24\n",
      " epoch  25\n",
      " epoch  26\n",
      " epoch  27\n",
      " epoch  28\n",
      " epoch  29\n",
      " epoch  30\n",
      " epoch  31\n",
      " epoch  32\n",
      " epoch  33\n",
      " epoch  34\n",
      " epoch  35\n",
      " epoch  36\n",
      " epoch  37\n",
      " epoch  38\n",
      " epoch  39\n",
      " epoch  40\n",
      " epoch  41\n",
      " epoch  42\n",
      " epoch  43\n",
      " epoch  44\n",
      " epoch  45\n",
      " epoch  46\n",
      " epoch  47\n",
      " epoch  48\n",
      " epoch  49\n",
      "31.339223408109927\n"
     ]
    }
   ],
   "execution_count": 6
  }
 ],
 "metadata": {
  "kernelspec": {
   "display_name": "Python 3",
   "language": "python",
   "name": "python3"
  },
  "language_info": {
   "codemirror_mode": {
    "name": "ipython",
    "version": 2
   },
   "file_extension": ".py",
   "mimetype": "text/x-python",
   "name": "python",
   "nbconvert_exporter": "python",
   "pygments_lexer": "ipython2",
   "version": "2.7.6"
  }
 },
 "nbformat": 4,
 "nbformat_minor": 5
}
